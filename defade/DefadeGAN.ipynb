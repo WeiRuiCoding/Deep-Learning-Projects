{
 "cells": [
  {
   "cell_type": "code",
   "execution_count": 1,
   "metadata": {},
   "outputs": [],
   "source": [
    "%matplotlib inline\n",
    "%reload_ext autoreload\n",
    "%autoreload 2"
   ]
  },
  {
   "cell_type": "code",
   "execution_count": 2,
   "metadata": {},
   "outputs": [],
   "source": [
    "import multiprocessing\n",
    "from torch import autograd\n",
    "from fastai.conv_learner import *\n",
    "from fastai.transforms import TfmType\n",
    "from fasterai.transforms import *\n",
    "from fasterai.images import *\n",
    "from fasterai.dataset import *\n",
    "from fasterai.visualize import *\n",
    "from fasterai.callbacks import *\n",
    "from fasterai.loss import *\n",
    "from fasterai.modules import *\n",
    "from fasterai.training import *\n",
    "from fasterai.generators import *\n",
    "from fastai.torch_imports import *\n",
    "from pathlib import Path\n",
    "from itertools import repeat\n",
    "import tensorboardX\n",
    "torch.cuda.set_device(3)\n",
    "plt.style.use('dark_background')\n",
    "torch.backends.cudnn.benchmark=True\n"
   ]
  },
  {
   "cell_type": "code",
   "execution_count": 3,
   "metadata": {},
   "outputs": [],
   "source": [
    "IMAGENET = Path('data/imagenet/ILSVRC/Data/CLS-LOC/train')\n",
    "OPENIMAGES = Path('data/openimages')\n",
    "CIFAR10 = Path('data/cifar10/train')\n",
    "\n",
    "proj_id = 'defade2'\n",
    "TENSORBOARD_PATH = Path('data/tensorboard/' + proj_id)\n",
    "\n",
    "#gpath = IMAGENET.parent/('bwc_withattn_sn_supertrain_retry_gen_96.h5')\n",
    "#dpath = IMAGENET.parent/('bwc_withattn_sn_supertrain_retry_critic_96.h5')\n",
    "\n",
    "c_lr=5e-4\n",
    "c_lrs = np.array([c_lr,c_lr,c_lr])\n",
    "\n",
    "g_lr=c_lr/5\n",
    "g_lrs = np.array([g_lr/1000,g_lr/100,g_lr])\n",
    "\n",
    "keep_pcts=[0.25,0.25]\n",
    "gen_freeze_tos=[-1,0]\n",
    "\n",
    "sn=True\n",
    "self_attention=sn\n",
    "lrs_unfreeze_factor=1.0\n",
    "\n",
    "x_tfms = [RandomLighting(0.5, 0.5)]\n",
    "extra_aug_tfms = []\n",
    "torch.backends.cudnn.benchmark=True"
   ]
  },
  {
   "cell_type": "markdown",
   "metadata": {},
   "source": [
    "## Training"
   ]
  },
  {
   "cell_type": "code",
   "execution_count": 4,
   "metadata": {},
   "outputs": [],
   "source": [
    "netG = Unet34(nf_factor=2).cuda()\n",
    "#netGVis = ModelVisualizationHook(TENSORBOARD_PATH, netG, 'netG')\n",
    "#load_model(netG, gpath)\n",
    "\n",
    "netD = DCCritic(ni=3, nf=512, scale=16, self_attention=self_attention, sn=sn).cuda()\n",
    "#netDVis = ModelVisualizationHook(TENSORBOARD_PATH, netD, 'netD')\n",
    "#load_model(netD, dpath)"
   ]
  },
  {
   "cell_type": "code",
   "execution_count": 5,
   "metadata": {},
   "outputs": [],
   "source": [
    "trainer = GANTrainer(netD=netD, netG=netG, genloss_fns=[FeatureLoss(multiplier=1e2)])\n",
    "trainerVis = GANVisualizationHook(TENSORBOARD_PATH, trainer, 'trainer', jupyter=False, visual_iters=100)"
   ]
  },
  {
   "cell_type": "code",
   "execution_count": 6,
   "metadata": {},
   "outputs": [],
   "source": [
    "scheds=[]\n",
    "\n",
    "scheds.extend(GANTrainSchedule.generate_schedules(szs=[64,64], bss=[32,32], path=IMAGENET, x_tfms=x_tfms, extra_aug_tfms=extra_aug_tfms,keep_pcts=keep_pcts, \n",
    "    save_base_name=proj_id, c_lrs=c_lrs, g_lrs=g_lrs, lrs_unfreeze_factor=lrs_unfreeze_factor, gen_freeze_tos=gen_freeze_tos))\n",
    "\n",
    "#unshock\n",
    "scheds.extend(GANTrainSchedule.generate_schedules(szs=[96], bss=[16], path=IMAGENET, x_tfms=x_tfms, extra_aug_tfms=extra_aug_tfms, keep_pcts=[0.1], \n",
    "    save_base_name=proj_id, c_lrs=c_lrs/20, g_lrs=g_lrs/20, lrs_unfreeze_factor=lrs_unfreeze_factor, gen_freeze_tos=[-1]))\n",
    "\n",
    "scheds.extend(GANTrainSchedule.generate_schedules(szs=[96,96], bss=[16,16], path=IMAGENET, x_tfms=x_tfms, extra_aug_tfms=extra_aug_tfms, keep_pcts=keep_pcts, \n",
    "    save_base_name=proj_id, c_lrs=c_lrs/2, g_lrs=g_lrs/2, lrs_unfreeze_factor=lrs_unfreeze_factor, gen_freeze_tos=gen_freeze_tos))\n",
    "\n",
    "\n",
    "\n",
    "#unshock\n",
    "scheds.extend(GANTrainSchedule.generate_schedules(szs=[128], bss=[12], path=IMAGENET, x_tfms=x_tfms, extra_aug_tfms=extra_aug_tfms, keep_pcts=[0.1], \n",
    "    save_base_name=proj_id, c_lrs=c_lrs/30, g_lrs=g_lrs/30, lrs_unfreeze_factor=lrs_unfreeze_factor, gen_freeze_tos=[-1]))\n",
    "\n",
    "scheds.extend(GANTrainSchedule.generate_schedules(szs=[128,128], bss=[12,12], path=IMAGENET, x_tfms=x_tfms, extra_aug_tfms=extra_aug_tfms, keep_pcts=keep_pcts, \n",
    "    save_base_name=proj_id, c_lrs=c_lrs/3, g_lrs=g_lrs/3, lrs_unfreeze_factor=lrs_unfreeze_factor, gen_freeze_tos=gen_freeze_tos))\n",
    "\n",
    "\n",
    "#unshock\n",
    "scheds.extend(GANTrainSchedule.generate_schedules(szs=[192], bss=[4], path=IMAGENET, x_tfms=x_tfms, extra_aug_tfms=extra_aug_tfms, keep_pcts=[0.1], \n",
    "    save_base_name=proj_id, c_lrs=c_lrs/80, g_lrs=g_lrs/80, lrs_unfreeze_factor=lrs_unfreeze_factor, gen_freeze_tos=[-1]))\n",
    "\n",
    "scheds.extend(GANTrainSchedule.generate_schedules(szs=[192], bss=[4], path=IMAGENET, x_tfms=x_tfms, extra_aug_tfms=extra_aug_tfms, keep_pcts=[0.25], \n",
    "    save_base_name=proj_id, c_lrs=c_lrs/8, g_lrs=g_lrs/8, lrs_unfreeze_factor=lrs_unfreeze_factor, gen_freeze_tos=[-1]))\n",
    "\n",
    "scheds.extend(GANTrainSchedule.generate_schedules(szs=[192], bss=[4], path=IMAGENET, x_tfms=x_tfms, extra_aug_tfms=extra_aug_tfms, keep_pcts=[0.25], \n",
    "    save_base_name=proj_id, c_lrs=c_lrs/16, g_lrs=g_lrs/16, lrs_unfreeze_factor=lrs_unfreeze_factor, gen_freeze_tos=[0]))\n",
    "\n",
    "\n",
    "\n",
    "#unshock\n",
    "scheds.extend(GANTrainSchedule.generate_schedules(szs=[256], bss=[2], path=IMAGENET, x_tfms=x_tfms, extra_aug_tfms=extra_aug_tfms, keep_pcts=[0.1], \n",
    "    save_base_name=proj_id, c_lrs=c_lrs/160, g_lrs=g_lrs/160, lrs_unfreeze_factor=lrs_unfreeze_factor, gen_freeze_tos=[-1]))\n",
    "\n",
    "scheds.extend(GANTrainSchedule.generate_schedules(szs=[256], bss=[2], path=IMAGENET, x_tfms=x_tfms, extra_aug_tfms=extra_aug_tfms, keep_pcts=[0.25], \n",
    "    save_base_name=proj_id, c_lrs=c_lrs/16, g_lrs=g_lrs/16, lrs_unfreeze_factor=lrs_unfreeze_factor, gen_freeze_tos=[-1]))\n",
    "\n",
    "scheds.extend(GANTrainSchedule.generate_schedules(szs=[256], bss=[2], path=IMAGENET, x_tfms=x_tfms, extra_aug_tfms=extra_aug_tfms, keep_pcts=[0.25], \n",
    "    save_base_name=proj_id, c_lrs=c_lrs/32, g_lrs=g_lrs/32, lrs_unfreeze_factor=lrs_unfreeze_factor, gen_freeze_tos=[0]))"
   ]
  },
  {
   "cell_type": "code",
   "execution_count": null,
   "metadata": {},
   "outputs": [
    {
     "name": "stdout",
     "output_type": "stream",
     "text": [
      " 37%|███▋      | 2698/7211 [29:02<40:25,  1.86it/s]\n",
      "WDist 2.2591381072998047; RScore 1.037082314491272; FScore 1.2220557928085327; GAddlLoss [2.03693]; Iters: 10970; GCost: -0.0029984000138938427; GPenalty: [0]; ConPenalty: [0]\n",
      " 38%|███▊      | 2718/7211 [29:13<40:22,  1.85it/s]\n",
      "WDist 2.128546714782715; RScore 1.3097983598709106; FScore 0.818748414516449; GAddlLoss [2.12988]; Iters: 10980; GCost: -0.025681592524051666; GPenalty: [0]; ConPenalty: [0]\n",
      " 38%|███▊      | 2738/7211 [29:33<41:05,  1.81it/s]\n",
      "WDist 2.00516414642334; RScore 1.008238673210144; FScore 0.9969255924224854; GAddlLoss [2.01165]; Iters: 10990; GCost: 0.07976702600717545; GPenalty: [0]; ConPenalty: [0]\n",
      " 38%|███▊      | 2758/7211 [29:45<40:51,  1.82it/s]\n",
      "WDist 1.8579862117767334; RScore 1.0042669773101807; FScore 0.853719174861908; GAddlLoss [2.28213]; Iters: 11000; GCost: 0.07185167819261551; GPenalty: [0]; ConPenalty: [0]\n",
      " 39%|███▊      | 2778/7211 [33:41<42:31,  1.74it/s]\n",
      "WDist 1.9175690412521362; RScore 1.0232429504394531; FScore 0.8943260908126831; GAddlLoss [2.11924]; Iters: 11010; GCost: 0.02898961305618286; GPenalty: [0]; ConPenalty: [0]\n",
      " 39%|███▉      | 2798/7211 [33:52<37:19,  1.97it/s]\n",
      "WDist 2.126141309738159; RScore 1.1363286972045898; FScore 0.9898125529289246; GAddlLoss [2.31324]; Iters: 11020; GCost: 0.051706209778785706; GPenalty: [0]; ConPenalty: [0]\n",
      " 39%|███▉      | 2818/7211 [34:03<36:38,  2.00it/s]\n",
      "WDist 1.932358741760254; RScore 1.1558858156204224; FScore 0.7764728665351868; GAddlLoss [2.08966]; Iters: 11030; GCost: 0.002145943231880665; GPenalty: [0]; ConPenalty: [0]\n",
      " 39%|███▉      | 2838/7211 [34:14<36:48,  1.98it/s]\n",
      "WDist 2.008115768432617; RScore 1.104874849319458; FScore 0.9032410383224487; GAddlLoss [1.87376]; Iters: 11040; GCost: 0.07954462617635727; GPenalty: [0]; ConPenalty: [0]\n",
      " 40%|███▉      | 2858/7211 [34:24<36:14,  2.00it/s]\n",
      "WDist 1.9822802543640137; RScore 0.9642975330352783; FScore 1.0179827213287354; GAddlLoss [2.41778]; Iters: 11050; GCost: 0.11690633744001389; GPenalty: [0]; ConPenalty: [0]\n",
      " 40%|███▉      | 2878/7211 [34:35<35:57,  2.01it/s]\n",
      "WDist 1.8195960521697998; RScore 1.121244192123413; FScore 0.6983519196510315; GAddlLoss [1.80342]; Iters: 11060; GCost: 0.38998687267303467; GPenalty: [0]; ConPenalty: [0]\n",
      " 40%|████      | 2898/7211 [34:49<37:01,  1.94it/s]\n",
      "WDist 1.8481113910675049; RScore 1.1178383827209473; FScore 0.7302730083465576; GAddlLoss [2.22708]; Iters: 11070; GCost: 0.05532459169626236; GPenalty: [0]; ConPenalty: [0]\n",
      " 40%|████      | 2918/7211 [34:59<36:11,  1.98it/s]\n",
      "WDist 1.9243206977844238; RScore 0.9781979322433472; FScore 0.9461228251457214; GAddlLoss [2.06797]; Iters: 11080; GCost: -0.0032999657560139894; GPenalty: [0]; ConPenalty: [0]\n",
      " 41%|████      | 2938/7211 [35:10<36:08,  1.97it/s]\n",
      "WDist 2.080415725708008; RScore 1.2117189168930054; FScore 0.8686966896057129; GAddlLoss [2.30098]; Iters: 11090; GCost: 0.2394087314605713; GPenalty: [0]; ConPenalty: [0]\n",
      " 41%|████      | 2944/7211 [35:13<36:46,  1.93it/s]"
     ]
    }
   ],
   "source": [
    "trainer.train(scheds=scheds)"
   ]
  },
  {
   "cell_type": "code",
   "execution_count": null,
   "metadata": {},
   "outputs": [],
   "source": []
  }
 ],
 "metadata": {
  "kernelspec": {
   "display_name": "Python 3",
   "language": "python",
   "name": "python3"
  },
  "language_info": {
   "codemirror_mode": {
    "name": "ipython",
    "version": 3
   },
   "file_extension": ".py",
   "mimetype": "text/x-python",
   "name": "python",
   "nbconvert_exporter": "python",
   "pygments_lexer": "ipython3",
   "version": "3.6.5"
  },
  "toc": {
   "colors": {
    "hover_highlight": "#DAA520",
    "navigate_num": "#000000",
    "navigate_text": "#333333",
    "running_highlight": "#FF0000",
    "selected_highlight": "#FFD700",
    "sidebar_border": "#EEEEEE",
    "wrapper_background": "#FFFFFF"
   },
   "moveMenuLeft": true,
   "nav_menu": {
    "height": "67px",
    "width": "252px"
   },
   "navigate_menu": true,
   "number_sections": true,
   "sideBar": true,
   "threshold": 4,
   "toc_cell": false,
   "toc_section_display": "block",
   "toc_window_display": false,
   "widenNotebook": false
  }
 },
 "nbformat": 4,
 "nbformat_minor": 2
}
