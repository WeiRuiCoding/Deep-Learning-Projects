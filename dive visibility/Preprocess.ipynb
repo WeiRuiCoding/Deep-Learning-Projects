{
 "cells": [
  {
   "cell_type": "code",
   "execution_count": 1,
   "metadata": {},
   "outputs": [],
   "source": [
    "%matplotlib inline\n",
    "%reload_ext autoreload\n",
    "%autoreload 2"
   ]
  },
  {
   "cell_type": "code",
   "execution_count": 2,
   "metadata": {},
   "outputs": [],
   "source": [
    "from fastai.structured import *\n",
    "from fastai.column_data import *\n",
    "from fasterai.files import *\n",
    "plt.style.use('dark_background')\n",
    "torch.backends.cudnn.benchmark=True\n",
    "ROOT=Path('data/divevis/obs')\n",
    "PATH=ROOT/'2018'"
   ]
  },
  {
   "cell_type": "markdown",
   "metadata": {},
   "source": [
    "OBSERVATION DATA SOURCES:\n",
    "\n",
    "TUSCON: 72274023160\n",
    "PHOENIX: 72278023183\n",
    "BURBAANK: 72288023152\n",
    "LOS ANGELES: 72295023174\n",
    "EL CENTRO: 72281023199\n",
    "BAKERSFIELD: 72384023155\n",
    "FRESNO: 72389093193\n",
    "VANDENBERG: 72393093214\n",
    "BRYCE CANYON: 72475623159\n",
    "SAN JOSE: 72494693232\n",
    "TRAVIS FIELD AFB: 74516023202\n",
    "NELLIS AFB:  74614023112\n",
    "SANTA BARBARA:  72392523190\n",
    "SANTA MARIA: 72394023273\n",
    "SAN DIEGO:  72290023188\n",
    "CAMP PENDLETON MCAS: 72292603154\n",
    "LONG BEACH: 72297023129"
   ]
  },
  {
   "cell_type": "code",
   "execution_count": 3,
   "metadata": {},
   "outputs": [],
   "source": [
    "stations={'72274023160','72278023183','72288023152','72295023174','72281023199','72384023155','72389093193','72393093214','72475623159','72494693232','74516023202',\n",
    "'74614023112','72392523190','72394023273','72290023188','72292603154','72297023129'}"
   ]
  },
  {
   "cell_type": "code",
   "execution_count": 4,
   "metadata": {},
   "outputs": [
    {
     "name": "stdout",
     "output_type": "stream",
     "text": [
      "station was found! 72274023160\n",
      "station was found! 72278023183\n",
      "station was found! 72281023199\n",
      "station was found! 72288023152\n",
      "station was found! 72290023188\n",
      "station was found! 72292603154\n",
      "station was found! 72297023129\n",
      "station was found! 72295023174\n",
      "station was found! 72384023155\n",
      "station was found! 72389093193\n",
      "station was found! 72392523190\n",
      "station was found! 72393093214\n",
      "station was found! 72475623159\n",
      "station was found! 72394023273\n",
      "station was found! 72494693232\n",
      "station was found! 74614023112\n",
      "station was found! 74516023202\n"
     ]
    }
   ],
   "source": [
    "files = find_files_recursively(PATH, ('csv'))\n",
    "found=set()\n",
    "\n",
    "for file in files:\n",
    "    file = Path(file)\n",
    "    station = file.stem\n",
    "    if station in stations:\n",
    "        print('station was found! ' + station)\n",
    "        found.add(station)\n",
    "    else:\n",
    "        file.unlink()\n",
    "        \n",
    "diffs = found.difference(stations)\n",
    "\n",
    "for diff in diffs:\n",
    "    print('station to remove from set: ' + diff)"
   ]
  }
 ],
 "metadata": {
  "anaconda-cloud": {},
  "kernelspec": {
   "display_name": "Python 3",
   "language": "python",
   "name": "python3"
  },
  "language_info": {
   "codemirror_mode": {
    "name": "ipython",
    "version": 3
   },
   "file_extension": ".py",
   "mimetype": "text/x-python",
   "name": "python",
   "nbconvert_exporter": "python",
   "pygments_lexer": "ipython3",
   "version": "3.6.5"
  },
  "toc": {
   "colors": {
    "hover_highlight": "#DAA520",
    "navigate_num": "#000000",
    "navigate_text": "#333333",
    "running_highlight": "#FF0000",
    "selected_highlight": "#FFD700",
    "sidebar_border": "#EEEEEE",
    "wrapper_background": "#FFFFFF"
   },
   "moveMenuLeft": true,
   "nav_menu": {
    "height": "173px",
    "width": "251px"
   },
   "navigate_menu": true,
   "number_sections": true,
   "sideBar": true,
   "threshold": 4,
   "toc_cell": false,
   "toc_section_display": "block",
   "toc_window_display": false,
   "widenNotebook": false
  }
 },
 "nbformat": 4,
 "nbformat_minor": 2
}
