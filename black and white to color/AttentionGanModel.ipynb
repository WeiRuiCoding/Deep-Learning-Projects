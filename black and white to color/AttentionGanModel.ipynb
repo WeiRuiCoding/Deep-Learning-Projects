{
 "cells": [
  {
   "cell_type": "code",
   "execution_count": null,
   "metadata": {},
   "outputs": [],
   "source": [
    "%matplotlib inline\n",
    "%reload_ext autoreload\n",
    "%autoreload 2"
   ]
  },
  {
   "cell_type": "code",
   "execution_count": null,
   "metadata": {},
   "outputs": [],
   "source": [
    "import multiprocessing\n",
    "from torch import autograd\n",
    "from fastai.conv_learner import *\n",
    "from fastai.transforms import TfmType\n",
    "from fasterai.transforms import *\n",
    "from fasterai.images import *\n",
    "from fasterai.dataset import *\n",
    "from fasterai.visualize import *\n",
    "from fasterai.callbacks import *\n",
    "from fasterai.loss import *\n",
    "from fasterai.modules import *\n",
    "from fasterai.wgan import *\n",
    "from fasterai.generators import *\n",
    "from fastai.torch_imports import *\n",
    "from pathlib import Path\n",
    "from itertools import repeat\n",
    "import tensorboardX\n",
    "torch.cuda.set_device(0)\n",
    "plt.style.use('dark_background')\n",
    "torch.backends.cudnn.benchmark=True\n"
   ]
  },
  {
   "cell_type": "code",
   "execution_count": null,
   "metadata": {},
   "outputs": [],
   "source": [
    "#TEST NOTES:  Replacing batchnorm with instance norm; Adding \"shock absorbing\" training sessions between size changes.\n",
    "IMAGENET = Path('data/imagenet/ILSVRC/Data/CLS-LOC/train')\n",
    "OPENIMAGES = Path('data/openimages')\n",
    "CIFAR10 = Path('data/cifar10/train')\n",
    "\n",
    "proj_id = 'bwc_withattn_sn_supertrain'\n",
    "TENSORBOARD_PATH = Path('data/tensorboard/' + proj_id + '_cont')\n",
    "\n",
    "gpath = IMAGENET.parent/('bwc_withattn_sn_supertrain_gen_64.h5')\n",
    "dpath = IMAGENET.parent/('bwc_withattn_sn_supertrain_critic_64.h5')\n",
    "\n",
    "c_lr=1e-3\n",
    "c_lrs = np.array([c_lr,c_lr,c_lr])\n",
    "\n",
    "g_lr=c_lr/5\n",
    "g_lrs = np.array([g_lr/100,g_lr/10,g_lr])\n",
    "\n",
    "keep_pcts=[0.50,0.50]\n",
    "gen_freeze_tos=[-1,0]\n",
    "\n",
    "sn=True\n",
    "self_attention=sn\n",
    "lrs_unfreeze_factor=0.25\n",
    "\n",
    "x_tfms = [BlackAndWhiteTransform()]\n",
    "torch.backends.cudnn.benchmark=True"
   ]
  },
  {
   "cell_type": "markdown",
   "metadata": {},
   "source": [
    "## Training"
   ]
  },
  {
   "cell_type": "code",
   "execution_count": null,
   "metadata": {},
   "outputs": [],
   "source": [
    "netG = Unet34(nf_factor=1, self_attention=self_attention, sn=sn, leakyReLu=False).cuda()\n",
    "#netGVis = ModelVisualizationHook(TENSORBOARD_PATH, netG, 'netG')\n",
    "load_model(netG, gpath)\n",
    "\n",
    "netD = DCCritic(ni=3, nf=128, scale=16, self_attention=self_attention, sn=sn).cuda()\n",
    "#netDVis = ModelVisualizationHook(TENSORBOARD_PATH, netD, 'netD')\n",
    "load_model(netD, dpath)"
   ]
  },
  {
   "cell_type": "code",
   "execution_count": null,
   "metadata": {},
   "outputs": [],
   "source": [
    "trainer = WGANTrainer(netD=netD, netG=netG, genloss_fns=[FeatureLoss(multiplier=1e2)], sn=sn)\n",
    "trainerVis = WganVisualizationHook(TENSORBOARD_PATH, trainer, 'trainer', jupyter=False, visual_iters=100)"
   ]
  },
  {
   "cell_type": "code",
   "execution_count": null,
   "metadata": {},
   "outputs": [],
   "source": [
    "scheds=[]\n",
    "\n",
    "#scheds.extend(WGANTrainSchedule.generate_schedules(szs=[64,64], bss=[32,32], path=IMAGENET, x_tfms=x_tfms, keep_pcts=keep_pcts, \n",
    "    #save_base_name=proj_id, c_lrs=c_lrs, g_lrs=g_lrs, lrs_unfreeze_factor=lrs_unfreeze_factor, gen_freeze_tos=gen_freeze_tos))\n",
    "\n",
    "scheds.extend(WGANTrainSchedule.generate_schedules(szs=[64,64], bss=[32,32], path=OPENIMAGES, x_tfms=x_tfms, keep_pcts=[1.0,1.0], \n",
    "    save_base_name=proj_id, c_lrs=c_lrs, g_lrs=g_lrs, lrs_unfreeze_factor=lrs_unfreeze_factor, gen_freeze_tos=gen_freeze_tos))\n",
    "\n",
    "#unshock\n",
    "scheds.extend(WGANTrainSchedule.generate_schedules(szs=[96], bss=[32], path=IMAGENET, x_tfms=x_tfms, keep_pcts=[0.25], \n",
    "    save_base_name=proj_id, c_lrs=c_lrs/10, g_lrs=g_lrs/10, lrs_unfreeze_factor=lrs_unfreeze_factor, gen_freeze_tos=[-1]))\n",
    "\n",
    "scheds.extend(WGANTrainSchedule.generate_schedules(szs=[96,96], bss=[32,32], path=IMAGENET, x_tfms=x_tfms, keep_pcts=keep_pcts, \n",
    "    save_base_name=proj_id, c_lrs=c_lrs, g_lrs=g_lrs, lrs_unfreeze_factor=lrs_unfreeze_factor, gen_freeze_tos=gen_freeze_tos))\n",
    "\n",
    "scheds.extend(WGANTrainSchedule.generate_schedules(szs=[96,96], bss=[32,32], path=OPENIMAGES, x_tfms=x_tfms, keep_pcts=[1.0,1.0], \n",
    "    save_base_name=proj_id, c_lrs=c_lrs, g_lrs=g_lrs, lrs_unfreeze_factor=lrs_unfreeze_factor, gen_freeze_tos=gen_freeze_tos))\n",
    "\n",
    "\n",
    "#unshock\n",
    "scheds.extend(WGANTrainSchedule.generate_schedules(szs=[128], bss=[32], path=IMAGENET, x_tfms=x_tfms, keep_pcts=[0.25], \n",
    "    save_base_name=proj_id, c_lrs=c_lrs/10, g_lrs=g_lrs/10, lrs_unfreeze_factor=lrs_unfreeze_factor, gen_freeze_tos=[-1]))\n",
    "\n",
    "scheds.extend(WGANTrainSchedule.generate_schedules(szs=[128,128], bss=[32,32], path=IMAGENET, x_tfms=x_tfms, keep_pcts=keep_pcts, \n",
    "    save_base_name=proj_id, c_lrs=c_lrs, g_lrs=g_lrs, lrs_unfreeze_factor=lrs_unfreeze_factor, gen_freeze_tos=gen_freeze_tos))\n",
    "\n",
    "scheds.extend(WGANTrainSchedule.generate_schedules(szs=[128,128], bss=[32,32], path=OPENIMAGES, x_tfms=x_tfms, keep_pcts=[1.0,1.0], \n",
    "    save_base_name=proj_id, c_lrs=c_lrs, g_lrs=g_lrs, lrs_unfreeze_factor=lrs_unfreeze_factor, gen_freeze_tos=gen_freeze_tos))\n",
    "\n",
    "\n",
    "\n",
    "#unshock\n",
    "scheds.extend(WGANTrainSchedule.generate_schedules(szs=[192], bss=[16], path=IMAGENET, x_tfms=x_tfms, keep_pcts=[0.25], \n",
    "    save_base_name=proj_id, c_lrs=c_lrs/20, g_lrs=g_lrs/20, lrs_unfreeze_factor=lrs_unfreeze_factor, gen_freeze_tos=[-1]))\n",
    "\n",
    "scheds.extend(WGANTrainSchedule.generate_schedules(szs=[192], bss=[16], path=IMAGENET, x_tfms=x_tfms, keep_pcts=[0.5], \n",
    "    save_base_name=proj_id, c_lrs=c_lrs/2, g_lrs=g_lrs/2, lrs_unfreeze_factor=lrs_unfreeze_factor, gen_freeze_tos=[-1]))\n",
    "\n",
    "scheds.extend(WGANTrainSchedule.generate_schedules(szs=[192], bss=[16], path=OPENIMAGES, x_tfms=x_tfms, keep_pcts=[1.0], \n",
    "    save_base_name=proj_id, c_lrs=c_lrs/2, g_lrs=g_lrs/2, lrs_unfreeze_factor=lrs_unfreeze_factor, gen_freeze_tos=[-1]))\n",
    "\n",
    "scheds.extend(WGANTrainSchedule.generate_schedules(szs=[192], bss=[12], path=IMAGENET, x_tfms=x_tfms, keep_pcts=[0.5], \n",
    "    save_base_name=proj_id, c_lrs=c_lrs/6, g_lrs=g_lrs/6, lrs_unfreeze_factor=lrs_unfreeze_factor, gen_freeze_tos=[0]))\n",
    "\n",
    "scheds.extend(WGANTrainSchedule.generate_schedules(szs=[192], bss=[12], path=OPENIMAGES, x_tfms=x_tfms, keep_pcts=[1.0], \n",
    "    save_base_name=proj_id, c_lrs=c_lrs/6, g_lrs=g_lrs/6, lrs_unfreeze_factor=lrs_unfreeze_factor, gen_freeze_tos=[0]))\n",
    "\n",
    "\n",
    "#unshock\n",
    "scheds.extend(WGANTrainSchedule.generate_schedules(szs=[256], bss=[6], path=IMAGENET, x_tfms=x_tfms, keep_pcts=[0.25], \n",
    "    save_base_name=proj_id, c_lrs=c_lrs/120, g_lrs=g_lrs/120, lrs_unfreeze_factor=lrs_unfreeze_factor, gen_freeze_tos=[-1]))\n",
    "\n",
    "scheds.extend(WGANTrainSchedule.generate_schedules(szs=[256], bss=[6], path=IMAGENET, x_tfms=x_tfms, keep_pcts=[0.5], \n",
    "    save_base_name=proj_id, c_lrs=c_lrs/12, g_lrs=g_lrs/12, lrs_unfreeze_factor=lrs_unfreeze_factor, gen_freeze_tos=[-1]))\n",
    "\n",
    "scheds.extend(WGANTrainSchedule.generate_schedules(szs=[256], bss=[6], path=OPENIMAGES, x_tfms=x_tfms, keep_pcts=[1.0], \n",
    "    save_base_name=proj_id, c_lrs=c_lrs/12, g_lrs=g_lrs/12, lrs_unfreeze_factor=lrs_unfreeze_factor, gen_freeze_tos=[-1]))\n",
    "\n",
    "scheds.extend(WGANTrainSchedule.generate_schedules(szs=[256], bss=[4], path=IMAGENET, x_tfms=x_tfms, keep_pcts=[0.5], \n",
    "    save_base_name=proj_id, c_lrs=c_lrs/24, g_lrs=g_lrs/24, lrs_unfreeze_factor=lrs_unfreeze_factor, gen_freeze_tos=[0]))\n",
    "\n",
    "scheds.extend(WGANTrainSchedule.generate_schedules(szs=[256], bss=[4], path=OPENIMAGES, x_tfms=x_tfms, keep_pcts=[1.0], \n",
    "    save_base_name=proj_id, c_lrs=c_lrs/24, g_lrs=g_lrs/24, lrs_unfreeze_factor=lrs_unfreeze_factor, gen_freeze_tos=[0]))\n"
   ]
  },
  {
   "cell_type": "code",
   "execution_count": null,
   "metadata": {},
   "outputs": [
    {
     "name": "stdout",
     "output_type": "stream",
     "text": [
      " 12%|█▏        | 3600/30938 [12:06<1:07:50,  6.72it/s]\n",
      "WDist 1.6886177062988281; RScore 1.1205977201461792; FScore 0.5680199265480042; GAddlLoss [3.88616]; Iters: 17270; GCost: 0.20145948231220245; GPenalty: [0]; ConPenalty: [0]\n",
      " 12%|█▏        | 3620/30938 [12:11<1:19:42,  5.71it/s]\n",
      "WDist 2.0627074241638184; RScore 1.41167414188385; FScore 0.6510331630706787; GAddlLoss [3.76019]; Iters: 17280; GCost: 0.3240566551685333; GPenalty: [0]; ConPenalty: [0]\n",
      " 12%|█▏        | 3640/30938 [12:14<1:13:57,  6.15it/s]\n",
      "WDist 1.9444940090179443; RScore 1.1564162969589233; FScore 0.7880776524543762; GAddlLoss [3.82534]; Iters: 17290; GCost: 0.4683200716972351; GPenalty: [0]; ConPenalty: [0]\n",
      " 12%|█▏        | 3660/30938 [12:18<1:14:23,  6.11it/s]\n",
      "WDist 1.7119567394256592; RScore 0.9997768402099609; FScore 0.7121798396110535; GAddlLoss [3.38173]; Iters: 17300; GCost: 0.4247523546218872; GPenalty: [0]; ConPenalty: [0]\n",
      " 12%|█▏        | 3680/30938 [12:22<57:27,  7.91it/s]  \n",
      "WDist 1.8268730640411377; RScore 1.1295539140701294; FScore 0.6973191499710083; GAddlLoss [3.69871]; Iters: 17310; GCost: 0.21640433371067047; GPenalty: [0]; ConPenalty: [0]\n",
      " 12%|█▏        | 3700/30938 [12:28<1:39:29,  4.56it/s]\n",
      "WDist 1.5985939502716064; RScore 0.9975652694702148; FScore 0.6010287404060364; GAddlLoss [3.44557]; Iters: 17320; GCost: 0.3730565309524536; GPenalty: [0]; ConPenalty: [0]\n",
      " 12%|█▏        | 3720/30938 [12:32<1:11:51,  6.31it/s]\n",
      "WDist 1.829795002937317; RScore 1.1222128868103027; FScore 0.7075821161270142; GAddlLoss [3.8525]; Iters: 17330; GCost: 0.3632512092590332; GPenalty: [0]; ConPenalty: [0]\n",
      " 12%|█▏        | 3740/30938 [12:35<1:14:17,  6.10it/s]\n",
      "WDist 2.0117273330688477; RScore 1.1698262691497803; FScore 0.8419011831283569; GAddlLoss [3.65907]; Iters: 17340; GCost: 0.3244529068470001; GPenalty: [0]; ConPenalty: [0]\n",
      " 12%|█▏        | 3760/30938 [12:39<1:08:54,  6.57it/s]\n",
      "WDist 2.0542240142822266; RScore 1.3530422449111938; FScore 0.7011817693710327; GAddlLoss [4.05981]; Iters: 17350; GCost: 0.4136030077934265; GPenalty: [0]; ConPenalty: [0]\n",
      " 12%|█▏        | 3780/30938 [12:43<1:35:32,  4.74it/s]\n",
      "WDist 1.8320411443710327; RScore 1.1151738166809082; FScore 0.7168673276901245; GAddlLoss [3.72992]; Iters: 17360; GCost: 0.16375833749771118; GPenalty: [0]; ConPenalty: [0]\n",
      " 12%|█▏        | 3800/30938 [12:47<1:24:03,  5.38it/s]\n",
      "WDist 1.7432948350906372; RScore 0.953334629535675; FScore 0.7899602055549622; GAddlLoss [3.73445]; Iters: 17370; GCost: 0.0018269559368491173; GPenalty: [0]; ConPenalty: [0]\n",
      " 12%|█▏        | 3820/30938 [12:50<1:09:56,  6.46it/s]\n",
      "WDist 1.962079644203186; RScore 0.8956179618835449; FScore 1.0664616823196411; GAddlLoss [3.99994]; Iters: 17380; GCost: 0.11666159331798553; GPenalty: [0]; ConPenalty: [0]\n",
      " 12%|█▏        | 3840/30938 [12:54<55:36,  8.12it/s]\n",
      "WDist 1.7575442790985107; RScore 0.6875481605529785; FScore 1.0699961185455322; GAddlLoss [3.752]; Iters: 17390; GCost: 0.2253473997116089; GPenalty: [0]; ConPenalty: [0]\n",
      " 12%|█▏        | 3860/30938 [13:00<1:39:13,  4.55it/s]\n",
      "WDist 1.7246615886688232; RScore 0.894626259803772; FScore 0.830035388469696; GAddlLoss [3.5165]; Iters: 17400; GCost: 0.20493432879447937; GPenalty: [0]; ConPenalty: [0]\n",
      " 13%|█▎        | 3880/30938 [13:05<1:06:08,  6.82it/s]\n",
      "WDist 1.9585963487625122; RScore 1.1221134662628174; FScore 0.8364828824996948; GAddlLoss [3.6472]; Iters: 17410; GCost: 0.23133285343647003; GPenalty: [0]; ConPenalty: [0]\n",
      " 13%|█▎        | 3900/30938 [13:08<1:07:34,  6.67it/s]\n",
      "WDist 1.9059747457504272; RScore 1.2607003450393677; FScore 0.6452744007110596; GAddlLoss [3.67237]; Iters: 17420; GCost: 0.1644429713487625; GPenalty: [0]; ConPenalty: [0]\n",
      " 13%|█▎        | 3920/30938 [13:11<1:08:40,  6.56it/s]\n",
      "WDist 1.6805920600891113; RScore 0.809153139591217; FScore 0.8714389204978943; GAddlLoss [3.34236]; Iters: 17430; GCost: 0.17778976261615753; GPenalty: [0]; ConPenalty: [0]\n"
     ]
    }
   ],
   "source": [
    "trainer.train(scheds=scheds)"
   ]
  },
  {
   "cell_type": "code",
   "execution_count": null,
   "metadata": {},
   "outputs": [],
   "source": []
  }
 ],
 "metadata": {
  "kernelspec": {
   "display_name": "Python 3",
   "language": "python",
   "name": "python3"
  },
  "language_info": {
   "codemirror_mode": {
    "name": "ipython",
    "version": 3
   },
   "file_extension": ".py",
   "mimetype": "text/x-python",
   "name": "python",
   "nbconvert_exporter": "python",
   "pygments_lexer": "ipython3",
   "version": "3.6.5"
  },
  "toc": {
   "colors": {
    "hover_highlight": "#DAA520",
    "navigate_num": "#000000",
    "navigate_text": "#333333",
    "running_highlight": "#FF0000",
    "selected_highlight": "#FFD700",
    "sidebar_border": "#EEEEEE",
    "wrapper_background": "#FFFFFF"
   },
   "moveMenuLeft": true,
   "nav_menu": {
    "height": "67px",
    "width": "252px"
   },
   "navigate_menu": true,
   "number_sections": true,
   "sideBar": true,
   "threshold": 4,
   "toc_cell": false,
   "toc_section_display": "block",
   "toc_window_display": false,
   "widenNotebook": false
  }
 },
 "nbformat": 4,
 "nbformat_minor": 2
}
