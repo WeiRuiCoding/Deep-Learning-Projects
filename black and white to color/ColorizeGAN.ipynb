{
 "cells": [
  {
   "cell_type": "code",
   "execution_count": 1,
   "metadata": {},
   "outputs": [],
   "source": [
    "%matplotlib inline\n",
    "%reload_ext autoreload\n",
    "%autoreload 2"
   ]
  },
  {
   "cell_type": "code",
   "execution_count": 2,
   "metadata": {},
   "outputs": [],
   "source": [
    "import multiprocessing\n",
    "from torch import autograd\n",
    "from fastai.conv_learner import *\n",
    "from fastai.transforms import TfmType\n",
    "from fasterai.transforms import *\n",
    "from fasterai.images import *\n",
    "from fasterai.dataset import *\n",
    "from fasterai.visualize import *\n",
    "from fasterai.callbacks import *\n",
    "from fasterai.loss import *\n",
    "from fasterai.modules import *\n",
    "from fasterai.wgan import *\n",
    "from fasterai.generators import *\n",
    "from fastai.torch_imports import *\n",
    "from pathlib import Path\n",
    "from itertools import repeat\n",
    "import tensorboardX\n",
    "torch.cuda.set_device(0)\n",
    "plt.style.use('dark_background')\n",
    "torch.backends.cudnn.benchmark=True\n"
   ]
  },
  {
   "cell_type": "code",
   "execution_count": 3,
   "metadata": {},
   "outputs": [],
   "source": [
    "#TEST NOTES:  Replacing batchnorm with instance norm; Adding \"shock absorbing\" training sessions between size changes.\n",
    "IMAGENET = Path('data/imagenet/ILSVRC/Data/CLS-LOC/train')\n",
    "OPENIMAGES = Path('data/openimages')\n",
    "CIFAR10 = Path('data/cifar10/train')\n",
    "\n",
    "proj_id = 'bwc_withattn_sn_supertrain_retry'\n",
    "TENSORBOARD_PATH = Path('data/tensorboard/' + proj_id)\n",
    "\n",
    "#gpath = IMAGENET.parent/('bwc_withattn_sn_supertrain_retry_gen_96.h5')\n",
    "#dpath = IMAGENET.parent/('bwc_withattn_sn_supertrain_retry_critic_96.h5')\n",
    "\n",
    "c_lr=1e-3\n",
    "c_lrs = np.array([c_lr,c_lr,c_lr])\n",
    "\n",
    "g_lr=c_lr/5\n",
    "g_lrs = np.array([g_lr/100,g_lr/10,g_lr])\n",
    "\n",
    "keep_pcts=[1.0,1.0]\n",
    "gen_freeze_tos=[-1,0]\n",
    "\n",
    "sn=True\n",
    "self_attention=sn\n",
    "lrs_unfreeze_factor=0.25\n",
    "\n",
    "x_tfms = [BlackAndWhiteTransform()]\n",
    "extra_aug_tfms = [RandomLighting(0.1, 0.1, tfm_y=TfmType.PIXEL)]\n",
    "torch.backends.cudnn.benchmark=True"
   ]
  },
  {
   "cell_type": "markdown",
   "metadata": {},
   "source": [
    "## Training"
   ]
  },
  {
   "cell_type": "code",
   "execution_count": 4,
   "metadata": {},
   "outputs": [],
   "source": [
    "netG = Unet34(nf_factor=1, self_attention=self_attention, sn=sn, leakyReLu=False).cuda()\n",
    "#netGVis = ModelVisualizationHook(TENSORBOARD_PATH, netG, 'netG')\n",
    "#load_model(netG, gpath)\n",
    "\n",
    "netD = DCCritic(ni=3, nf=128, scale=16, self_attention=self_attention, sn=sn).cuda()\n",
    "#netDVis = ModelVisualizationHook(TENSORBOARD_PATH, netD, 'netD')\n",
    "#load_model(netD, dpath)"
   ]
  },
  {
   "cell_type": "code",
   "execution_count": 5,
   "metadata": {},
   "outputs": [],
   "source": [
    "trainer = WGANTrainer(netD=netD, netG=netG, genloss_fns=[FeatureLoss(multiplier=1e2)], sn=sn)\n",
    "trainerVis = WganVisualizationHook(TENSORBOARD_PATH, trainer, 'trainer', jupyter=False, visual_iters=100)"
   ]
  },
  {
   "cell_type": "code",
   "execution_count": 6,
   "metadata": {},
   "outputs": [],
   "source": [
    "scheds=[]\n",
    "\n",
    "scheds.extend(WGANTrainSchedule.generate_schedules(szs=[64,64], bss=[32,32], path=IMAGENET, x_tfms=x_tfms, extra_aug_tfms=extra_aug_tfms,keep_pcts=keep_pcts, \n",
    "    save_base_name=proj_id, c_lrs=c_lrs, g_lrs=g_lrs, lrs_unfreeze_factor=lrs_unfreeze_factor, gen_freeze_tos=gen_freeze_tos))\n",
    "\n",
    "#unshock\n",
    "scheds.extend(WGANTrainSchedule.generate_schedules(szs=[96], bss=[32], path=IMAGENET, x_tfms=x_tfms, extra_aug_tfms=extra_aug_tfms, keep_pcts=[0.3], \n",
    "    save_base_name=proj_id, c_lrs=c_lrs/10, g_lrs=g_lrs/10, lrs_unfreeze_factor=lrs_unfreeze_factor, gen_freeze_tos=[-1]))\n",
    "\n",
    "scheds.extend(WGANTrainSchedule.generate_schedules(szs=[96,96], bss=[32,32], path=IMAGENET, x_tfms=x_tfms, extra_aug_tfms=extra_aug_tfms, keep_pcts=keep_pcts, \n",
    "    save_base_name=proj_id, c_lrs=c_lrs, g_lrs=g_lrs, lrs_unfreeze_factor=lrs_unfreeze_factor, gen_freeze_tos=gen_freeze_tos))\n",
    "\n",
    "\n",
    "\n",
    "#unshock\n",
    "scheds.extend(WGANTrainSchedule.generate_schedules(szs=[128], bss=[32], path=IMAGENET, x_tfms=x_tfms, extra_aug_tfms=extra_aug_tfms, keep_pcts=[0.3], \n",
    "    save_base_name=proj_id, c_lrs=c_lrs/10, g_lrs=g_lrs/10, lrs_unfreeze_factor=lrs_unfreeze_factor, gen_freeze_tos=[-1]))\n",
    "\n",
    "scheds.extend(WGANTrainSchedule.generate_schedules(szs=[128,128], bss=[32,32], path=IMAGENET, x_tfms=x_tfms, extra_aug_tfms=extra_aug_tfms, keep_pcts=keep_pcts, \n",
    "    save_base_name=proj_id, c_lrs=c_lrs, g_lrs=g_lrs, lrs_unfreeze_factor=lrs_unfreeze_factor, gen_freeze_tos=gen_freeze_tos))\n",
    "\n",
    "\n",
    "#unshock\n",
    "scheds.extend(WGANTrainSchedule.generate_schedules(szs=[192], bss=[16], path=IMAGENET, x_tfms=x_tfms, extra_aug_tfms=extra_aug_tfms, keep_pcts=[0.3], \n",
    "    save_base_name=proj_id, c_lrs=c_lrs/20, g_lrs=g_lrs/20, lrs_unfreeze_factor=lrs_unfreeze_factor, gen_freeze_tos=[-1]))\n",
    "\n",
    "scheds.extend(WGANTrainSchedule.generate_schedules(szs=[192], bss=[16], path=IMAGENET, x_tfms=x_tfms, extra_aug_tfms=extra_aug_tfms, keep_pcts=[1.0], \n",
    "    save_base_name=proj_id, c_lrs=c_lrs/2, g_lrs=g_lrs/2, lrs_unfreeze_factor=lrs_unfreeze_factor, gen_freeze_tos=[-1]))\n",
    "\n",
    "scheds.extend(WGANTrainSchedule.generate_schedules(szs=[192], bss=[16], path=IMAGENET, x_tfms=x_tfms, extra_aug_tfms=extra_aug_tfms, keep_pcts=[1.0], \n",
    "    save_base_name=proj_id, c_lrs=c_lrs/6, g_lrs=g_lrs/6, lrs_unfreeze_factor=lrs_unfreeze_factor, gen_freeze_tos=[0]))\n",
    "\n",
    "\n",
    "\n",
    "#unshock\n",
    "scheds.extend(WGANTrainSchedule.generate_schedules(szs=[256], bss=[8], path=IMAGENET, x_tfms=x_tfms, extra_aug_tfms=extra_aug_tfms, keep_pcts=[0.3], \n",
    "    save_base_name=proj_id, c_lrs=c_lrs/120, g_lrs=g_lrs/120, lrs_unfreeze_factor=lrs_unfreeze_factor, gen_freeze_tos=[-1]))\n",
    "\n",
    "scheds.extend(WGANTrainSchedule.generate_schedules(szs=[256], bss=[8], path=IMAGENET, x_tfms=x_tfms, extra_aug_tfms=extra_aug_tfms, keep_pcts=[1.0], \n",
    "    save_base_name=proj_id, c_lrs=c_lrs/12, g_lrs=g_lrs/12, lrs_unfreeze_factor=lrs_unfreeze_factor, gen_freeze_tos=[-1]))\n",
    "\n",
    "scheds.extend(WGANTrainSchedule.generate_schedules(szs=[256], bss=[8], path=IMAGENET, x_tfms=x_tfms, extra_aug_tfms=extra_aug_tfms, keep_pcts=[1.0], \n",
    "    save_base_name=proj_id, c_lrs=c_lrs/24, g_lrs=g_lrs/24, lrs_unfreeze_factor=lrs_unfreeze_factor, gen_freeze_tos=[0]))\n"
   ]
  },
  {
   "cell_type": "code",
   "execution_count": null,
   "metadata": {},
   "outputs": [
    {
     "name": "stdout",
     "output_type": "stream",
     "text": [
      " 67%|██████▋   | 26360/39637 [4:35:20<2:45:30,  1.34it/s]\n",
      "WDist 1.9326139688491821; RScore 1.2068735361099243; FScore 0.7257404327392578; GAddlLoss [2.9874]; Iters: 13180; GCost: 0.35216811299324036; GPenalty: [0]; ConPenalty: [0]\n",
      " 67%|██████▋   | 26380/39637 [4:35:27<1:03:07,  3.50it/s]\n",
      "WDist 1.8195528984069824; RScore 1.1342308521270752; FScore 0.6853220462799072; GAddlLoss [2.8341]; Iters: 13190; GCost: 0.35640522837638855; GPenalty: [0]; ConPenalty: [0]\n",
      " 67%|██████▋   | 26400/39637 [4:35:34<41:32,  5.31it/s]\n",
      "WDist 1.6058340072631836; RScore 1.0532474517822266; FScore 0.552586555480957; GAddlLoss [2.88399]; Iters: 13200; GCost: 0.46259281039237976; GPenalty: [0]; ConPenalty: [0]\n",
      " 67%|██████▋   | 26420/39637 [4:35:48<3:23:30,  1.08it/s]\n",
      "WDist 1.8115403652191162; RScore 1.0562310218811035; FScore 0.7553094029426575; GAddlLoss [2.84043]; Iters: 13210; GCost: 0.1511613130569458; GPenalty: [0]; ConPenalty: [0]\n",
      " 67%|██████▋   | 26440/39637 [4:35:55<1:20:00,  2.75it/s]\n",
      "WDist 1.8006563186645508; RScore 1.1711949110031128; FScore 0.6294613480567932; GAddlLoss [3.05341]; Iters: 13220; GCost: 0.5694409608840942; GPenalty: [0]; ConPenalty: [0]\n",
      " 67%|██████▋   | 26460/39637 [4:36:02<1:02:00,  3.54it/s]\n",
      "WDist 1.8202037811279297; RScore 0.8129358291625977; FScore 1.007267951965332; GAddlLoss [3.1104]; Iters: 13230; GCost: 0.24796734750270844; GPenalty: [0]; ConPenalty: [0]\n",
      " 67%|██████▋   | 26480/39637 [4:36:09<42:42,  5.13it/s]\n",
      "WDist 2.04726243019104; RScore 1.4729083776474; FScore 0.5743540525436401; GAddlLoss [3.42612]; Iters: 13240; GCost: 0.23257599771022797; GPenalty: [0]; ConPenalty: [0]\n",
      " 67%|██████▋   | 26496/39637 [4:36:15<43:03,  5.09it/s]"
     ]
    }
   ],
   "source": [
    "trainer.train(scheds=scheds)"
   ]
  },
  {
   "cell_type": "code",
   "execution_count": null,
   "metadata": {},
   "outputs": [],
   "source": []
  }
 ],
 "metadata": {
  "kernelspec": {
   "display_name": "Python 3",
   "language": "python",
   "name": "python3"
  },
  "language_info": {
   "codemirror_mode": {
    "name": "ipython",
    "version": 3
   },
   "file_extension": ".py",
   "mimetype": "text/x-python",
   "name": "python",
   "nbconvert_exporter": "python",
   "pygments_lexer": "ipython3",
   "version": "3.6.5"
  },
  "toc": {
   "colors": {
    "hover_highlight": "#DAA520",
    "navigate_num": "#000000",
    "navigate_text": "#333333",
    "running_highlight": "#FF0000",
    "selected_highlight": "#FFD700",
    "sidebar_border": "#EEEEEE",
    "wrapper_background": "#FFFFFF"
   },
   "moveMenuLeft": true,
   "nav_menu": {
    "height": "67px",
    "width": "252px"
   },
   "navigate_menu": true,
   "number_sections": true,
   "sideBar": true,
   "threshold": 4,
   "toc_cell": false,
   "toc_section_display": "block",
   "toc_window_display": false,
   "widenNotebook": false
  }
 },
 "nbformat": 4,
 "nbformat_minor": 2
}
