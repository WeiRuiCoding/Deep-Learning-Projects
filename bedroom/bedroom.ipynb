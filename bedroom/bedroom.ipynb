{
 "cells": [
  {
   "cell_type": "code",
   "execution_count": 1,
   "metadata": {},
   "outputs": [],
   "source": [
    "%matplotlib inline\n",
    "%reload_ext autoreload\n",
    "%autoreload 2"
   ]
  },
  {
   "cell_type": "code",
   "execution_count": 2,
   "metadata": {},
   "outputs": [],
   "source": [
    "import multiprocessing\n",
    "from torch import autograd\n",
    "from fastai.conv_learner import *\n",
    "from fastai.transforms import TfmType\n",
    "from fasterai.transforms import *\n",
    "from fasterai.images import *\n",
    "from fasterai.dataset import *\n",
    "from fasterai.visualize import *\n",
    "from fasterai.callbacks import *\n",
    "from fasterai.loss import *\n",
    "from fasterai.modules import *\n",
    "from fasterai.wgan import *\n",
    "from fasterai.generators import *\n",
    "from fastai.torch_imports import *\n",
    "from pathlib import Path\n",
    "from itertools import repeat\n",
    "import tensorboardX\n",
    "torch.cuda.set_device(1)\n",
    "plt.style.use('dark_background')\n",
    "torch.backends.cudnn.benchmark=True\n"
   ]
  },
  {
   "cell_type": "code",
   "execution_count": 3,
   "metadata": {},
   "outputs": [],
   "source": [
    "#NOTES:  Changed to 1/4 learning rate difference\n",
    "BEDROOM = Path('data/lsun/bedroom')\n",
    "\n",
    "proj_id = 'bedroom_attn3'\n",
    "TENSORBOARD_PATH = Path('data/tensorboard/' + proj_id)\n",
    "\n",
    "c_lr=4e-4\n",
    "c_lrs = np.array([c_lr,c_lr,c_lr])\n",
    "\n",
    "g_lr=c_lr/4\n",
    "g_lrs = np.array([g_lr])\n",
    "\n",
    "x_noise=128\n",
    "sn=True\n",
    "self_attention=True\n",
    "torch.backends.cudnn.benchmark=True"
   ]
  },
  {
   "cell_type": "markdown",
   "metadata": {},
   "source": [
    "## Training"
   ]
  },
  {
   "cell_type": "code",
   "execution_count": 4,
   "metadata": {},
   "outputs": [],
   "source": [
    "netG = DCGenerator(x_noise=x_noise, nf=64, scale=64, self_attention=self_attention, sn=sn).cuda()\n",
    "#netGVis = ModelVisualizationHook(TENSORBOARD_PATH, netG, 'netG')\n",
    "#load_model(netG, gpath)\n",
    "\n",
    "netD = DCCritic(nf=128, scale=16, self_attention=self_attention, sn=sn).cuda()\n",
    "#netDVis = ModelVisualizationHook(TENSORBOARD_PATH, netD, 'netD')\n",
    "#load_model(netD, dpath)"
   ]
  },
  {
   "cell_type": "code",
   "execution_count": 5,
   "metadata": {},
   "outputs": [],
   "source": [
    "trainer = WGANTrainer(netD=netD, netG=netG, genloss_fns=[], sn=sn)\n",
    "trainerVis = WganVisualizationHook(TENSORBOARD_PATH, trainer, 'trainer', jupyter=False, visual_iters=200)"
   ]
  },
  {
   "cell_type": "code",
   "execution_count": 6,
   "metadata": {},
   "outputs": [],
   "source": [
    "scheds=[]\n",
    "\n",
    "#scheds.extend(WGANTrainSchedule.generate_schedules(szs=[32,32,32,32], bss=[256,256,256,256], path=BEDROOM, keep_pcts=[1.0,1.0,1.0,1.0], \n",
    "       # save_base_name=proj_id, c_lrs=c_lrs, g_lrs=g_lrs, lrs_unfreeze_factor=1.0, gen_freeze_tos=[0,0,0,0], x_noise=x_noise))\n",
    "\n",
    "scheds.extend(WGANTrainSchedule.generate_schedules(szs=[64,64,64], bss=[64,64,64], path=BEDROOM, keep_pcts=[1.0,1.0,1.0], \n",
    "        save_base_name=proj_id, c_lrs=c_lrs, g_lrs=g_lrs, lrs_unfreeze_factor=1.0, gen_freeze_tos=[0,0,0], x_noise=x_noise))\n",
    "\n",
    "#scheds.extend(WGANTrainSchedule.generate_schedules(szs=[128,128], bss=[32,32], path=BEDROOM, keep_pcts=[1.0,1.0], save_base_name=proj_id, \n",
    "        #c_lrs=c_lrs/4, g_lrs=g_lrs/4, lrs_unfreeze_factor=1.0, gen_freeze_tos=[0,0], x_noise=x_noise))\n",
    "\n",
    "#scheds.extend(WGANTrainSchedule.generate_schedules(szs=[256], bss=[8], path=BEDROOM, keep_pcts=[1.0], save_base_name=proj_id, \n",
    "        #c_lrs=c_lrs/16, g_lrs=g_lrs/16, lrs_unfreeze_factor=1.0, gen_freeze_tos=[0], x_noise=x_noise))"
   ]
  },
  {
   "cell_type": "code",
   "execution_count": null,
   "metadata": {},
   "outputs": [
    {
     "name": "stdout",
     "output_type": "stream",
     "text": [
      " 25%|██▌       | 11755/46918 [55:36<4:42:52,  2.07it/s]"
     ]
    }
   ],
   "source": [
    "trainer.train(scheds=scheds)"
   ]
  },
  {
   "cell_type": "code",
   "execution_count": null,
   "metadata": {},
   "outputs": [],
   "source": []
  }
 ],
 "metadata": {
  "kernelspec": {
   "display_name": "Python 3",
   "language": "python",
   "name": "python3"
  },
  "language_info": {
   "codemirror_mode": {
    "name": "ipython",
    "version": 3
   },
   "file_extension": ".py",
   "mimetype": "text/x-python",
   "name": "python",
   "nbconvert_exporter": "python",
   "pygments_lexer": "ipython3",
   "version": "3.6.5"
  },
  "toc": {
   "colors": {
    "hover_highlight": "#DAA520",
    "navigate_num": "#000000",
    "navigate_text": "#333333",
    "running_highlight": "#FF0000",
    "selected_highlight": "#FFD700",
    "sidebar_border": "#EEEEEE",
    "wrapper_background": "#FFFFFF"
   },
   "moveMenuLeft": true,
   "nav_menu": {
    "height": "67px",
    "width": "252px"
   },
   "navigate_menu": true,
   "number_sections": true,
   "sideBar": true,
   "threshold": 4,
   "toc_cell": false,
   "toc_section_display": "block",
   "toc_window_display": false,
   "widenNotebook": false
  }
 },
 "nbformat": 4,
 "nbformat_minor": 2
}
