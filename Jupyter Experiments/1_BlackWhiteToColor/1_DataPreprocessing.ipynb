{
 "cells": [
  {
   "cell_type": "code",
   "execution_count": 1,
   "metadata": {},
   "outputs": [],
   "source": [
    "%matplotlib inline\n",
    "%reload_ext autoreload\n",
    "%autoreload 2"
   ]
  },
  {
   "cell_type": "code",
   "execution_count": 6,
   "metadata": {},
   "outputs": [],
   "source": [
    "import multiprocessing\n",
    "from fasterai.images import *\n",
    "from pathlib import Path\n",
    "from itertools import repeat"
   ]
  },
  {
   "cell_type": "code",
   "execution_count": 7,
   "metadata": {},
   "outputs": [],
   "source": [
    "image_size = 64\n",
    "uid = 'bw2color'\n",
    "\n",
    "DATA_PATH = Path('data/imagenet/ILSVRC/Data/CLS-LOC')\n",
    "TRAIN_SOURCE_PATH = DATA_PATH/'train'\n",
    "\n",
    "TRAIN_X_PATH = generate_image_preprocess_path(TRAIN_SOURCE_PATH, is_x=True, size=image_size, uid=uid)\n",
    "TRAIN_Y_PATH = generate_image_preprocess_path(TRAIN_SOURCE_PATH, is_x=False, size=image_size, uid=uid)\n"
   ]
  },
  {
   "cell_type": "markdown",
   "metadata": {},
   "source": [
    "## Generate Resized Color Images (Y)"
   ]
  },
  {
   "cell_type": "code",
   "execution_count": null,
   "metadata": {},
   "outputs": [],
   "source": [
    "transform_images_to_new_directory(partial(resize_image, size=image_size), TRAIN_SOURCE_PATH, TRAIN_Y_PATH)"
   ]
  },
  {
   "cell_type": "markdown",
   "metadata": {},
   "source": [
    "## Generate Resized Black and White Images (X)"
   ]
  },
  {
   "cell_type": "code",
   "execution_count": null,
   "metadata": {},
   "outputs": [],
   "source": [
    "transform_images_to_new_directory(to_grayscale_image, TRAIN_Y_PATH, TRAIN_X_PATH)"
   ]
  },
  {
   "cell_type": "markdown",
   "metadata": {},
   "source": [
    "## Generate Usable Image Paths List"
   ]
  },
  {
   "cell_type": "code",
   "execution_count": 33,
   "metadata": {},
   "outputs": [],
   "source": [
    "x_paths, y_paths = get_matched_xy_file_lists(TRAIN_X_PATH, TRAIN_Y_PATH)"
   ]
  },
  {
   "cell_type": "code",
   "execution_count": 31,
   "metadata": {},
   "outputs": [
    {
     "name": "stdout",
     "output_type": "stream",
     "text": [
      "['train_x_bw2color_64/n01440764/n01440764_10026.JPEG', 'train_x_bw2color_64/n01440764/n01440764_10027.JPEG', 'train_x_bw2color_64/n01440764/n01440764_10029.JPEG', 'train_x_bw2color_64/n01440764/n01440764_10040.JPEG', 'train_x_bw2color_64/n01440764/n01440764_10042.JPEG']\n",
      "['train_y_bw2color_64/n01440764/n01440764_10026.JPEG', 'train_y_bw2color_64/n01440764/n01440764_10027.JPEG', 'train_y_bw2color_64/n01440764/n01440764_10029.JPEG', 'train_y_bw2color_64/n01440764/n01440764_10040.JPEG', 'train_y_bw2color_64/n01440764/n01440764_10042.JPEG']\n"
     ]
    }
   ],
   "source": [
    "print(x_paths[:5])\n",
    "print(y_paths[:5])"
   ]
  },
  {
   "cell_type": "code",
   "execution_count": 32,
   "metadata": {},
   "outputs": [
    {
     "name": "stdout",
     "output_type": "stream",
     "text": [
      "['train_x_bw2color_64/n15075141/n15075141_9915.JPEG', 'train_x_bw2color_64/n15075141/n15075141_9933.JPEG', 'train_x_bw2color_64/n15075141/n15075141_9942.JPEG', 'train_x_bw2color_64/n15075141/n15075141_999.JPEG', 'train_x_bw2color_64/n15075141/n15075141_9993.JPEG']\n",
      "['train_y_bw2color_64/n15075141/n15075141_9915.JPEG', 'train_y_bw2color_64/n15075141/n15075141_9933.JPEG', 'train_y_bw2color_64/n15075141/n15075141_9942.JPEG', 'train_y_bw2color_64/n15075141/n15075141_999.JPEG', 'train_y_bw2color_64/n15075141/n15075141_9993.JPEG']\n"
     ]
    }
   ],
   "source": [
    "print(x_paths[-5:])\n",
    "print(y_paths[-5:])"
   ]
  },
  {
   "cell_type": "code",
   "execution_count": null,
   "metadata": {},
   "outputs": [],
   "source": []
  }
 ],
 "metadata": {
  "kernelspec": {
   "display_name": "Python 3",
   "language": "python",
   "name": "python3"
  },
  "language_info": {
   "codemirror_mode": {
    "name": "ipython",
    "version": 3
   },
   "file_extension": ".py",
   "mimetype": "text/x-python",
   "name": "python",
   "nbconvert_exporter": "python",
   "pygments_lexer": "ipython3",
   "version": "3.6.5"
  },
  "toc": {
   "colors": {
    "hover_highlight": "#DAA520",
    "navigate_num": "#000000",
    "navigate_text": "#333333",
    "running_highlight": "#FF0000",
    "selected_highlight": "#FFD700",
    "sidebar_border": "#EEEEEE",
    "wrapper_background": "#FFFFFF"
   },
   "moveMenuLeft": true,
   "nav_menu": {
    "height": "67px",
    "width": "252px"
   },
   "navigate_menu": true,
   "number_sections": true,
   "sideBar": true,
   "threshold": 4,
   "toc_cell": false,
   "toc_section_display": "block",
   "toc_window_display": false,
   "widenNotebook": false
  }
 },
 "nbformat": 4,
 "nbformat_minor": 2
}
