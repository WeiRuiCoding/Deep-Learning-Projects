{
 "cells": [
  {
   "cell_type": "code",
   "execution_count": null,
   "metadata": {},
   "outputs": [],
   "source": [
    "%matplotlib inline\n",
    "%reload_ext autoreload\n",
    "%autoreload 2"
   ]
  },
  {
   "cell_type": "code",
   "execution_count": null,
   "metadata": {},
   "outputs": [],
   "source": [
    "import multiprocessing\n",
    "from torch import autograd\n",
    "from fastai.conv_learner import *\n",
    "from fasterai.images import *\n",
    "from fasterai.dataset import *\n",
    "from fasterai.visualize import *\n",
    "from fastai.torch_imports import *\n",
    "from pathlib import Path\n",
    "from itertools import repeat\n",
    "import tensorboardX\n",
    "torch.cuda.set_device(0)\n",
    "plt.style.use('dark_background')\n",
    "torch.backends.cudnn.benchmark=True\n"
   ]
  },
  {
   "cell_type": "code",
   "execution_count": null,
   "metadata": {},
   "outputs": [],
   "source": [
    "DATA_PATH = Path('data/imagenet/ILSVRC/Data/CLS-LOC')\n",
    "TRAIN_SOURCE_PATH = DATA_PATH/'train'\n",
    "uid = 'bw2color'\n",
    "\n",
    "D_MODEL_SAVE_PATH = DATA_PATH/(uid + '_5004_D.h5')\n",
    "G_MODEL_SAVE_PATH = DATA_PATH/(uid + '_5004_G.h5')\n",
    "#keep_pct=0.02\n",
    "keep_pct=1.0\n",
    "#keep_pct=0.005\n",
    "#keep_pct=1.0"
   ]
  },
  {
   "cell_type": "code",
   "execution_count": null,
   "metadata": {},
   "outputs": [],
   "source": [
    "def get_model_data(image_size: int, batch_size: int, keep_pct: float):\n",
    "    TRAIN_X_PATH = generate_image_preprocess_path(TRAIN_SOURCE_PATH, is_x=True, size=image_size, uid=uid)\n",
    "    TRAIN_Y_PATH = generate_image_preprocess_path(TRAIN_SOURCE_PATH, is_x=False, size=image_size, uid=uid)\n",
    "    x_paths, y_paths = get_matched_xy_file_lists(TRAIN_X_PATH, TRAIN_Y_PATH)\n",
    "    x_paths_str = convert_paths_to_str(x_paths)\n",
    "    y_paths_str = convert_paths_to_str(y_paths)\n",
    "    print(x_paths_str[:5])\n",
    "    print(y_paths_str[:5])\n",
    "    np.random.seed(42)\n",
    "    keeps = np.random.rand(len(x_paths_str)) < keep_pct\n",
    "    fnames_x = np.array(x_paths_str, copy=False)[keeps]\n",
    "    fnames_y = np.array(y_paths_str, copy=False)[keeps]\n",
    "    val_idxs = get_cv_idxs(len(fnames_x), val_pct=min(0.01/keep_pct, 0.1))\n",
    "    ((val_x,trn_x),(val_y,trn_y)) = split_by_idx(val_idxs, np.array(fnames_x), np.array(fnames_y))\n",
    "    img_fn = TRAIN_Y_PATH/'n01558993'/'n01558993_9684.JPEG'\n",
    "    tfms = tfms_from_stats(inception_stats, image_size, tfm_y=TfmType.PIXEL, aug_tfms=transforms_side_on, sz_y=image_size)\n",
    "    datasets = ImageData.get_ds(MatchedFilesDataset, (trn_x,trn_y), (val_x,val_y), tfms, path=TRAIN_Y_PATH.parent)\n",
    "    md = ImageData(DATA_PATH, datasets, batch_size, num_workers=16, classes=None)\n",
    "    return md"
   ]
  },
  {
   "cell_type": "code",
   "execution_count": null,
   "metadata": {},
   "outputs": [],
   "source": [
    "md = get_model_data(image_size=224, batch_size=128, keep_pct=keep_pct)\n",
    "denorm = md.val_ds.denorm"
   ]
  },
  {
   "cell_type": "code",
   "execution_count": null,
   "metadata": {},
   "outputs": [],
   "source": [
    "def generate_denormed_image_pairs(ds: FilesDataset, batches: [(ndarray,ndarray)], idx:int = 0):\n",
    "    return [(ds.denorm(x)[idx], ds.denorm(y)[idx])for (x,y) in batches]"
   ]
  },
  {
   "cell_type": "markdown",
   "metadata": {},
   "source": [
    "## EDSR Model"
   ]
  },
  {
   "cell_type": "markdown",
   "metadata": {},
   "source": [
    "##### TODO:  Also try making the loss/output based on \"classification\" like in Zhang et al.\n",
    "##### TODO:  After making unet version- plug that into a Weiserman GAN setup (the discrimator looks at grey image and colorized image, concatenated together via channels).\n",
    "##### TODO:  Try using higher res images (from FloydHub blog?)\n",
    "##### TODO:  Try perceptual loss again....\n",
    "##### TODO:  To convert real old photos, could force them to normal grayscale first.\n",
    "##### TODO:  Add tensorboard graphs"
   ]
  },
  {
   "cell_type": "code",
   "execution_count": null,
   "metadata": {},
   "outputs": [],
   "source": [
    "def icnr(x, scale=2, init=nn.init.kaiming_normal):\n",
    "    new_shape = [int(x.shape[0] / (scale ** 2))] + list(x.shape[1:])\n",
    "    subkernel = torch.zeros(new_shape)\n",
    "    subkernel = init(subkernel)\n",
    "    subkernel = subkernel.transpose(0, 1)\n",
    "    subkernel = subkernel.contiguous().view(subkernel.shape[0],\n",
    "                                            subkernel.shape[1], -1)\n",
    "    kernel = subkernel.repeat(1, 1, scale ** 2)\n",
    "    transposed_shape = [x.shape[1]] + [x.shape[0]] + list(x.shape[2:])\n",
    "    kernel = kernel.contiguous().view(transposed_shape)\n",
    "    kernel = kernel.transpose(0, 1)\n",
    "    return kernel"
   ]
  },
  {
   "cell_type": "code",
   "execution_count": null,
   "metadata": {},
   "outputs": [],
   "source": [
    "class SaveFeatures():\n",
    "    features=None\n",
    "    def __init__(self, m): \n",
    "        self.hook = m.register_forward_hook(self.hook_fn)\n",
    "    def hook_fn(self, module, input, output): \n",
    "        self.features = output\n",
    "    def remove(self): \n",
    "        self.hook.remove()"
   ]
  },
  {
   "cell_type": "code",
   "execution_count": null,
   "metadata": {},
   "outputs": [],
   "source": [
    "class FeatureLoss(nn.Module):\n",
    "    def __init__(self, block_wgts: [float] = [0.2,0.7,0.1]):\n",
    "        super().__init__()\n",
    "        m_vgg = vgg16(True)\n",
    "        \n",
    "        blocks = [i-1 for i,o in enumerate(children(m_vgg))\n",
    "              if isinstance(o,nn.MaxPool2d)]\n",
    "        blocks, [m_vgg[i] for i in blocks]\n",
    "        layer_ids = blocks[:3]\n",
    "        \n",
    "        vgg_layers = children(m_vgg)[:23]\n",
    "        m_vgg = nn.Sequential(*vgg_layers).cuda().eval()\n",
    "        set_trainable(m_vgg, False)\n",
    "        \n",
    "        self.m,self.wgts = m_vgg,block_wgts\n",
    "        self.sfs = [SaveFeatures(m_vgg[i]) for i in layer_ids]\n",
    "\n",
    "    def forward(self, input, target, sum_layers=True):\n",
    "        self.m(VV(target.data))\n",
    "        res = [F.l1_loss(input,target)/100]\n",
    "        targ_feat = [V(o.features.data.clone()) for o in self.sfs]\n",
    "        self.m(input)\n",
    "        res += [F.l1_loss(self.flatten(inp.features),self.flatten(targ))*wgt\n",
    "               for inp,targ,wgt in zip(self.sfs, targ_feat, self.wgts)]\n",
    "        if sum_layers: res = sum(res)\n",
    "        return res\n",
    "    \n",
    "    def flatten(self, x): \n",
    "        return x.view(x.size(0), -1)\n",
    "    \n",
    "    def close(self):\n",
    "        for o in self.sfs: o.remove()"
   ]
  },
  {
   "cell_type": "code",
   "execution_count": null,
   "metadata": {},
   "outputs": [],
   "source": [
    "def conv(ni, nf, kernel_size=3, actn=False, stride=1, normalizer=None):\n",
    "    layers = [nn.Conv2d(ni, nf, kernel_size, padding=kernel_size//2, stride=stride)]\n",
    "    if normalizer is not None: layers.append(normalizer)\n",
    "    if actn: layers.append(nn.PReLU())\n",
    "    return nn.Sequential(*layers)"
   ]
  },
  {
   "cell_type": "code",
   "execution_count": null,
   "metadata": {},
   "outputs": [],
   "source": [
    "class ResSequential(nn.Module):\n",
    "    def __init__(self, layers, res_scale=1.0):\n",
    "        super().__init__()\n",
    "        self.res_scale = res_scale\n",
    "        self.m = nn.Sequential(*layers)\n",
    "\n",
    "    def forward(self, x): return x + self.m(x) * self.res_scale"
   ]
  },
  {
   "cell_type": "code",
   "execution_count": null,
   "metadata": {},
   "outputs": [],
   "source": [
    "def res_block_upsample(nf):\n",
    "    layers = []\n",
    "    layers.append(conv(nf, nf, actn=True))\n",
    "    layers.append(nn.InstanceNorm2d(nf))\n",
    "    layers.append(conv(nf, nf))\n",
    "    layers.append(nn.InstanceNorm2d(nf))\n",
    "    return ResSequential(layers)"
   ]
  },
  {
   "cell_type": "code",
   "execution_count": null,
   "metadata": {},
   "outputs": [],
   "source": [
    "class UpSampleBlock(nn.Module):\n",
    "    def __init__(self, nf, scale=2):\n",
    "        super().__init__()\n",
    "        layers = []\n",
    "        \n",
    "        for i in range(int(math.log(scale,2))):\n",
    "            layers += [conv(nf, nf*4), \n",
    "                       nn.PixelShuffle(2)]\n",
    "                       \n",
    "        self.sequence = nn.Sequential(*layers)\n",
    "        self.icnr_init()\n",
    "        \n",
    "    def icnr_init(self):\n",
    "        conv_shuffle = self.sequence[0][0]\n",
    "        kernel = icnr(conv_shuffle.weight)\n",
    "        conv_shuffle.weight.data.copy_(kernel);\n",
    "    \n",
    "    def forward(self, x):\n",
    "        return self.sequence(x)"
   ]
  },
  {
   "cell_type": "code",
   "execution_count": null,
   "metadata": {},
   "outputs": [],
   "source": [
    "class ImageModifierModel(nn.Module):\n",
    "    @staticmethod\n",
    "    def generate_base_model():\n",
    "        f = resnet34\n",
    "        cut,lr_cut = model_meta[f]\n",
    "        layers = cut_model(f(True), cut)\n",
    "        return nn.Sequential(*layers), lr_cut\n",
    "\n",
    "    def set_trainable(self, trainable):\n",
    "        set_trainable(self, trainable)\n",
    "        set_trainable(self.rn, False)\n",
    "    \n",
    "    def __init__(self):\n",
    "        super().__init__() \n",
    "        rn, lr_cut = ImageModifierModel.generate_base_model()\n",
    "        self.rn = rn\n",
    "        set_trainable(rn, False)\n",
    "        self.lr_cut = lr_cut\n",
    "        self.sfs = [SaveFeatures(rn[i]) for i in [2,4,5,6]]\n",
    "        \n",
    "        self.up1 = UpSampleBlock(256, 16)  #256 in\n",
    "        self.up2 = UpSampleBlock(128, 8)  #128 in\n",
    "        self.up3 = UpSampleBlock(64, 4)    #64 in\n",
    "        self.up4 = UpSampleBlock(64, 2)   #64 in  \n",
    "        nf_up = 256+128+64+64+3\n",
    "        nf_mid = 256  \n",
    " \n",
    "        mid_layers = []\n",
    "        mid_layers += [conv(nf_up,nf_mid), nn.InstanceNorm2d(nf_mid)]\n",
    "        for i in range(8): mid_layers.append(res_block_upsample(nf_mid))\n",
    "        mid_layers += [conv(nf_mid,nf_mid), nn.InstanceNorm2d(nf_mid), conv(nf_mid, 3)]\n",
    "        self.upconv = nn.Sequential(*mid_layers)\n",
    "             \n",
    "        out_layers = []\n",
    "        out_layers += [conv(6, 3, kernel_size=1)]\n",
    "        self.out = nn.Sequential(*out_layers)\n",
    "        \n",
    "    def forward(self, x): \n",
    "        self.rn(x)\n",
    "        x1 = self.up1(self.sfs[3].features)\n",
    "        x2 = self.up2(self.sfs[2].features)\n",
    "        x3 = self.up3(self.sfs[1].features)\n",
    "        x4 = self.up4(self.sfs[0].features) \n",
    "        x5 = self.upconv(torch.cat([x, x1, x2, x3, x4], dim=1))\n",
    "        return F.tanh(self.out(torch.cat([x, x5], dim=1)))"
   ]
  },
  {
   "cell_type": "markdown",
   "metadata": {},
   "source": [
    "## WGAN Critic Model"
   ]
  },
  {
   "cell_type": "code",
   "execution_count": null,
   "metadata": {},
   "outputs": [],
   "source": [
    "class ConvBlock(nn.Module):\n",
    "    def __init__(self, ni, no, ks, stride, bn=True, pad=None):\n",
    "        super().__init__()   \n",
    "        if pad is None: pad = ks//2//stride\n",
    "        self.conv = nn.Conv2d(ni, no, ks, stride, padding=pad, bias=False)\n",
    "        self.bn = nn.InstanceNorm2d(no) if bn else None\n",
    "        self.relu = nn.PReLU()\n",
    "    \n",
    "    def forward(self, x):\n",
    "        x = self.relu(self.conv(x))\n",
    "        return self.bn(x) if self.bn else x"
   ]
  },
  {
   "cell_type": "code",
   "execution_count": null,
   "metadata": {},
   "outputs": [],
   "source": [
    "class Critic2(nn.Module):\n",
    "    @staticmethod\n",
    "    def generate_base_model():\n",
    "        f = resnet34\n",
    "        cut,lr_cut = model_meta[f]\n",
    "        layers = cut_model(f(True), cut)\n",
    "        return nn.Sequential(*layers), lr_cut\n",
    "    \n",
    "    def set_trainable(self, trainable):\n",
    "        set_trainable(self, trainable)\n",
    "        set_trainable(self.rn, False)\n",
    "        \n",
    "    @staticmethod\n",
    "    def generate_eval_layers(nf_in, nf_mid, sz):\n",
    "        layers = [] \n",
    "        layers.append(ConvBlock(nf_in, nf_mid, 4, 2, bn=False))\n",
    "        csize,cndf = sz//2,nf_mid\n",
    "        layers.append(nn.LayerNorm([cndf, csize, csize]))\n",
    "        layers.append(ConvBlock(cndf, cndf, 3, 1))\n",
    "        layers.append(nn.LayerNorm([cndf, csize, csize]))\n",
    "\n",
    "        while csize > 8:\n",
    "            layers.append(ConvBlock(cndf, cndf*2, 4, 2, bn=False))\n",
    "            cndf = int(cndf*2)\n",
    "            csize = int(csize//2)\n",
    "            layers.append(nn.LayerNorm([cndf, csize, csize]))\n",
    "        \n",
    "        layers.append(nn.Conv2d(cndf, 1, 4, padding=0, bias=False))    \n",
    "        return nn.Sequential(*layers) \n",
    "            \n",
    "    def __init__(self, sz):\n",
    "        super().__init__()\n",
    "         \n",
    "        rn, lr_cut = ImageModifierModel.generate_base_model()\n",
    "        self.rn = rn\n",
    "        set_trainable(self.rn, False)\n",
    "        self.lr_cut = lr_cut\n",
    "        self.sfs = [SaveFeatures(rn[i]) for i in [2,4,5,6]]\n",
    "        \n",
    "        self.feature_eval_1 = Critic2.generate_eval_layers(256*2, 256, sz//16)\n",
    "        self.feature_eval_2 = Critic2.generate_eval_layers(128*2, 128, sz//8)\n",
    "        self.feature_eval_3 = Critic2.generate_eval_layers(64*2, 64, sz//4)\n",
    "        self.feature_eval_4 = Critic2.generate_eval_layers(64*2, 64, sz//2)     \n",
    "        self.pixel_eval = Critic2.generate_eval_layers(6, 64, sz)\n",
    "        \n",
    "    def forward(self, input, orig):\n",
    "        self.rn(orig)\n",
    "        x1 = self.sfs[3].features\n",
    "        x2 = self.sfs[2].features\n",
    "        x3 = self.sfs[1].features\n",
    "        x4 = self.sfs[0].features\n",
    "        \n",
    "        self.rn(input)\n",
    "        y1 = self.sfs[3].features\n",
    "        y2 = self.sfs[2].features\n",
    "        y3 = self.sfs[1].features\n",
    "        y4 = self.sfs[0].features \n",
    "\n",
    "        f1 = self.feature_eval_1(torch.cat([x1, y1], dim=1))\n",
    "        f2 = self.feature_eval_2(torch.cat([x2, y2], dim=1))\n",
    "        f3 = self.feature_eval_3(torch.cat([x3, y3], dim=1))\n",
    "        f4 = self.feature_eval_4(torch.cat([x4, y4], dim=1))\n",
    "  \n",
    "        p = self.pixel_eval(torch.cat([orig, input], dim=1))\n",
    "        return f1.mean() + f2.mean() + f3.mean()  + f4.mean() + p.mean()"
   ]
  },
  {
   "cell_type": "markdown",
   "metadata": {},
   "source": [
    "## Training"
   ]
  },
  {
   "cell_type": "code",
   "execution_count": null,
   "metadata": {},
   "outputs": [],
   "source": [
    "#def train(lrs, session_num: int, cycle_len=2, use_clr_beta=(20,10,0.95,0.85)):\n",
    "#    if session_num > 0:\n",
    "#        learn.load(uid + '_224_' + str(session_num - 1))\n",
    "#    learn.fit(lrs, 1, cycle_len=cycle_len, wds=wd, use_clr_beta=use_clr_beta)\n",
    "#    learn.save(uid + '_224_' + str(session_num))"
   ]
  },
  {
   "cell_type": "code",
   "execution_count": null,
   "metadata": {},
   "outputs": [],
   "source": [
    "wd=1e-7\n",
    "bs = 8\n",
    "sz = 128\n",
    "md = get_model_data(image_size=sz, batch_size=bs, keep_pct=keep_pct)"
   ]
  },
  {
   "cell_type": "code",
   "execution_count": null,
   "metadata": {},
   "outputs": [],
   "source": [
    "netG = ImageModifierModel().cuda()\n",
    "#load_model(netG, G_MODEL_SAVE_PATH)\n",
    "netD = Critic2(sz).cuda()\n",
    "#load_model(netD, D_MODEL_SAVE_PATH)"
   ]
  },
  {
   "cell_type": "code",
   "execution_count": null,
   "metadata": {},
   "outputs": [],
   "source": [
    "#optimizerD = optim.RMSprop(filter(lambda p: p.requires_grad,netD.parameters()), lr = 1e-4)\n",
    "#optimizerG = optim.RMSprop(filter(lambda p: p.requires_grad,netG.parameters()), lr = 1e-4)\n",
    "\n",
    "#optimizerD = optim.RMSprop(filter(lambda p: p.requires_grad,netD.parameters()), lr = 1e-3)\n",
    "#optimizerG = optim.RMSprop(filter(lambda p: p.requires_grad,netG.parameters()), lr = 1e-3)\n",
    "\n",
    "#TODO:  Weird beta 1 value, but we'll see...\n",
    "\n",
    "optimizerD = optim.Adam(filter(lambda p: p.requires_grad,netD.parameters()), lr=1e-4, betas=(0., 0.9))\n",
    "optimizerG = optim.Adam(filter(lambda p: p.requires_grad,netG.parameters()), lr=1e-4, betas=(0., 0.9))"
   ]
  },
  {
   "cell_type": "code",
   "execution_count": null,
   "metadata": {},
   "outputs": [],
   "source": [
    "def calc_gradient_penalty(netD, real_data, fake_data, orig_data):\n",
    "    lamda = 10 # Gradient penalty lambda hyperparameter\n",
    "    # print \"real_data: \", real_data.size(), fake_data.size()\n",
    "    alpha = torch.rand(bs, 1)\n",
    "    alpha = alpha.expand(bs, real_data.nelement()//bs).contiguous().view(bs, 3, sz, sz)\n",
    "    alpha = alpha.cuda()\n",
    "    differences = fake_data - real_data\n",
    "    interpolates = real_data + (alpha*differences)\n",
    "    interpolates = interpolates.cuda()\n",
    "    interpolates = autograd.Variable(interpolates, requires_grad=True)\n",
    "    disc_interpolates = netD(interpolates, orig_data)\n",
    "    gradients = autograd.grad(outputs=disc_interpolates, inputs=interpolates,\n",
    "                              grad_outputs=torch.ones(disc_interpolates.size()).cuda(),\n",
    "                              create_graph=True, retain_graph=True, only_inputs=True)[0]\n",
    "    gradients = gradients.view(gradients.size(0), -1)\n",
    "    gradient_penalty = ((gradients.norm(2, dim=1) - 1) ** 2).mean() * lamda\n",
    "    return gradient_penalty"
   ]
  },
  {
   "cell_type": "code",
   "execution_count": null,
   "metadata": {},
   "outputs": [],
   "source": [
    "def progress_update(i, w_dist, gradient_penalty, disc_real, disc_fake, md, netG, netD, ecount):\n",
    "    if i % 50 == 0:\n",
    "        print(f'\\nWDist {to_np(w_dist)}; GPenalty {to_np(gradient_penalty)}; RScore {to_np(disc_real)};'\n",
    "          + f' FScore {to_np(disc_fake)}; ECount: {ecount}')\n",
    "\n",
    "    if i % 500 == 0:\n",
    "        visualize_image_gen_model(md, netG, 500, 8)\n",
    "        save_model(netD, D_MODEL_SAVE_PATH)\n",
    "        save_model(netG, G_MODEL_SAVE_PATH)\n",
    "\n",
    "def is_equilibrium(disc_real, disc_fake):\n",
    "    if disc_real < disc_fake:\n",
    "        return False\n",
    "        \n",
    "    return abs(disc_real + disc_fake) < (abs(disc_real) + abs(disc_fake))*0.30\n",
    "\n",
    "def train(niter, first=True):\n",
    "    gen_iterations = 0\n",
    "    for epoch in trange(niter):\n",
    "        netD.train(); netG.train()\n",
    "        data_iter = iter(md.trn_dl)\n",
    "        i,n = 0,len(md.trn_dl)\n",
    "        n = n-(n%bs)\n",
    "        with tqdm(total=n) as pbar:\n",
    "            while i < n:\n",
    "                netD.set_trainable(True)\n",
    "                netG.set_trainable(False)\n",
    "                j = 0\n",
    "                equilibrium = False\n",
    "                while (not equilibrium) and (i < n) and j<10000:\n",
    "                    j += 1; i += 1\n",
    "                    #or p in netD.parameters(): p.data.clamp_(-0.01, 0.01)\n",
    "                    x, y = next(data_iter)\n",
    "                    orig_image = V(x)\n",
    "                    real_image = V(y)                        \n",
    "                    #Higher == Real\n",
    "                    disc_real = netD(real_image, orig_image)\n",
    "                    fake_image = netG(orig_image)\n",
    "                    disc_fake = netD(V(fake_image.data), orig_image)\n",
    "                    equilibrium = is_equilibrium(disc_real, disc_fake)\n",
    "                    \n",
    "                    netD.zero_grad()\n",
    "                          \n",
    "                    gradient_penalty = calc_gradient_penalty(netD, real_image.data, fake_image.data, orig_image)              \n",
    "                    disc_cost = disc_fake - disc_real + gradient_penalty\n",
    "                    w_dist = disc_fake - disc_real\n",
    "                    disc_cost.backward()\n",
    "                    optimizerD.step()\n",
    "                    pbar.update()\n",
    "             \n",
    "                    progress_update(i, w_dist, gradient_penalty, disc_real, disc_fake, md, netG, netD, gen_iterations)\n",
    "\n",
    "                    \n",
    "                netD.set_trainable(False)\n",
    "                netG.set_trainable(True)\n",
    "                netG.zero_grad()\n",
    "                \n",
    "                x, y = next(data_iter)\n",
    "                orig_image = V(x)\n",
    "                real_image = V(y)   \n",
    "                fake_image = netG(orig_image)\n",
    "                gen_mse_cost = F.mse_loss(fake_image, real_image)\n",
    "                gen_cost  = -netD(fake_image, orig_image)\n",
    "                gen_cost .backward()\n",
    "                optimizerG.step()\n",
    "                gen_iterations += 1\n",
    "                \n",
    "                progress_update(i, w_dist, gradient_penalty, disc_real, disc_fake, md, netG, netD, gen_iterations)"
   ]
  },
  {
   "cell_type": "code",
   "execution_count": null,
   "metadata": {},
   "outputs": [],
   "source": [
    "torch.backends.cudnn.benchmark=True"
   ]
  },
  {
   "cell_type": "code",
   "execution_count": null,
   "metadata": {},
   "outputs": [],
   "source": [
    "train(1, True)\n",
    "#train(1, False)"
   ]
  },
  {
   "cell_type": "code",
   "execution_count": null,
   "metadata": {},
   "outputs": [],
   "source": []
  },
  {
   "cell_type": "code",
   "execution_count": null,
   "metadata": {},
   "outputs": [],
   "source": [
    "train(9, False)"
   ]
  },
  {
   "cell_type": "code",
   "execution_count": null,
   "metadata": {},
   "outputs": [],
   "source": []
  }
 ],
 "metadata": {
  "kernelspec": {
   "display_name": "Python 3",
   "language": "python",
   "name": "python3"
  },
  "language_info": {
   "codemirror_mode": {
    "name": "ipython",
    "version": 3
   },
   "file_extension": ".py",
   "mimetype": "text/x-python",
   "name": "python",
   "nbconvert_exporter": "python",
   "pygments_lexer": "ipython3",
   "version": "3.6.5"
  },
  "toc": {
   "colors": {
    "hover_highlight": "#DAA520",
    "navigate_num": "#000000",
    "navigate_text": "#333333",
    "running_highlight": "#FF0000",
    "selected_highlight": "#FFD700",
    "sidebar_border": "#EEEEEE",
    "wrapper_background": "#FFFFFF"
   },
   "moveMenuLeft": true,
   "nav_menu": {
    "height": "67px",
    "width": "252px"
   },
   "navigate_menu": true,
   "number_sections": true,
   "sideBar": true,
   "threshold": 4,
   "toc_cell": false,
   "toc_section_display": "block",
   "toc_window_display": false,
   "widenNotebook": false
  }
 },
 "nbformat": 4,
 "nbformat_minor": 2
}
