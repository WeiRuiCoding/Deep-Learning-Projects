{
 "cells": [
  {
   "cell_type": "code",
   "execution_count": null,
   "metadata": {},
   "outputs": [],
   "source": [
    "%matplotlib inline\n",
    "%reload_ext autoreload\n",
    "%autoreload 2"
   ]
  },
  {
   "cell_type": "code",
   "execution_count": null,
   "metadata": {},
   "outputs": [],
   "source": [
    "import multiprocessing\n",
    "from torch import autograd\n",
    "from fastai.conv_learner import *\n",
    "from fasterai.images import *\n",
    "from fasterai.dataset import *\n",
    "from fasterai.visualize import *\n",
    "from fasterai.loss import *\n",
    "from fasterai.modules import *\n",
    "from fasterai.wgan import *\n",
    "from fastai.torch_imports import *\n",
    "from pathlib import Path\n",
    "from itertools import repeat\n",
    "import tensorboardX\n",
    "torch.cuda.set_device(0)\n",
    "plt.style.use('dark_background')\n",
    "torch.backends.cudnn.benchmark=True\n"
   ]
  },
  {
   "cell_type": "code",
   "execution_count": null,
   "metadata": {},
   "outputs": [],
   "source": [
    "DATA_PATH = Path('data/imagenet/ILSVRC/Data/CLS-LOC')\n",
    "TRAIN_SOURCE_PATH = DATA_PATH/'train'\n",
    "proj_id = 'bw2color'\n",
    "\n",
    "D_MODEL_SAVE_PATH = DATA_PATH/(proj_id + '_5004_D.h5')\n",
    "G_MODEL_SAVE_PATH = DATA_PATH/(proj_id + '_5004_G.h5')\n",
    "keep_pct=1.0\n",
    "wd=1e-7\n",
    "bs=8\n",
    "sz=128\n",
    "lr=1e-4\n",
    "torch.backends.cudnn.benchmark=True"
   ]
  },
  {
   "cell_type": "markdown",
   "metadata": {},
   "source": [
    "## EDSR Model"
   ]
  },
  {
   "cell_type": "markdown",
   "metadata": {},
   "source": [
    "##### TODO:  Also try making the loss/output based on \"classification\" like in Zhang et al.\n",
    "##### TODO:  After making unet version- plug that into a Weiserman GAN setup (the discrimator looks at grey image and colorized image, concatenated together via channels).\n",
    "##### TODO:  Try using higher res images (from FloydHub blog?)\n",
    "##### TODO:  Try perceptual loss again....\n",
    "##### TODO:  To convert real old photos, could force them to normal grayscale first.\n",
    "##### TODO:  Add tensorboard graphs"
   ]
  },
  {
   "cell_type": "code",
   "execution_count": null,
   "metadata": {},
   "outputs": [],
   "source": [
    "class ImageModifierModel(nn.Module):\n",
    "    def set_trainable(self, trainable):\n",
    "        set_trainable(self, trainable)\n",
    "        set_trainable(self.rn, False)\n",
    "    \n",
    "    def __init__(self):\n",
    "        super().__init__() \n",
    "        rn, lr_cut = get_pretrained_resnet_base()\n",
    "\n",
    "        self.rn = rn\n",
    "        set_trainable(rn, False)\n",
    "        self.lr_cut = lr_cut\n",
    "        self.sfs = [SaveFeatures(rn[i]) for i in [2,4,5,6]]\n",
    "        \n",
    "        self.up1 = UpSampleBlock(256, 256, 16)  #256 in\n",
    "        self.up2 = UpSampleBlock(128, 128, 8)  #128 in\n",
    "        self.up3 = UpSampleBlock(64, 64, 4)    #64 in\n",
    "        self.up4 = UpSampleBlock(64, 64, 2)   #64 in  \n",
    "        nf_up = 256+128+64+64+3\n",
    "        nf_mid = 256  \n",
    " \n",
    "        mid_layers = []\n",
    "        mid_layers += [ConvBlock(nf_up,nf_mid, bn=True, actn=False)]\n",
    "        \n",
    "        for i in range(8): \n",
    "            mid_layers.append(ConvBlock(nf_mid, nf_mid))\n",
    "            mid_layers.append(ConvBlock(nf_mid, nf_mid, bn=False, actn=False))\n",
    "            \n",
    "        mid_layers += [ConvBlock(nf_mid,nf_mid, actn=False), \n",
    "                       ConvBlock(nf_mid, 3, bn=False, actn=False)]\n",
    "        self.upconv = nn.Sequential(*mid_layers)\n",
    "             \n",
    "        out_layers = []\n",
    "        out_layers += [ConvBlock(6, 3, ks=1, bn=False, actn=False)]\n",
    "        self.out = nn.Sequential(*out_layers)\n",
    "        \n",
    "    def forward(self, x): \n",
    "        self.rn(x)\n",
    "        x1 = self.up1(self.sfs[3].features)\n",
    "        x2 = self.up2(self.sfs[2].features)\n",
    "        x3 = self.up3(self.sfs[1].features)\n",
    "        x4 = self.up4(self.sfs[0].features) \n",
    "        x5 = self.upconv(torch.cat([x, x1, x2, x3, x4], dim=1))\n",
    "        return F.tanh(self.out(torch.cat([x, x5], dim=1)))"
   ]
  },
  {
   "cell_type": "markdown",
   "metadata": {},
   "source": [
    "## WGAN Critic Model"
   ]
  },
  {
   "cell_type": "code",
   "execution_count": null,
   "metadata": {},
   "outputs": [],
   "source": [
    "class Critic(nn.Module):\n",
    "    def set_trainable(self, trainable):\n",
    "        set_trainable(self, trainable)\n",
    "        set_trainable(self.rn, False)\n",
    "              \n",
    "    def __init__(self, sz):\n",
    "        super().__init__()      \n",
    "        self.rn, self.lr_cut = get_pretrained_resnet_base()\n",
    "        set_trainable(self.rn, False)\n",
    "        self.sfs = [SaveFeatures(self.rn[i]) for i in [2,4,5,6]]     \n",
    "        self.feature_eval_1 = DCCritic(256*2, 256, sz//16)\n",
    "        self.feature_eval_2 = DCCritic(128*2, 128, sz//8)\n",
    "        self.feature_eval_3 = DCCritic(64*2, 64, sz//4)\n",
    "        self.feature_eval_4 = DCCritic(64*2, 64, sz//2)     \n",
    "        self.pixel_eval = DCCritic(6, 64, sz)\n",
    "        \n",
    "    def forward(self, input, orig):\n",
    "        self.rn(orig)\n",
    "        x1 = self.sfs[3].features\n",
    "        x2 = self.sfs[2].features\n",
    "        x3 = self.sfs[1].features\n",
    "        x4 = self.sfs[0].features\n",
    "        \n",
    "        self.rn(input)\n",
    "        y1 = self.sfs[3].features\n",
    "        y2 = self.sfs[2].features\n",
    "        y3 = self.sfs[1].features\n",
    "        y4 = self.sfs[0].features \n",
    "\n",
    "        f1 = self.feature_eval_1(torch.cat([x1, y1], dim=1))\n",
    "        f2 = self.feature_eval_2(torch.cat([x2, y2], dim=1))\n",
    "        f3 = self.feature_eval_3(torch.cat([x3, y3], dim=1))\n",
    "        f4 = self.feature_eval_4(torch.cat([x4, y4], dim=1))\n",
    "  \n",
    "        p = self.pixel_eval(torch.cat([orig, input], dim=1))\n",
    "        return f1.mean() + f2.mean() + f3.mean()  + f4.mean() + p.mean()"
   ]
  },
  {
   "cell_type": "markdown",
   "metadata": {},
   "source": [
    "## Training"
   ]
  },
  {
   "cell_type": "code",
   "execution_count": null,
   "metadata": {},
   "outputs": [],
   "source": [
    "netG = ImageModifierModel().cuda()\n",
    "#load_model(netG, G_MODEL_SAVE_PATH)\n",
    "netD = Critic(sz).cuda()\n",
    "#load_model(netD, D_MODEL_SAVE_PATH)"
   ]
  },
  {
   "cell_type": "code",
   "execution_count": null,
   "metadata": {},
   "outputs": [],
   "source": [
    "#optimizerD = optim.RMSprop(filter(lambda p: p.requires_grad,netD.parameters()), lr = 1e-4)\n",
    "#optimizerG = optim.RMSprop(filter(lambda p: p.requires_grad,netG.parameters()), lr = 1e-4)\n",
    "\n",
    "#optimizerD = optim.RMSprop(filter(lambda p: p.requires_grad,netD.parameters()), lr = 1e-3)\n",
    "#optimizerG = optim.RMSprop(filter(lambda p: p.requires_grad,netG.parameters()), lr = 1e-3)\n",
    "\n",
    "#TODO:  Weird beta 1 value, but we'll see...\n",
    "\n",
    "optimizerD = optim.Adam(filter(lambda p: p.requires_grad,netD.parameters()), lr=lr, betas=(0., 0.9))\n",
    "optimizerG = optim.Adam(filter(lambda p: p.requires_grad,netG.parameters()), lr=lr, betas=(0., 0.9))"
   ]
  },
  {
   "cell_type": "code",
   "execution_count": null,
   "metadata": {},
   "outputs": [],
   "source": [
    "def calc_gradient_penalty(netD, real_data, fake_data, orig_data):\n",
    "    lamda = 10 # Gradient penalty lambda hyperparameter\n",
    "    # print \"real_data: \", real_data.size(), fake_data.size()\n",
    "    alpha = torch.rand(bs, 1)\n",
    "    alpha = alpha.expand(bs, real_data.nelement()//bs).contiguous().view(bs, 3, sz, sz)\n",
    "    alpha = alpha.cuda()\n",
    "    differences = fake_data - real_data\n",
    "    interpolates = real_data + (alpha*differences)\n",
    "    interpolates = interpolates.cuda()\n",
    "    interpolates = autograd.Variable(interpolates, requires_grad=True)\n",
    "    disc_interpolates = netD(interpolates, orig_data)\n",
    "    gradients = autograd.grad(outputs=disc_interpolates, inputs=interpolates,\n",
    "                              grad_outputs=torch.ones(disc_interpolates.size()).cuda(),\n",
    "                              create_graph=True, retain_graph=True, only_inputs=True)[0]\n",
    "    gradients = gradients.view(gradients.size(0), -1)\n",
    "    gradient_penalty = ((gradients.norm(2, dim=1) - 1) ** 2).mean() * lamda\n",
    "    return gradient_penalty"
   ]
  },
  {
   "cell_type": "code",
   "execution_count": null,
   "metadata": {},
   "outputs": [],
   "source": [
    "def progress_update(i, w_dist, gradient_penalty, disc_real, disc_fake, md, netG, netD, ecount):\n",
    "    if i % 50 == 0:\n",
    "        print(f'\\nWDist {to_np(w_dist)}; GPenalty {to_np(gradient_penalty)}; RScore {to_np(disc_real)};'\n",
    "          + f' FScore {to_np(disc_fake)}; ECount: {ecount}')\n",
    "\n",
    "    if i % 500 == 0:\n",
    "        visualize_image_gen_model(md, netG, 500, 8)\n",
    "        save_model(netD, D_MODEL_SAVE_PATH)\n",
    "        save_model(netG, G_MODEL_SAVE_PATH)\n",
    "\n",
    "def is_equilibrium(disc_real, disc_fake):\n",
    "    if disc_real < disc_fake:\n",
    "        return False\n",
    "        \n",
    "    return abs(disc_real + disc_fake) < (abs(disc_real) + abs(disc_fake))*0.30\n",
    "\n",
    "def train(niter, first=True):\n",
    "    gen_iterations = 0\n",
    "    for epoch in trange(niter):\n",
    "        netD.train(); netG.train()\n",
    "        data_iter = iter(md.trn_dl)\n",
    "        i,n = 0,len(md.trn_dl)\n",
    "        n = n-(n%bs)\n",
    "        with tqdm(total=n) as pbar:\n",
    "            while i < n:\n",
    "                netD.set_trainable(True)\n",
    "                netG.set_trainable(False)\n",
    "                j = 0\n",
    "                equilibrium = False\n",
    "                while (not equilibrium) and (i < n) and j<10000:\n",
    "                    j += 1; i += 1\n",
    "                    #or p in netD.parameters(): p.data.clamp_(-0.01, 0.01)\n",
    "                    x, y = next(data_iter)\n",
    "                    orig_image = V(x)\n",
    "                    real_image = V(y)                        \n",
    "                    #Higher == Real\n",
    "                    disc_real = netD(real_image, orig_image)\n",
    "                    fake_image = netG(orig_image)\n",
    "                    disc_fake = netD(V(fake_image.data), orig_image)\n",
    "                    equilibrium = is_equilibrium(disc_real, disc_fake)\n",
    "                    \n",
    "                    netD.zero_grad()\n",
    "                          \n",
    "                    gradient_penalty = calc_gradient_penalty(netD, real_image.data, fake_image.data, orig_image)              \n",
    "                    disc_cost = disc_fake - disc_real + gradient_penalty\n",
    "                    w_dist = disc_fake - disc_real\n",
    "                    disc_cost.backward()\n",
    "                    optimizerD.step()\n",
    "                    pbar.update()\n",
    "             \n",
    "                    progress_update(i, w_dist, gradient_penalty, disc_real, disc_fake, md, netG, netD, gen_iterations)\n",
    "\n",
    "                    \n",
    "                netD.set_trainable(False)\n",
    "                netG.set_trainable(True)\n",
    "                netG.zero_grad()\n",
    "                \n",
    "                x, y = next(data_iter)\n",
    "                orig_image = V(x)\n",
    "                real_image = V(y)   \n",
    "                fake_image = netG(orig_image)\n",
    "                gen_mse_cost = F.mse_loss(fake_image, real_image)\n",
    "                gen_cost  = -netD(fake_image, orig_image)\n",
    "                gen_cost .backward()\n",
    "                optimizerG.step()\n",
    "                gen_iterations += 1\n",
    "                \n",
    "                progress_update(i, w_dist, gradient_penalty, disc_real, disc_fake, md, netG, netD, gen_iterations)"
   ]
  },
  {
   "cell_type": "code",
   "execution_count": null,
   "metadata": {},
   "outputs": [],
   "source": [
    "md = get_matched_image_model_data(image_size=sz, batch_size=bs, root_data_path=DATA_PATH, train_root_path=TRAIN_SOURCE_PATH, proj_id=proj_id, keep_pct=keep_pct)"
   ]
  },
  {
   "cell_type": "code",
   "execution_count": null,
   "metadata": {},
   "outputs": [],
   "source": [
    "train(1, True)\n",
    "#train(1, False)"
   ]
  },
  {
   "cell_type": "code",
   "execution_count": null,
   "metadata": {},
   "outputs": [],
   "source": []
  },
  {
   "cell_type": "code",
   "execution_count": null,
   "metadata": {},
   "outputs": [],
   "source": [
    "train(9, False)"
   ]
  },
  {
   "cell_type": "code",
   "execution_count": null,
   "metadata": {},
   "outputs": [],
   "source": []
  }
 ],
 "metadata": {
  "kernelspec": {
   "display_name": "Python 3",
   "language": "python",
   "name": "python3"
  },
  "language_info": {
   "codemirror_mode": {
    "name": "ipython",
    "version": 3
   },
   "file_extension": ".py",
   "mimetype": "text/x-python",
   "name": "python",
   "nbconvert_exporter": "python",
   "pygments_lexer": "ipython3",
   "version": "3.6.5"
  },
  "toc": {
   "colors": {
    "hover_highlight": "#DAA520",
    "navigate_num": "#000000",
    "navigate_text": "#333333",
    "running_highlight": "#FF0000",
    "selected_highlight": "#FFD700",
    "sidebar_border": "#EEEEEE",
    "wrapper_background": "#FFFFFF"
   },
   "moveMenuLeft": true,
   "nav_menu": {
    "height": "67px",
    "width": "252px"
   },
   "navigate_menu": true,
   "number_sections": true,
   "sideBar": true,
   "threshold": 4,
   "toc_cell": false,
   "toc_section_display": "block",
   "toc_window_display": false,
   "widenNotebook": false
  }
 },
 "nbformat": 4,
 "nbformat_minor": 2
}
