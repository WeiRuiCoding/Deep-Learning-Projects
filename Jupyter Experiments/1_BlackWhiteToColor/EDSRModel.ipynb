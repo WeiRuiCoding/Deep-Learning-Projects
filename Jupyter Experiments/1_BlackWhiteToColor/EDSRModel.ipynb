{
 "cells": [
  {
   "cell_type": "code",
   "execution_count": null,
   "metadata": {},
   "outputs": [],
   "source": [
    "%matplotlib inline\n",
    "%reload_ext autoreload\n",
    "%autoreload 2"
   ]
  },
  {
   "cell_type": "code",
   "execution_count": null,
   "metadata": {},
   "outputs": [],
   "source": [
    "import multiprocessing\n",
    "from fastai.conv_learner import *\n",
    "from fasterai.images import *\n",
    "from fasterai.dataset import *\n",
    "from fasterai.visualize import *\n",
    "from pathlib import Path\n",
    "from itertools import repeat\n",
    "torch.cuda.set_device(2)\n",
    "plt.style.use('dark_background')\n",
    "torch.backends.cudnn.benchmark=True"
   ]
  },
  {
   "cell_type": "code",
   "execution_count": null,
   "metadata": {},
   "outputs": [],
   "source": [
    "DATA_PATH = Path('data/imagenet/ILSVRC/Data/CLS-LOC')\n",
    "TRAIN_SOURCE_PATH = DATA_PATH/'train'\n",
    "uid = 'bw2color'\n",
    "keep_pct=0.1\n",
    "#keep_pct=0.1\n",
    "#keep_pct=0.005\n",
    "#keep_pct=1.0"
   ]
  },
  {
   "cell_type": "code",
   "execution_count": null,
   "metadata": {},
   "outputs": [],
   "source": [
    "def get_model_data(image_size: int, batch_size: int, keep_pct: float):\n",
    "    TRAIN_X_PATH = generate_image_preprocess_path(TRAIN_SOURCE_PATH, is_x=True, size=image_size, uid=uid)\n",
    "    TRAIN_Y_PATH = generate_image_preprocess_path(TRAIN_SOURCE_PATH, is_x=False, size=image_size, uid=uid)\n",
    "    x_paths, y_paths = get_matched_xy_file_lists(TRAIN_X_PATH, TRAIN_Y_PATH)\n",
    "    x_paths_str = convert_paths_to_str(x_paths)\n",
    "    y_paths_str = convert_paths_to_str(y_paths)\n",
    "    print(x_paths_str[:5])\n",
    "    print(y_paths_str[:5])\n",
    "    np.random.seed(42)\n",
    "    keeps = np.random.rand(len(x_paths_str)) < keep_pct\n",
    "    fnames_x = np.array(x_paths_str, copy=False)[keeps]\n",
    "    fnames_y = np.array(y_paths_str, copy=False)[keeps]\n",
    "    val_idxs = get_cv_idxs(len(fnames_x), val_pct=min(0.01/keep_pct, 0.1))\n",
    "    ((val_x,trn_x),(val_y,trn_y)) = split_by_idx(val_idxs, np.array(fnames_x), np.array(fnames_y))\n",
    "    img_fn = TRAIN_Y_PATH/'n01558993'/'n01558993_9684.JPEG'\n",
    "    tfms = tfms_from_model(vgg16, image_size, tfm_y=TfmType.PIXEL, aug_tfms=transforms_side_on, sz_y=image_size)\n",
    "    datasets = ImageData.get_ds(MatchedFilesDataset, (trn_x,trn_y), (val_x,val_y), tfms, path=TRAIN_Y_PATH.parent)\n",
    "    md = ImageData(DATA_PATH, datasets, batch_size, num_workers=16, classes=None)\n",
    "    return md"
   ]
  },
  {
   "cell_type": "code",
   "execution_count": null,
   "metadata": {
    "scrolled": false
   },
   "outputs": [],
   "source": [
    "md = get_model_data(image_size=64, batch_size=24, keep_pct=keep_pct)\n",
    "denorm = md.val_ds.denorm"
   ]
  },
  {
   "cell_type": "code",
   "execution_count": null,
   "metadata": {},
   "outputs": [],
   "source": [
    "def generate_denormed_image_pairs(ds: FilesDataset, batches: [(ndarray,ndarray)], idx:int = 0):\n",
    "    return [(ds.denorm(x)[idx], ds.denorm(y)[idx])for (x,y) in batches]"
   ]
  },
  {
   "cell_type": "markdown",
   "metadata": {},
   "source": [
    "## Model"
   ]
  },
  {
   "cell_type": "markdown",
   "metadata": {},
   "source": [
    "##### TODO:  Also try making the loss/output based on \"classification\" like in Zhang et al.\n",
    "##### TODO:  After making unet version- plug that into a Weiserman GAN setup (the discrimator looks at grey image and colorized image, concatenated together via channels).\n",
    "##### TODO:  Try using higher res images (from FloydHub blog?)\n",
    "##### TODO:  Try perceptual loss again....\n",
    "##### TODO:  To convert real old photos, could force them to normal grayscale first."
   ]
  },
  {
   "cell_type": "code",
   "execution_count": null,
   "metadata": {},
   "outputs": [],
   "source": [
    "def icnr(x, scale=2, init=nn.init.kaiming_normal):\n",
    "    new_shape = [int(x.shape[0] / (scale ** 2))] + list(x.shape[1:])\n",
    "    subkernel = torch.zeros(new_shape)\n",
    "    subkernel = init(subkernel)\n",
    "    subkernel = subkernel.transpose(0, 1)\n",
    "    subkernel = subkernel.contiguous().view(subkernel.shape[0],\n",
    "                                            subkernel.shape[1], -1)\n",
    "    kernel = subkernel.repeat(1, 1, scale ** 2)\n",
    "    transposed_shape = [x.shape[1]] + [x.shape[0]] + list(x.shape[2:])\n",
    "    kernel = kernel.contiguous().view(transposed_shape)\n",
    "    kernel = kernel.transpose(0, 1)\n",
    "    return kernel"
   ]
  },
  {
   "cell_type": "code",
   "execution_count": null,
   "metadata": {},
   "outputs": [],
   "source": [
    "class SaveFeatures():\n",
    "    features=None\n",
    "    def __init__(self, m): \n",
    "        self.hook = m.register_forward_hook(self.hook_fn)\n",
    "    def hook_fn(self, module, input, output): \n",
    "        self.features = output\n",
    "    def remove(self): \n",
    "        self.hook.remove()"
   ]
  },
  {
   "cell_type": "code",
   "execution_count": null,
   "metadata": {},
   "outputs": [],
   "source": [
    "class FeatureLoss(nn.Module):\n",
    "    def __init__(self, block_wgts: [float] = [0.2,0.7,0.1]):\n",
    "        super().__init__()\n",
    "        m_vgg = vgg16(True)\n",
    "        \n",
    "        blocks = [i-1 for i,o in enumerate(children(m_vgg))\n",
    "              if isinstance(o,nn.MaxPool2d)]\n",
    "        blocks, [m_vgg[i] for i in blocks]\n",
    "        layer_ids = blocks[:3]\n",
    "        \n",
    "        vgg_layers = children(m_vgg)[:23]\n",
    "        m_vgg = nn.Sequential(*vgg_layers).cuda().eval()\n",
    "        set_trainable(m_vgg, False)\n",
    "        \n",
    "        self.m,self.wgts = m_vgg,block_wgts\n",
    "        self.sfs = [SaveFeatures(m_vgg[i]) for i in layer_ids]\n",
    "\n",
    "    def forward(self, input, target, sum_layers=True):\n",
    "        self.m(VV(target.data))\n",
    "        res = [F.l1_loss(input,target)/100]\n",
    "        targ_feat = [V(o.features.data.clone()) for o in self.sfs]\n",
    "        self.m(input)\n",
    "        res += [F.l1_loss(self.flatten(inp.features),self.flatten(targ))*wgt\n",
    "               for inp,targ,wgt in zip(self.sfs, targ_feat, self.wgts)]\n",
    "        if sum_layers: res = sum(res)\n",
    "        return res\n",
    "    \n",
    "    def flatten(self, x): \n",
    "        return x.view(x.size(0), -1)\n",
    "    \n",
    "    def close(self):\n",
    "        for o in self.sfs: o.remove()"
   ]
  },
  {
   "cell_type": "code",
   "execution_count": null,
   "metadata": {},
   "outputs": [],
   "source": [
    "def conv(ni, nf, kernel_size=3, actn=False):\n",
    "    layers = [nn.Conv2d(ni, nf, kernel_size, padding=kernel_size//2)]\n",
    "    if actn: layers.append(nn.ReLU(True))\n",
    "    return nn.Sequential(*layers)"
   ]
  },
  {
   "cell_type": "code",
   "execution_count": null,
   "metadata": {},
   "outputs": [],
   "source": [
    "class UpSampleBlock(nn.Module):\n",
    "    def __init__(self, ni, nf, scale=2):\n",
    "        super().__init__()\n",
    "        layers = []\n",
    "        for i in range(int(math.log(scale,2))):\n",
    "            layers += [conv(ni, nf*4), nn.PixelShuffle(2)]\n",
    "        self.sequence = nn.Sequential(*layers)\n",
    "        self.icnr_init()\n",
    "        \n",
    "    def icnr_init(self):\n",
    "        conv_shuffle = self.sequence[0][0]\n",
    "        kernel = icnr(conv_shuffle.weight)\n",
    "        conv_shuffle.weight.data.copy_(kernel);\n",
    "    \n",
    "    def forward(self, x):\n",
    "        return self.sequence(x)"
   ]
  },
  {
   "cell_type": "code",
   "execution_count": null,
   "metadata": {},
   "outputs": [],
   "source": [
    "class ResSequential(nn.Module):\n",
    "    def __init__(self, layers, res_scale=1.0):\n",
    "        super().__init__()\n",
    "        self.res_scale = res_scale\n",
    "        self.m = nn.Sequential(*layers)\n",
    "\n",
    "    def forward(self, x): return x + self.m(x) * self.res_scale"
   ]
  },
  {
   "cell_type": "code",
   "execution_count": null,
   "metadata": {},
   "outputs": [],
   "source": [
    "def res_block(nf):\n",
    "    return ResSequential(\n",
    "        [conv(nf, nf, actn=True), conv(nf, nf)], 0.1)"
   ]
  },
  {
   "cell_type": "code",
   "execution_count": null,
   "metadata": {},
   "outputs": [],
   "source": [
    "class ImageModifierModel(nn.Module):\n",
    "    @staticmethod\n",
    "    def generate_base_model():\n",
    "        f = resnet34\n",
    "        cut,lr_cut = model_meta[f]\n",
    "        layers = cut_model(f(True), cut)\n",
    "        return nn.Sequential(*layers), lr_cut\n",
    "\n",
    "    def set_trainable(self, trainable):\n",
    "        set_trainable(self, trainable)\n",
    "        set_trainable(self.rn, False)\n",
    "    \n",
    "    def __init__(self, nf_up=64, nf_mid=256):\n",
    "        super().__init__() \n",
    "        rn, lr_cut = ImageModifierModel.generate_base_model()\n",
    "        self.rn = rn\n",
    "        set_trainable(rn, False)\n",
    "        self.lr_cut = lr_cut\n",
    "        self.sfs = [SaveFeatures(rn[i]) for i in [2,4,5,6]]\n",
    "        \n",
    "        self.up1 = nn.Sequential(*[UpSampleBlock(256,nf_up, 2), UpSampleBlock(nf_up,nf_up, 8)])  #256 in\n",
    "        self.up2 = nn.Sequential(*[UpSampleBlock(128, nf_up, 2), UpSampleBlock(nf_up,nf_up, 4)])  #128 in\n",
    "        self.up3 = nn.Sequential(*[UpSampleBlock(64,nf_up), UpSampleBlock(nf_up,nf_up, 2)])    #64 in\n",
    "        self.up4 = UpSampleBlock(64, nf_up)   #64 in  \n",
    "        \n",
    "        mid_layers = []\n",
    "        mid_layers += [conv(nf_up * 4,nf_mid), nn.BatchNorm2d(nf_mid)]\n",
    "        for i in range(8): mid_layers.append(res_block(nf_mid))\n",
    "        mid_layers += [nn.BatchNorm2d(nf_mid), conv(nf_mid, 3, kernel_size=1)]\n",
    "        self.upconv = nn.Sequential(*mid_layers)\n",
    "             \n",
    "        out_layers = []\n",
    "        out_layers += [conv(6, 3, kernel_size=1)]\n",
    "        self.out = nn.Sequential(*out_layers)\n",
    "        \n",
    "    def forward(self, x): \n",
    "        self.rn(x)\n",
    "        x1 = self.up1(self.sfs[3].features)\n",
    "        x2 = self.up2(self.sfs[2].features)\n",
    "        x3 = self.up3(self.sfs[1].features)\n",
    "        x4 = self.up4(self.sfs[0].features) \n",
    "        x5 = self.upconv(torch.cat([x1, x2, x3, x4], dim=1))\n",
    "        #x5 = self.upconv(torch.cat([x2, x3, x4], dim=1))\n",
    "        return F.tanh(self.out(torch.cat([x, x5], dim=1)))"
   ]
  },
  {
   "cell_type": "code",
   "execution_count": null,
   "metadata": {},
   "outputs": [],
   "source": [
    "class ImageModifierModelWrapper():\n",
    "    def __init__(self):\n",
    "        self.model = to_gpu(ImageModifierModel())\n",
    "        self.name = 'imod'\n",
    "\n",
    "    def get_layer_groups(self, precompute):\n",
    "        lgs = list(split_by_idxs(children(self.model.rn), [self.model.lr_cut]))\n",
    "        return lgs + [children(self.model)[1:]]"
   ]
  },
  {
   "cell_type": "markdown",
   "metadata": {},
   "source": [
    "## Training"
   ]
  },
  {
   "cell_type": "code",
   "execution_count": null,
   "metadata": {},
   "outputs": [],
   "source": [
    "def train(lrs, session_num: int, cycle_len=2, use_clr_beta=(20,10,0.95,0.85)):\n",
    "    if session_num > 0:\n",
    "        learn.load(uid + '_2_' + str(session_num - 1))\n",
    "    learn.fit(lrs, 1, cycle_len=cycle_len, wds=wd, use_clr_beta=use_clr_beta)\n",
    "    learn.save(uid + '_2_' + str(session_num))"
   ]
  },
  {
   "cell_type": "code",
   "execution_count": null,
   "metadata": {},
   "outputs": [],
   "source": [
    "#m = SrResnet(64, 1)\n",
    "#imod = ImageModifierModelWrapper()\n",
    "imod = ImageModifierModelWrapper()\n",
    "learn = ConvLearner(md, imod)\n",
    "learn.metrics = []\n",
    "learn.opt_fn=optim.Adam\n",
    "learn.crit = F.mse_loss #(turns sepia/blurry)\n",
    "#learn.crit = FeatureLoss()\n",
    "#learn.crit = F.l1_loss\n",
    "wd=1e-7\n",
    "#learn.models.model = nn.DataParallel(learn.models.model, [0,1,2,3])"
   ]
  },
  {
   "cell_type": "code",
   "execution_count": null,
   "metadata": {},
   "outputs": [],
   "source": [
    "learn.freeze_to(1)"
   ]
  },
  {
   "cell_type": "code",
   "execution_count": null,
   "metadata": {},
   "outputs": [],
   "source": [
    "learn.lr_find(1e-3, 1e2, wds=wd, linear=False)"
   ]
  },
  {
   "cell_type": "code",
   "execution_count": null,
   "metadata": {},
   "outputs": [],
   "source": [
    "learn.sched.plot(n_skip=0, n_skip_end=0)"
   ]
  },
  {
   "cell_type": "code",
   "execution_count": null,
   "metadata": {},
   "outputs": [],
   "source": [
    "lr=5e-4\n",
    "lrs = np.array([lr/100,lr/10,lr])"
   ]
  },
  {
   "cell_type": "code",
   "execution_count": null,
   "metadata": {},
   "outputs": [],
   "source": [
    "train(lr,0,cycle_len=2, use_clr_beta=(5,8,0.95,0.85)) \n",
    "visualize_image_gen_model(md, imod.model, 220, 8, immediate_display=False)"
   ]
  },
  {
   "cell_type": "code",
   "execution_count": null,
   "metadata": {},
   "outputs": [],
   "source": [
    "learn.unfreeze()\n",
    "learn.bn_freeze(True)"
   ]
  },
  {
   "cell_type": "code",
   "execution_count": null,
   "metadata": {},
   "outputs": [],
   "source": [
    "train(lrs/4,1,cycle_len=2,use_clr_beta=(20,10,0.95,0.85)) \n",
    "visualize_image_gen_model(md, imod.model, 220, 8, immediate_display=False)"
   ]
  },
  {
   "cell_type": "markdown",
   "metadata": {},
   "source": [
    "## 128 x 128"
   ]
  },
  {
   "cell_type": "code",
   "execution_count": null,
   "metadata": {},
   "outputs": [],
   "source": [
    "learn.freeze_to(1)"
   ]
  },
  {
   "cell_type": "code",
   "execution_count": null,
   "metadata": {},
   "outputs": [],
   "source": [
    "md = get_model_data(image_size=128, batch_size=64, keep_pct=keep_pct)\n",
    "learn.set_data(md)"
   ]
  },
  {
   "cell_type": "code",
   "execution_count": null,
   "metadata": {},
   "outputs": [],
   "source": [
    "lr=lr/8\n",
    "lrs = np.array([lr/100,lr/10,lr])"
   ]
  },
  {
   "cell_type": "code",
   "execution_count": null,
   "metadata": {},
   "outputs": [],
   "source": [
    "train(lrs,2,cycle_len=2, use_clr_beta=(5,5,0.95,0.85)) \n",
    "visualize_image_gen_model(220,8, immediate_display=False)"
   ]
  },
  {
   "cell_type": "code",
   "execution_count": null,
   "metadata": {},
   "outputs": [],
   "source": [
    "visualize_image_gen_model(md, imod.model, 40, 64, figsize=(20,160), immediate_display=False)"
   ]
  },
  {
   "cell_type": "code",
   "execution_count": null,
   "metadata": {},
   "outputs": [],
   "source": [
    "learn.unfreeze()\n",
    "learn.bn_freeze(True)"
   ]
  },
  {
   "cell_type": "code",
   "execution_count": null,
   "metadata": {},
   "outputs": [],
   "source": [
    "train(lrs/4,3,cycle_len=2, use_clr_beta=(20,8,0.95,0.85)) \n",
    "visualize_image_gen_model(220,8, immediate_display=False)"
   ]
  },
  {
   "cell_type": "markdown",
   "metadata": {},
   "source": [
    "## 224 x 224"
   ]
  },
  {
   "cell_type": "code",
   "execution_count": null,
   "metadata": {},
   "outputs": [],
   "source": [
    "learn.freeze_to(1)"
   ]
  },
  {
   "cell_type": "code",
   "execution_count": null,
   "metadata": {},
   "outputs": [],
   "source": [
    "md = get_model_data(image_size=224, batch_size=16, keep_pct=keep_pct)\n",
    "learn.set_data(md)"
   ]
  },
  {
   "cell_type": "code",
   "execution_count": null,
   "metadata": {},
   "outputs": [],
   "source": [
    "learn.lr_find(1e-4, 1e1, wds=wd, linear=False)"
   ]
  },
  {
   "cell_type": "code",
   "execution_count": null,
   "metadata": {},
   "outputs": [],
   "source": [
    "learn.sched.plot(n_skip=0, n_skip_end=0)"
   ]
  },
  {
   "cell_type": "code",
   "execution_count": null,
   "metadata": {},
   "outputs": [],
   "source": [
    "#lr=lr/8\n",
    "lr =1e-3\n",
    "lrs = np.array([lr/100,lr/10,lr])"
   ]
  },
  {
   "cell_type": "code",
   "execution_count": null,
   "metadata": {},
   "outputs": [],
   "source": [
    "visualize_image_gen_model(md, imod.model, 40, 64, figsize=(20,160), immediate_display=False)"
   ]
  },
  {
   "cell_type": "code",
   "execution_count": null,
   "metadata": {},
   "outputs": [],
   "source": [
    "train(lrs/10,4,cycle_len=2, use_clr_beta=(20,8,0.95,0.85)) \n",
    "visualize_image_gen_model(220,8, immediate_display=False)"
   ]
  }
 ],
 "metadata": {
  "kernelspec": {
   "display_name": "Python 3",
   "language": "python",
   "name": "python3"
  },
  "language_info": {
   "codemirror_mode": {
    "name": "ipython",
    "version": 3
   },
   "file_extension": ".py",
   "mimetype": "text/x-python",
   "name": "python",
   "nbconvert_exporter": "python",
   "pygments_lexer": "ipython3",
   "version": "3.6.5"
  },
  "toc": {
   "colors": {
    "hover_highlight": "#DAA520",
    "navigate_num": "#000000",
    "navigate_text": "#333333",
    "running_highlight": "#FF0000",
    "selected_highlight": "#FFD700",
    "sidebar_border": "#EEEEEE",
    "wrapper_background": "#FFFFFF"
   },
   "moveMenuLeft": true,
   "nav_menu": {
    "height": "67px",
    "width": "252px"
   },
   "navigate_menu": true,
   "number_sections": true,
   "sideBar": true,
   "threshold": 4,
   "toc_cell": false,
   "toc_section_display": "block",
   "toc_window_display": false,
   "widenNotebook": false
  }
 },
 "nbformat": 4,
 "nbformat_minor": 2
}
