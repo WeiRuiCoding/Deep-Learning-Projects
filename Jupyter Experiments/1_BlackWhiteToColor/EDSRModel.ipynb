{
 "cells": [
  {
   "cell_type": "code",
   "execution_count": 1,
   "metadata": {},
   "outputs": [],
   "source": [
    "%matplotlib inline\n",
    "%reload_ext autoreload\n",
    "%autoreload 2"
   ]
  },
  {
   "cell_type": "code",
   "execution_count": 2,
   "metadata": {},
   "outputs": [
    {
     "name": "stderr",
     "output_type": "stream",
     "text": [
      "/home/jason/anaconda3/envs/fastai/lib/python3.6/importlib/_bootstrap.py:219: RuntimeWarning: numpy.dtype size changed, may indicate binary incompatibility. Expected 96, got 88\n",
      "  return f(*args, **kwds)\n",
      "/home/jason/anaconda3/envs/fastai/lib/python3.6/importlib/_bootstrap.py:219: RuntimeWarning: numpy.dtype size changed, may indicate binary incompatibility. Expected 96, got 88\n",
      "  return f(*args, **kwds)\n",
      "/home/jason/anaconda3/envs/fastai/lib/python3.6/importlib/_bootstrap.py:219: RuntimeWarning: numpy.dtype size changed, may indicate binary incompatibility. Expected 96, got 88\n",
      "  return f(*args, **kwds)\n",
      "/home/jason/anaconda3/envs/fastai/lib/python3.6/site-packages/sklearn/ensemble/weight_boosting.py:29: DeprecationWarning: numpy.core.umath_tests is an internal NumPy module and should not be imported. It will be removed in a future NumPy release.\n",
      "  from numpy.core.umath_tests import inner1d\n"
     ]
    }
   ],
   "source": [
    "import multiprocessing\n",
    "from fastai.conv_learner import *\n",
    "from fasterai.images import *\n",
    "from fasterai.dataset import *\n",
    "from fasterai.visualize import *\n",
    "from fasterai.loss import *\n",
    "from fasterai.models import *\n",
    "from pathlib import Path\n",
    "from itertools import repeat\n",
    "torch.cuda.set_device(2)\n",
    "plt.style.use('dark_background')\n",
    "torch.backends.cudnn.benchmark=True"
   ]
  },
  {
   "cell_type": "code",
   "execution_count": 3,
   "metadata": {},
   "outputs": [],
   "source": [
    "DATA_PATH = Path('data/imagenet/ILSVRC/Data/CLS-LOC')\n",
    "TRAIN_SOURCE_PATH = DATA_PATH/'train'\n",
    "proj_id = 'bw2color'\n",
    "wd=1e-7\n",
    "keep_pct=0.1"
   ]
  },
  {
   "cell_type": "markdown",
   "metadata": {},
   "source": [
    "## Model"
   ]
  },
  {
   "cell_type": "markdown",
   "metadata": {},
   "source": [
    "##### TODO:  Also try making the loss/output based on \"classification\" like in Zhang et al.\n",
    "##### TODO:  After making unet version- plug that into a Weiserman GAN setup (the discrimator looks at grey image and colorized image, concatenated together via channels).\n",
    "##### TODO:  Try using higher res images (from FloydHub blog?)\n",
    "##### TODO:  Try perceptual loss again....\n",
    "##### TODO:  To convert real old photos, could force them to normal grayscale first."
   ]
  },
  {
   "cell_type": "code",
   "execution_count": 4,
   "metadata": {},
   "outputs": [],
   "source": [
    "class ImageModifierModel(nn.Module):\n",
    "    @staticmethod\n",
    "    def _res_block(nf):\n",
    "        return ResSequential(\n",
    "            [ConvBlock(nf, nf, actn=True, bn=False), \n",
    "             ConvBlock(nf, nf, actn=False, bn=False)], 0.1)\n",
    "    \n",
    "    @staticmethod\n",
    "    def _generate_base_model():\n",
    "        f = resnet34\n",
    "        cut,lr_cut = model_meta[f]\n",
    "        layers = cut_model(f(True), cut)\n",
    "        return nn.Sequential(*layers), lr_cut\n",
    "\n",
    "    def set_trainable(self, trainable):\n",
    "        set_trainable(self, trainable)\n",
    "        set_trainable(self.rn, False)\n",
    "    \n",
    "    def __init__(self, nf_up=64, nf_mid=256):\n",
    "        super().__init__() \n",
    "        rn, lr_cut = ImageModifierModel._generate_base_model()\n",
    "        self.rn = rn\n",
    "        set_trainable(rn, False)\n",
    "        self.lr_cut = lr_cut\n",
    "        self.sfs = [SaveFeatures(rn[i]) for i in [2,4,5,6]]\n",
    "        \n",
    "        self.up1 = nn.Sequential(*[UpSampleBlock(256, nf_up, 2), UpSampleBlock(nf_up,nf_up, 8)])  #256 in\n",
    "        self.up2 = nn.Sequential(*[UpSampleBlock(128, nf_up, 2), UpSampleBlock(nf_up,nf_up, 4)])  #128 in\n",
    "        self.up3 = nn.Sequential(*[UpSampleBlock(64,nf_up), UpSampleBlock(nf_up,nf_up, 2)])    #64 in\n",
    "        self.up4 = UpSampleBlock(64, nf_up)   #64 in  \n",
    "        \n",
    "        mid_layers = []\n",
    "        mid_layers += [ConvBlock(nf_up * 4,nf_mid, actn=False)]\n",
    "        for i in range(8): mid_layers.append(ImageModifierModel._res_block(nf_mid))\n",
    "        mid_layers += [nn.BatchNorm2d(nf_mid), ConvBlock(nf_mid, 3, ks=1, actn=False, bn=False)]\n",
    "        self.upconv = nn.Sequential(*mid_layers)\n",
    "             \n",
    "        out_layers = []\n",
    "        out_layers += [ConvBlock(6, 3, ks=1, actn=False, bn=False)]\n",
    "        self.out = nn.Sequential(*out_layers)\n",
    "        \n",
    "    def forward(self, x): \n",
    "        self.rn(x)\n",
    "        x1 = self.up1(self.sfs[3].features)\n",
    "        x2 = self.up2(self.sfs[2].features)\n",
    "        x3 = self.up3(self.sfs[1].features)\n",
    "        x4 = self.up4(self.sfs[0].features) \n",
    "        x5 = self.upconv(torch.cat([x1, x2, x3, x4], dim=1))\n",
    "        return F.tanh(self.out(torch.cat([x, x5], dim=1)))"
   ]
  },
  {
   "cell_type": "code",
   "execution_count": 5,
   "metadata": {},
   "outputs": [],
   "source": [
    "class ImageModifierModelWrapper():\n",
    "    def __init__(self):\n",
    "        self.model = to_gpu(ImageModifierModel())\n",
    "        self.name = 'imodwrapper'\n",
    "\n",
    "    def get_layer_groups(self, precompute):\n",
    "        lgs = list(split_by_idxs(children(self.model.rn), [self.model.lr_cut]))\n",
    "        return lgs + [children(self.model)[1:]]"
   ]
  },
  {
   "cell_type": "markdown",
   "metadata": {},
   "source": [
    "## Training"
   ]
  },
  {
   "cell_type": "code",
   "execution_count": 6,
   "metadata": {},
   "outputs": [],
   "source": [
    "def train(lrs, session_num: int, cycle_len=2, use_clr_beta=(20,10,0.95,0.85)):\n",
    "    if session_num > 0:\n",
    "        learn.load(proj_id + '_2_' + str(session_num - 1))\n",
    "    learn.fit(lrs, 1, cycle_len=cycle_len, wds=wd, use_clr_beta=use_clr_beta)\n",
    "    learn.save(proj_id + '_2_' + str(session_num))"
   ]
  },
  {
   "cell_type": "code",
   "execution_count": 7,
   "metadata": {
    "scrolled": false
   },
   "outputs": [],
   "source": [
    "md = get_matched_image_model_data(image_size=64, batch_size=24, root_data_path=DATA_PATH, train_root_path=TRAIN_SOURCE_PATH, proj_id=proj_id, keep_pct=keep_pct)"
   ]
  },
  {
   "cell_type": "code",
   "execution_count": 8,
   "metadata": {},
   "outputs": [
    {
     "name": "stderr",
     "output_type": "stream",
     "text": [
      "/media/jason/Projects/Deep Learning/Deep Learning Projects/Jupyter Experiments/1_BlackWhiteToColor/fasterai/models.py:31: UserWarning: nn.init.kaiming_normal is now deprecated in favor of nn.init.kaiming_normal_.\n",
      "  subkernel = init(subkernel)\n",
      "/media/jason/Projects/Deep Learning/Deep Learning Projects/Jupyter Experiments/1_BlackWhiteToColor/fasterai/models.py:31: UserWarning: nn.init.kaiming_normal is now deprecated in favor of nn.init.kaiming_normal_.\n",
      "  subkernel = init(subkernel)\n",
      "/media/jason/Projects/Deep Learning/Deep Learning Projects/Jupyter Experiments/1_BlackWhiteToColor/fasterai/models.py:31: UserWarning: nn.init.kaiming_normal is now deprecated in favor of nn.init.kaiming_normal_.\n",
      "  subkernel = init(subkernel)\n",
      "/media/jason/Projects/Deep Learning/Deep Learning Projects/Jupyter Experiments/1_BlackWhiteToColor/fasterai/models.py:31: UserWarning: nn.init.kaiming_normal is now deprecated in favor of nn.init.kaiming_normal_.\n",
      "  subkernel = init(subkernel)\n",
      "/media/jason/Projects/Deep Learning/Deep Learning Projects/Jupyter Experiments/1_BlackWhiteToColor/fasterai/models.py:31: UserWarning: nn.init.kaiming_normal is now deprecated in favor of nn.init.kaiming_normal_.\n",
      "  subkernel = init(subkernel)\n",
      "/media/jason/Projects/Deep Learning/Deep Learning Projects/Jupyter Experiments/1_BlackWhiteToColor/fasterai/models.py:31: UserWarning: nn.init.kaiming_normal is now deprecated in favor of nn.init.kaiming_normal_.\n",
      "  subkernel = init(subkernel)\n",
      "/media/jason/Projects/Deep Learning/Deep Learning Projects/Jupyter Experiments/1_BlackWhiteToColor/fasterai/models.py:31: UserWarning: nn.init.kaiming_normal is now deprecated in favor of nn.init.kaiming_normal_.\n",
      "  subkernel = init(subkernel)\n"
     ]
    }
   ],
   "source": [
    "#m = SrResnet(64, 1)\n",
    "#imod = ImageModifierModelWrapper()\n",
    "imod = ImageModifierModelWrapper()\n",
    "learn = ConvLearner(md, imod)\n",
    "learn.metrics = []\n",
    "learn.opt_fn=optim.Adam\n",
    "learn.crit = F.mse_loss #(turns sepia/blurry)\n",
    "#learn.crit = FeatureLoss()\n",
    "#learn.crit = F.l1_loss\n",
    "#learn.models.model = nn.DataParallel(learn.models.model, [0,1,2,3])"
   ]
  },
  {
   "cell_type": "code",
   "execution_count": 9,
   "metadata": {},
   "outputs": [],
   "source": [
    "learn.freeze_to(1)"
   ]
  },
  {
   "cell_type": "code",
   "execution_count": 10,
   "metadata": {},
   "outputs": [
    {
     "data": {
      "application/vnd.jupyter.widget-view+json": {
       "model_id": "f4e90881b30144faa1c3bbd0c32520ec",
       "version_major": 2,
       "version_minor": 0
      },
      "text/plain": [
       "HBox(children=(IntProgress(value=0, description='Epoch', max=1), HTML(value='')))"
      ]
     },
     "metadata": {},
     "output_type": "display_data"
    },
    {
     "name": "stdout",
     "output_type": "stream",
     "text": [
      " 12%|█▏        | 569/4801 [03:37<26:58,  2.62it/s, loss=0.159]"
     ]
    }
   ],
   "source": [
    "learn.lr_find(1e-3, 1e2, wds=wd, linear=False)"
   ]
  },
  {
   "cell_type": "code",
   "execution_count": 11,
   "metadata": {},
   "outputs": [
    {
     "data": {
      "image/png": "[encoded data removed]",
      "text/plain": [
       "<Figure size 432x288 with 1 Axes>"
      ]
     },
     "metadata": {},
     "output_type": "display_data"
    }
   ],
   "source": [
    "learn.sched.plot(n_skip=0, n_skip_end=0)"
   ]
  },
  {
   "cell_type": "code",
   "execution_count": 14,
   "metadata": {},
   "outputs": [],
   "source": [
    "lr=1e-3\n",
    "lrs = np.array([lr/100,lr/10,lr])"
   ]
  },
  {
   "cell_type": "code",
   "execution_count": null,
   "metadata": {},
   "outputs": [
    {
     "data": {
      "application/vnd.jupyter.widget-view+json": {
       "model_id": "d0da73e4925349f8a5830a4697ce035a",
       "version_major": 2,
       "version_minor": 0
      },
      "text/plain": [
       "HBox(children=(IntProgress(value=0, description='Epoch', max=2), HTML(value='')))"
      ]
     },
     "metadata": {},
     "output_type": "display_data"
    },
    {
     "name": "stdout",
     "output_type": "stream",
     "text": [
      "epoch      trn_loss   val_loss   \n",
      "    0      0.139739   0.089336  \n",
      "  7%|▋         | 347/4801 [02:27<31:36,  2.35it/s, loss=0.137]"
     ]
    }
   ],
   "source": [
    "train(lr,0,cycle_len=2, use_clr_beta=(5,8,0.95,0.85)) \n",
    "visualize_image_gen_model(md, imod.model, 220, 8, immediate_display=False)"
   ]
  },
  {
   "cell_type": "code",
   "execution_count": null,
   "metadata": {},
   "outputs": [],
   "source": [
    "learn.unfreeze()\n",
    "learn.bn_freeze(True)"
   ]
  },
  {
   "cell_type": "code",
   "execution_count": null,
   "metadata": {},
   "outputs": [],
   "source": [
    "train(lrs/4,1,cycle_len=2,use_clr_beta=(20,10,0.95,0.85)) \n",
    "visualize_image_gen_model(md, imod.model, 220, 8, immediate_display=False)"
   ]
  },
  {
   "cell_type": "markdown",
   "metadata": {},
   "source": [
    "## 128 x 128"
   ]
  },
  {
   "cell_type": "code",
   "execution_count": null,
   "metadata": {},
   "outputs": [],
   "source": [
    "learn.freeze_to(1)"
   ]
  },
  {
   "cell_type": "code",
   "execution_count": null,
   "metadata": {},
   "outputs": [],
   "source": [
    "md = get_matched_image_model_data(image_size=128, batch_size=64, root_data_path=DATA_PATH, train_root_path=TRAIN_SOURCE_PATH, proj_id=proj_id, keep_pct=keep_pct)\n",
    "learn.set_data(md)"
   ]
  },
  {
   "cell_type": "code",
   "execution_count": null,
   "metadata": {},
   "outputs": [],
   "source": [
    "lr=lr/8\n",
    "lrs = np.array([lr/100,lr/10,lr])"
   ]
  },
  {
   "cell_type": "code",
   "execution_count": null,
   "metadata": {},
   "outputs": [],
   "source": [
    "train(lrs,2,cycle_len=2, use_clr_beta=(5,5,0.95,0.85)) \n",
    "visualize_image_gen_model(220,8, immediate_display=False)"
   ]
  },
  {
   "cell_type": "code",
   "execution_count": null,
   "metadata": {},
   "outputs": [],
   "source": [
    "visualize_image_gen_model(md, imod.model, 40, 64, figsize=(20,160), immediate_display=False)"
   ]
  },
  {
   "cell_type": "code",
   "execution_count": null,
   "metadata": {},
   "outputs": [],
   "source": [
    "learn.unfreeze()\n",
    "learn.bn_freeze(True)"
   ]
  },
  {
   "cell_type": "code",
   "execution_count": null,
   "metadata": {},
   "outputs": [],
   "source": [
    "train(lrs/4,3,cycle_len=2, use_clr_beta=(20,8,0.95,0.85)) \n",
    "visualize_image_gen_model(220,8, immediate_display=False)"
   ]
  },
  {
   "cell_type": "markdown",
   "metadata": {},
   "source": [
    "## 224 x 224"
   ]
  },
  {
   "cell_type": "code",
   "execution_count": null,
   "metadata": {},
   "outputs": [],
   "source": [
    "learn.freeze_to(1)"
   ]
  },
  {
   "cell_type": "code",
   "execution_count": null,
   "metadata": {},
   "outputs": [],
   "source": [
    "md = get_matched_image_model_data(image_size=224, batch_size=16, root_data_path=DATA_PATH, train_root_path=TRAIN_SOURCE_PATH, proj_id=proj_id, keep_pct=keep_pct)\n",
    "learn.set_data(md)"
   ]
  },
  {
   "cell_type": "code",
   "execution_count": null,
   "metadata": {},
   "outputs": [],
   "source": [
    "learn.lr_find(1e-4, 1e1, wds=wd, linear=False)"
   ]
  },
  {
   "cell_type": "code",
   "execution_count": null,
   "metadata": {},
   "outputs": [],
   "source": [
    "learn.sched.plot(n_skip=0, n_skip_end=0)"
   ]
  },
  {
   "cell_type": "code",
   "execution_count": null,
   "metadata": {},
   "outputs": [],
   "source": [
    "#lr=lr/8\n",
    "lr =1e-3\n",
    "lrs = np.array([lr/100,lr/10,lr])"
   ]
  },
  {
   "cell_type": "code",
   "execution_count": null,
   "metadata": {},
   "outputs": [],
   "source": [
    "visualize_image_gen_model(md, imod.model, 40, 64, figsize=(20,160), immediate_display=False)"
   ]
  },
  {
   "cell_type": "code",
   "execution_count": null,
   "metadata": {},
   "outputs": [],
   "source": [
    "train(lrs/10,4,cycle_len=2, use_clr_beta=(20,8,0.95,0.85)) \n",
    "visualize_image_gen_model(220,8, immediate_display=False)"
   ]
  }
 ],
 "metadata": {
  "kernelspec": {
   "display_name": "Python 3",
   "language": "python",
   "name": "python3"
  },
  "language_info": {
   "codemirror_mode": {
    "name": "ipython",
    "version": 3
   },
   "file_extension": ".py",
   "mimetype": "text/x-python",
   "name": "python",
   "nbconvert_exporter": "python",
   "pygments_lexer": "ipython3",
   "version": "3.6.5"
  },
  "toc": {
   "colors": {
    "hover_highlight": "#DAA520",
    "navigate_num": "#000000",
    "navigate_text": "#333333",
    "running_highlight": "#FF0000",
    "selected_highlight": "#FFD700",
    "sidebar_border": "#EEEEEE",
    "wrapper_background": "#FFFFFF"
   },
   "moveMenuLeft": true,
   "nav_menu": {
    "height": "67px",
    "width": "252px"
   },
   "navigate_menu": true,
   "number_sections": true,
   "sideBar": true,
   "threshold": 4,
   "toc_cell": false,
   "toc_section_display": "block",
   "toc_window_display": false,
   "widenNotebook": false
  }
 },
 "nbformat": 4,
 "nbformat_minor": 2
}
