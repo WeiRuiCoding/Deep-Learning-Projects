{
 "cells": [
  {
   "cell_type": "code",
   "execution_count": 1,
   "metadata": {},
   "outputs": [],
   "source": [
    "%matplotlib inline\n",
    "%reload_ext autoreload\n",
    "%autoreload 2"
   ]
  },
  {
   "cell_type": "code",
   "execution_count": 2,
   "metadata": {},
   "outputs": [
    {
     "name": "stderr",
     "output_type": "stream",
     "text": [
      "/home/jason/anaconda3/envs/fastai/lib/python3.6/importlib/_bootstrap.py:219: RuntimeWarning: numpy.dtype size changed, may indicate binary incompatibility. Expected 96, got 88\n",
      "  return f(*args, **kwds)\n",
      "/home/jason/anaconda3/envs/fastai/lib/python3.6/importlib/_bootstrap.py:219: RuntimeWarning: numpy.dtype size changed, may indicate binary incompatibility. Expected 96, got 88\n",
      "  return f(*args, **kwds)\n",
      "/home/jason/anaconda3/envs/fastai/lib/python3.6/importlib/_bootstrap.py:219: RuntimeWarning: numpy.dtype size changed, may indicate binary incompatibility. Expected 96, got 88\n",
      "  return f(*args, **kwds)\n",
      "/home/jason/anaconda3/envs/fastai/lib/python3.6/site-packages/sklearn/ensemble/weight_boosting.py:29: DeprecationWarning: numpy.core.umath_tests is an internal NumPy module and should not be imported. It will be removed in a future NumPy release.\n",
      "  from numpy.core.umath_tests import inner1d\n"
     ]
    }
   ],
   "source": [
    "import multiprocessing\n",
    "from torch import autograd\n",
    "from fastai.conv_learner import *\n",
    "from fasterai.images import *\n",
    "from fasterai.dataset import *\n",
    "from fasterai.visualize import *\n",
    "from pathlib import Path\n",
    "from itertools import repeat\n",
    "import tensorboardX\n",
    "torch.cuda.set_device(2)\n",
    "plt.style.use('dark_background')\n",
    "torch.backends.cudnn.benchmark=True\n"
   ]
  },
  {
   "cell_type": "code",
   "execution_count": 3,
   "metadata": {},
   "outputs": [],
   "source": [
    "DATA_PATH = Path('data/imagenet/ILSVRC/Data/CLS-LOC')\n",
    "TRAIN_SOURCE_PATH = DATA_PATH/'train'\n",
    "uid = 'bw2color'\n",
    "#keep_pct=0.02\n",
    "keep_pct=1.0\n",
    "#keep_pct=0.005\n",
    "#keep_pct=1.0"
   ]
  },
  {
   "cell_type": "code",
   "execution_count": 4,
   "metadata": {},
   "outputs": [],
   "source": [
    "def get_model_data(image_size: int, batch_size: int, keep_pct: float):\n",
    "    TRAIN_X_PATH = generate_image_preprocess_path(TRAIN_SOURCE_PATH, is_x=True, size=image_size, uid=uid)\n",
    "    TRAIN_Y_PATH = generate_image_preprocess_path(TRAIN_SOURCE_PATH, is_x=False, size=image_size, uid=uid)\n",
    "    x_paths, y_paths = get_matched_xy_file_lists(TRAIN_X_PATH, TRAIN_Y_PATH)\n",
    "    x_paths_str = convert_paths_to_str(x_paths)\n",
    "    y_paths_str = convert_paths_to_str(y_paths)\n",
    "    print(x_paths_str[:5])\n",
    "    print(y_paths_str[:5])\n",
    "    np.random.seed(42)\n",
    "    keeps = np.random.rand(len(x_paths_str)) < keep_pct\n",
    "    fnames_x = np.array(x_paths_str, copy=False)[keeps]\n",
    "    fnames_y = np.array(y_paths_str, copy=False)[keeps]\n",
    "    val_idxs = get_cv_idxs(len(fnames_x), val_pct=min(0.01/keep_pct, 0.1))\n",
    "    ((val_x,trn_x),(val_y,trn_y)) = split_by_idx(val_idxs, np.array(fnames_x), np.array(fnames_y))\n",
    "    img_fn = TRAIN_Y_PATH/'n01558993'/'n01558993_9684.JPEG'\n",
    "    tfms = tfms_from_stats(inception_stats, image_size, tfm_y=TfmType.PIXEL, aug_tfms=transforms_side_on, sz_y=image_size)\n",
    "    datasets = ImageData.get_ds(MatchedFilesDataset, (trn_x,trn_y), (val_x,val_y), tfms, path=TRAIN_Y_PATH.parent)\n",
    "    md = ImageData(DATA_PATH, datasets, batch_size, num_workers=16, classes=None)\n",
    "    return md"
   ]
  },
  {
   "cell_type": "code",
   "execution_count": 5,
   "metadata": {
    "scrolled": false
   },
   "outputs": [
    {
     "name": "stdout",
     "output_type": "stream",
     "text": [
      "['train_x_bw2color_224/n01440764/n01440764_10026.JPEG', 'train_x_bw2color_224/n01440764/n01440764_10027.JPEG', 'train_x_bw2color_224/n01440764/n01440764_10029.JPEG', 'train_x_bw2color_224/n01440764/n01440764_10040.JPEG', 'train_x_bw2color_224/n01440764/n01440764_10042.JPEG']\n",
      "['train_y_bw2color_224/n01440764/n01440764_10026.JPEG', 'train_y_bw2color_224/n01440764/n01440764_10027.JPEG', 'train_y_bw2color_224/n01440764/n01440764_10029.JPEG', 'train_y_bw2color_224/n01440764/n01440764_10040.JPEG', 'train_y_bw2color_224/n01440764/n01440764_10042.JPEG']\n"
     ]
    }
   ],
   "source": [
    "md = get_model_data(image_size=224, batch_size=128, keep_pct=keep_pct)\n",
    "denorm = md.val_ds.denorm"
   ]
  },
  {
   "cell_type": "code",
   "execution_count": 6,
   "metadata": {},
   "outputs": [],
   "source": [
    "def generate_denormed_image_pairs(ds: FilesDataset, batches: [(ndarray,ndarray)], idx:int = 0):\n",
    "    return [(ds.denorm(x)[idx], ds.denorm(y)[idx])for (x,y) in batches]"
   ]
  },
  {
   "cell_type": "markdown",
   "metadata": {},
   "source": [
    "## EDSR Model"
   ]
  },
  {
   "cell_type": "markdown",
   "metadata": {},
   "source": [
    "##### TODO:  Also try making the loss/output based on \"classification\" like in Zhang et al.\n",
    "##### TODO:  After making unet version- plug that into a Weiserman GAN setup (the discrimator looks at grey image and colorized image, concatenated together via channels).\n",
    "##### TODO:  Try using higher res images (from FloydHub blog?)\n",
    "##### TODO:  Try perceptual loss again....\n",
    "##### TODO:  To convert real old photos, could force them to normal grayscale first.\n",
    "##### TODO:  Add tensorboard graphs"
   ]
  },
  {
   "cell_type": "code",
   "execution_count": 7,
   "metadata": {},
   "outputs": [],
   "source": [
    "def icnr(x, scale=2, init=nn.init.kaiming_normal):\n",
    "    new_shape = [int(x.shape[0] / (scale ** 2))] + list(x.shape[1:])\n",
    "    subkernel = torch.zeros(new_shape)\n",
    "    subkernel = init(subkernel)\n",
    "    subkernel = subkernel.transpose(0, 1)\n",
    "    subkernel = subkernel.contiguous().view(subkernel.shape[0],\n",
    "                                            subkernel.shape[1], -1)\n",
    "    kernel = subkernel.repeat(1, 1, scale ** 2)\n",
    "    transposed_shape = [x.shape[1]] + [x.shape[0]] + list(x.shape[2:])\n",
    "    kernel = kernel.contiguous().view(transposed_shape)\n",
    "    kernel = kernel.transpose(0, 1)\n",
    "    return kernel"
   ]
  },
  {
   "cell_type": "code",
   "execution_count": 8,
   "metadata": {},
   "outputs": [],
   "source": [
    "class SaveFeatures():\n",
    "    features=None\n",
    "    def __init__(self, m): \n",
    "        self.hook = m.register_forward_hook(self.hook_fn)\n",
    "    def hook_fn(self, module, input, output): \n",
    "        self.features = output\n",
    "    def remove(self): \n",
    "        self.hook.remove()"
   ]
  },
  {
   "cell_type": "code",
   "execution_count": 9,
   "metadata": {},
   "outputs": [],
   "source": [
    "class FeatureLoss(nn.Module):\n",
    "    def __init__(self, block_wgts: [float] = [0.2,0.7,0.1]):\n",
    "        super().__init__()\n",
    "        m_vgg = vgg16(True)\n",
    "        \n",
    "        blocks = [i-1 for i,o in enumerate(children(m_vgg))\n",
    "              if isinstance(o,nn.MaxPool2d)]\n",
    "        blocks, [m_vgg[i] for i in blocks]\n",
    "        layer_ids = blocks[:3]\n",
    "        \n",
    "        vgg_layers = children(m_vgg)[:23]\n",
    "        m_vgg = nn.Sequential(*vgg_layers).cuda().eval()\n",
    "        set_trainable(m_vgg, False)\n",
    "        \n",
    "        self.m,self.wgts = m_vgg,block_wgts\n",
    "        self.sfs = [SaveFeatures(m_vgg[i]) for i in layer_ids]\n",
    "\n",
    "    def forward(self, input, target, sum_layers=True):\n",
    "        self.m(VV(target.data))\n",
    "        res = [F.l1_loss(input,target)/100]\n",
    "        targ_feat = [V(o.features.data.clone()) for o in self.sfs]\n",
    "        self.m(input)\n",
    "        res += [F.l1_loss(self.flatten(inp.features),self.flatten(targ))*wgt\n",
    "               for inp,targ,wgt in zip(self.sfs, targ_feat, self.wgts)]\n",
    "        if sum_layers: res = sum(res)\n",
    "        return res\n",
    "    \n",
    "    def flatten(self, x): \n",
    "        return x.view(x.size(0), -1)\n",
    "    \n",
    "    def close(self):\n",
    "        for o in self.sfs: o.remove()"
   ]
  },
  {
   "cell_type": "code",
   "execution_count": 10,
   "metadata": {},
   "outputs": [],
   "source": [
    "def conv(ni, nf, kernel_size=3, actn=False, stride=1):\n",
    "    layers = [nn.Conv2d(ni, nf, kernel_size, padding=kernel_size//2, stride=stride)]\n",
    "    if actn: layers.append(nn.ReLU(True))\n",
    "    return nn.Sequential(*layers)"
   ]
  },
  {
   "cell_type": "code",
   "execution_count": 11,
   "metadata": {},
   "outputs": [],
   "source": [
    "class UpSampleBlock(nn.Module):\n",
    "    def __init__(self, ni, nf, scale=2):\n",
    "        super().__init__()\n",
    "        layers = []\n",
    "        for i in range(int(math.log(scale,2))):\n",
    "            layers += [conv(ni, nf*4), nn.PixelShuffle(2)]\n",
    "        self.sequence = nn.Sequential(*layers)\n",
    "        self.icnr_init()\n",
    "        \n",
    "    def icnr_init(self):\n",
    "        conv_shuffle = self.sequence[0][0]\n",
    "        kernel = icnr(conv_shuffle.weight)\n",
    "        conv_shuffle.weight.data.copy_(kernel);\n",
    "    \n",
    "    def forward(self, x):\n",
    "        return self.sequence(x)"
   ]
  },
  {
   "cell_type": "code",
   "execution_count": 12,
   "metadata": {},
   "outputs": [],
   "source": [
    "class ResSequential(nn.Module):\n",
    "    def __init__(self, layers, res_scale=1.0):\n",
    "        super().__init__()\n",
    "        self.res_scale = res_scale\n",
    "        self.m = nn.Sequential(*layers)\n",
    "\n",
    "    def forward(self, x): return x + self.m(x) * self.res_scale"
   ]
  },
  {
   "cell_type": "code",
   "execution_count": 13,
   "metadata": {},
   "outputs": [],
   "source": [
    "def res_block(nf):\n",
    "    return ResSequential(\n",
    "        [conv(nf, nf, actn=True), conv(nf, nf)], 0.1)"
   ]
  },
  {
   "cell_type": "code",
   "execution_count": 14,
   "metadata": {},
   "outputs": [],
   "source": [
    "class ImageModifierModel(nn.Module):\n",
    "    @staticmethod\n",
    "    def generate_base_model():\n",
    "        f = resnet34\n",
    "        cut,lr_cut = model_meta[f]\n",
    "        layers = cut_model(f(True), cut)\n",
    "        return nn.Sequential(*layers), lr_cut\n",
    "\n",
    "    def set_trainable(self, trainable):\n",
    "        set_trainable(self, trainable)\n",
    "        set_trainable(self.rn, False)\n",
    "    \n",
    "    def __init__(self, nf_up=32, nf_mid=64):\n",
    "        super().__init__() \n",
    "        rn, lr_cut = ImageModifierModel.generate_base_model()\n",
    "        self.rn = rn\n",
    "        set_trainable(rn, False)\n",
    "        self.lr_cut = lr_cut\n",
    "        self.sfs = [SaveFeatures(rn[i]) for i in [2,4,5,6]]\n",
    "        \n",
    "        self.up1 = nn.Sequential(*[UpSampleBlock(256,nf_up, 2), UpSampleBlock(nf_up,nf_up, 8)])  #256 in\n",
    "        self.up2 = nn.Sequential(*[UpSampleBlock(128, nf_up, 2), UpSampleBlock(nf_up,nf_up, 4)])  #128 in\n",
    "        self.up3 = nn.Sequential(*[UpSampleBlock(64,nf_up), UpSampleBlock(nf_up,nf_up, 2)])    #64 in\n",
    "        self.up4 = UpSampleBlock(64, nf_up)   #64 in  \n",
    "        \n",
    "        mid_layers = []\n",
    "        mid_layers += [conv(128,nf_mid), nn.BatchNorm2d(nf_mid)]\n",
    "        for i in range(8): mid_layers.append(res_block(nf_mid))\n",
    "        mid_layers += [nn.BatchNorm2d(nf_mid), conv(nf_mid, 3, kernel_size=1)]\n",
    "        self.upconv = nn.Sequential(*mid_layers)\n",
    "             \n",
    "        out_layers = []\n",
    "        out_layers += [conv(6, 3, kernel_size=1)]\n",
    "        self.out = nn.Sequential(*out_layers)\n",
    "        \n",
    "    def forward(self, x): \n",
    "        self.rn(x)\n",
    "        x1 = self.up1(self.sfs[3].features)\n",
    "        x2 = self.up2(self.sfs[2].features)\n",
    "        x3 = self.up3(self.sfs[1].features)\n",
    "        x4 = self.up4(self.sfs[0].features) \n",
    "        x5 = self.upconv(torch.cat([x1, x2, x3, x4], dim=1))\n",
    "        #x5 = self.upconv(torch.cat([x2, x3, x4], dim=1))\n",
    "        return F.tanh(self.out(torch.cat([x, x5], dim=1)))"
   ]
  },
  {
   "cell_type": "markdown",
   "metadata": {},
   "source": [
    "## WGAN Critic Model"
   ]
  },
  {
   "cell_type": "code",
   "execution_count": 15,
   "metadata": {},
   "outputs": [],
   "source": [
    "class ConvBlock(nn.Module):\n",
    "    def __init__(self, ni, no, ks, stride, bn=True, pad=None):\n",
    "        super().__init__()   \n",
    "        if pad is None: pad = ks//2//stride\n",
    "        self.conv = nn.Conv2d(ni, no, ks, stride, padding=pad, bias=False)\n",
    "        self.bn = nn.BatchNorm2d(no) if bn else None\n",
    "        self.relu = nn.LeakyReLU(0.2, inplace=True)\n",
    "    \n",
    "    def forward(self, x):\n",
    "        x = self.relu(self.conv(x))\n",
    "        return self.bn(x) if self.bn else x"
   ]
  },
  {
   "cell_type": "code",
   "execution_count": 16,
   "metadata": {},
   "outputs": [],
   "source": [
    "class Critic(nn.Module):\n",
    "    \n",
    "    @staticmethod\n",
    "    def generate_base_model():\n",
    "        f = resnet34\n",
    "        cut,lr_cut = model_meta[f]\n",
    "        layers = cut_model(f(True), cut)\n",
    "        return nn.Sequential(*layers), lr_cut\n",
    "    \n",
    "    def set_trainable(self, trainable):\n",
    "        set_trainable(self, trainable)\n",
    "        set_trainable(self.rn, False)\n",
    "    \n",
    "    def __init__(self, size, nf_up, nf_mid):\n",
    "        super().__init__()\n",
    " \n",
    "        rn, lr_cut = ImageModifierModel.generate_base_model()\n",
    "        self.rn = rn\n",
    "        set_trainable(rn, False)\n",
    "        self.lr_cut = lr_cut\n",
    "        self.sfs = [SaveFeatures(rn[i]) for i in [2,4,5,6]]\n",
    "        \n",
    "        self.up1 = nn.Sequential(*[UpSampleBlock(256,nf_up, 2), UpSampleBlock(nf_up,nf_up, 8)])  #256 in\n",
    "        self.up2 = nn.Sequential(*[UpSampleBlock(128, nf_up, 2), UpSampleBlock(nf_up,nf_up, 4)])  #128 in\n",
    "        self.up3 = nn.Sequential(*[UpSampleBlock(64,nf_up), UpSampleBlock(nf_up,nf_up, 2)])    #64 in\n",
    "        self.up4 = UpSampleBlock(64, nf_up)   #64 in  \n",
    "        \n",
    "        self.raw_up = nn.Sequential(*[conv(3, nf_up)])\n",
    "        \n",
    "        mid_layers = []\n",
    "        #mid_layers += [conv(nf_up*10,nf_mid), nn.BatchNorm2d(nf_mid)]\n",
    "        mid_layers += [conv(nf_up*10,nf_mid)]\n",
    "        for i in range(8): mid_layers.append(res_block(nf_mid))\n",
    "        #mid_layers += [nn.BatchNorm2d(nf_mid), conv(nf_mid, nf_mid)]\n",
    "        mid_layers += [conv(nf_mid, nf_mid)]\n",
    "        self.upconv = nn.Sequential(*mid_layers)\n",
    "        \n",
    "        \n",
    "        pyr_layers = []\n",
    "        csize = size\n",
    "        cndf = nf_mid\n",
    "        \n",
    "        while csize > 8:\n",
    "            pyr_layers.append(ConvBlock(cndf, cndf*2, 4, 2, bn=False))\n",
    "            cndf *= 2; csize /= 2\n",
    "        self.pyramid = nn.Sequential(*pyr_layers)\n",
    "        \n",
    "        self.final = nn.Conv2d(cndf, 1, 4, padding=0, bias=False)\n",
    "        \n",
    "    def forward(self, input, orig):\n",
    "        self.rn(orig)\n",
    "        x1 = self.up1(self.sfs[3].features)\n",
    "        x2 = self.up2(self.sfs[2].features)\n",
    "        x3 = self.up3(self.sfs[1].features)\n",
    "        x4 = self.up4(self.sfs[0].features) \n",
    "        orig_features =  torch.cat([x1, x2, x3, x4], dim=1)\n",
    "        \n",
    "        self.rn(input)\n",
    "        x1 = self.up1(self.sfs[3].features)\n",
    "        x2 = self.up2(self.sfs[2].features)\n",
    "        x3 = self.up3(self.sfs[1].features)\n",
    "        x4 = self.up4(self.sfs[0].features) \n",
    "        result_features = torch.cat([x1, x2, x3, x4], dim=1)\n",
    "        \n",
    "        orig_up = self.raw_up(orig)\n",
    "        input_up = self.raw_up(orig)\n",
    "        \n",
    "        combined_features = torch.cat([orig_up, input_up, orig_features, result_features], dim=1)      \n",
    "        x = self.upconv(combined_features)\n",
    "        x = self.pyramid(x)\n",
    "        return self.final(x).mean()"
   ]
  },
  {
   "cell_type": "code",
   "execution_count": 17,
   "metadata": {},
   "outputs": [],
   "source": [
    "class Critic2(nn.Module):\n",
    "    @staticmethod\n",
    "    def generate_base_model():\n",
    "        f = resnet34\n",
    "        cut,lr_cut = model_meta[f]\n",
    "        layers = cut_model(f(True), cut)\n",
    "        return nn.Sequential(*layers), lr_cut\n",
    "    \n",
    "    def set_trainable(self, trainable):\n",
    "        set_trainable(self, trainable)\n",
    "        set_trainable(self.rn, False)\n",
    "            \n",
    "    def __init__(self, size, nf_up, nf_mid):\n",
    "        super().__init__()\n",
    " \n",
    "        rn, lr_cut = ImageModifierModel.generate_base_model()\n",
    "        self.rn = rn\n",
    "        set_trainable(self.rn, False)\n",
    "        self.lr_cut = lr_cut\n",
    "        self.sfs = [SaveFeatures(rn[i]) for i in [2,4,5,6]]\n",
    "        \n",
    "        self.up1 = nn.Sequential(*[UpSampleBlock(256,nf_up, 2), UpSampleBlock(nf_up,nf_up, 8)])  #256 in\n",
    "        self.up2 = nn.Sequential(*[UpSampleBlock(128, nf_up, 2), UpSampleBlock(nf_up,nf_up, 4)])  #128 in\n",
    "        self.up3 = nn.Sequential(*[UpSampleBlock(64,nf_up), UpSampleBlock(nf_up,nf_up, 2)])    #64 in\n",
    "        self.up4 = UpSampleBlock(64, nf_up)   #64 in  \n",
    "        self.raw_up = nn.Sequential(*[conv(3, nf_up)])\n",
    "        \n",
    "        mid_layers = [ConvBlock(nf_up*10, nf_mid, 3, 1)]\n",
    "        mid_layers.extend([ConvBlock(nf_mid, nf_mid, 3, 1) for t in range(3)])     \n",
    "        self.mid = nn.Sequential(*mid_layers)  \n",
    "        \n",
    "        pyr_layers = []\n",
    "        csize = size\n",
    "        cndf = nf_mid\n",
    "        \n",
    "        while csize > 8:\n",
    "            pyr_layers.append(ConvBlock(cndf, cndf*2, 4, 2))\n",
    "            cndf *= 2; csize /= 2\n",
    "        self.pyramid = nn.Sequential(*pyr_layers)\n",
    "        \n",
    "        self.final = nn.Conv2d(cndf, 1, 4, padding=0, bias=False)\n",
    "        \n",
    "    def forward(self, input, orig):\n",
    "        self.rn(orig)\n",
    "        x1 = self.up1(self.sfs[3].features)\n",
    "        x2 = self.up2(self.sfs[2].features)\n",
    "        x3 = self.up3(self.sfs[1].features)\n",
    "        x4 = self.up4(self.sfs[0].features) \n",
    "        orig_features =  torch.cat([x1, x2, x3, x4], dim=1)\n",
    "        \n",
    "        self.rn(input)\n",
    "        x1 = self.up1(self.sfs[3].features)\n",
    "        x2 = self.up2(self.sfs[2].features)\n",
    "        x3 = self.up3(self.sfs[1].features)\n",
    "        x4 = self.up4(self.sfs[0].features) \n",
    "        result_features = torch.cat([x1, x2, x3, x4], dim=1)\n",
    "        \n",
    "        orig_up = self.raw_up(orig)\n",
    "        input_up = self.raw_up(orig)\n",
    "        \n",
    "        combined_features = torch.cat([orig_up, input_up, orig_features, result_features], dim=1)      \n",
    "        x = self.mid(combined_features)\n",
    "        x = self.pyramid(x)\n",
    "        return self.final(x).mean()"
   ]
  },
  {
   "cell_type": "markdown",
   "metadata": {},
   "source": [
    "## Training"
   ]
  },
  {
   "cell_type": "code",
   "execution_count": 18,
   "metadata": {},
   "outputs": [],
   "source": [
    "#def train(lrs, session_num: int, cycle_len=2, use_clr_beta=(20,10,0.95,0.85)):\n",
    "#    if session_num > 0:\n",
    "#        learn.load(uid + '_224_' + str(session_num - 1))\n",
    "#    learn.fit(lrs, 1, cycle_len=cycle_len, wds=wd, use_clr_beta=use_clr_beta)\n",
    "#    learn.save(uid + '_224_' + str(session_num))"
   ]
  },
  {
   "cell_type": "code",
   "execution_count": 19,
   "metadata": {},
   "outputs": [],
   "source": [
    "def visualize(md: ImageData, model: nn.Module, start_idx: int, count: int, figsize=(20,20), max_columns=4):\n",
    "    end_index = start_idx + count\n",
    "    idxs = list(range(start_idx,end_index))\n",
    "    #plot_image_outputs_from_model(md.val_ds, model, list(range(start_idx,end_index)), figsize=figsize, max_columns=max_columns)\n",
    "    \n",
    "    image_pairs = []\n",
    "    ds = md.val_ds\n",
    "\n",
    "    for idx in idxs:\n",
    "        x,_=ds[idx]\n",
    "        preds = model(VV(x[None]))\n",
    "        image_pairs.append((ds.denorm(x[None])[0], ds.denorm(preds)[0]))\n",
    "        \n",
    "    num_pairs = len(image_pairs)\n",
    "    num_images = num_pairs * 2\n",
    "    rows, columns = get_num_rows_columns(num_images, max_columns)\n",
    "\n",
    "    fig, axes = plt.subplots(rows, columns, figsize=figsize)\n",
    "    for i,(x,y) in enumerate(image_pairs):\n",
    "        plot_image_from_ndarray(x, axes=axes.flat[i*2])\n",
    "        plot_image_from_ndarray(y, axes=axes.flat[i*2+1])\n",
    "        \n",
    "    display(fig)"
   ]
  },
  {
   "cell_type": "code",
   "execution_count": 20,
   "metadata": {},
   "outputs": [
    {
     "name": "stdout",
     "output_type": "stream",
     "text": [
      "['train_x_bw2color_224/n01440764/n01440764_10026.JPEG', 'train_x_bw2color_224/n01440764/n01440764_10027.JPEG', 'train_x_bw2color_224/n01440764/n01440764_10029.JPEG', 'train_x_bw2color_224/n01440764/n01440764_10040.JPEG', 'train_x_bw2color_224/n01440764/n01440764_10042.JPEG']\n",
      "['train_y_bw2color_224/n01440764/n01440764_10026.JPEG', 'train_y_bw2color_224/n01440764/n01440764_10027.JPEG', 'train_y_bw2color_224/n01440764/n01440764_10029.JPEG', 'train_y_bw2color_224/n01440764/n01440764_10040.JPEG', 'train_y_bw2color_224/n01440764/n01440764_10042.JPEG']\n"
     ]
    }
   ],
   "source": [
    "wd=1e-7\n",
    "bs = 1\n",
    "sz = 224\n",
    "md = get_model_data(image_size=sz, batch_size=bs, keep_pct=keep_pct)\n",
    "netG = ImageModifierModel().cuda()\n",
    "netD = Critic(size=sz, nf_up=32, nf_mid=128).cuda()"
   ]
  },
  {
   "cell_type": "code",
   "execution_count": 21,
   "metadata": {},
   "outputs": [],
   "source": [
    "#optimizerD = optim.RMSprop(filter(lambda p: p.requires_grad,netD.parameters()), lr = 1e-4)\n",
    "#optimizerG = optim.RMSprop(filter(lambda p: p.requires_grad,netG.parameters()), lr = 1e-4)\n",
    "\n",
    "#optimizerD = optim.RMSprop(filter(lambda p: p.requires_grad,netD.parameters()), lr = 1e-3)\n",
    "#optimizerG = optim.RMSprop(filter(lambda p: p.requires_grad,netG.parameters()), lr = 1e-3)\n",
    "\n",
    "optimizerD = optim.RMSprop(filter(lambda p: p.requires_grad,netD.parameters()), lr=5e-6)\n",
    "optimizerG = optim.RMSprop(filter(lambda p: p.requires_grad,netG.parameters()), lr=5e-6)"
   ]
  },
  {
   "cell_type": "code",
   "execution_count": 22,
   "metadata": {},
   "outputs": [],
   "source": [
    "def calc_gradient_penalty(netD, real_data, fake_data, orig_data):\n",
    "    lamda = 10 # Gradient penalty lambda hyperparameter\n",
    "    # print \"real_data: \", real_data.size(), fake_data.size()\n",
    "    alpha = torch.rand(bs, 1)\n",
    "    alpha = alpha.expand(bs, real_data.nelement()//bs).contiguous().view(bs, 3, sz, sz)\n",
    "    alpha = alpha.cuda()\n",
    "    interpolates = alpha * real_data + ((1 - alpha) * fake_data)\n",
    "    interpolates = interpolates.cuda()\n",
    "    interpolates = autograd.Variable(interpolates, requires_grad=True)\n",
    "\n",
    "    disc_interpolates = netD(interpolates, orig_data)\n",
    "\n",
    "    gradients = autograd.grad(outputs=disc_interpolates, inputs=interpolates,\n",
    "                              grad_outputs=torch.ones(disc_interpolates.size()).cuda(),\n",
    "                              create_graph=True, retain_graph=True, only_inputs=True)[0]\n",
    "    gradients = gradients.view(gradients.size(0), -1)\n",
    "\n",
    "    gradient_penalty = ((gradients.norm(2, dim=1) - 1) ** 2).mean() * lamda\n",
    "    return gradient_penalty"
   ]
  },
  {
   "cell_type": "code",
   "execution_count": 23,
   "metadata": {},
   "outputs": [],
   "source": [
    "def train(niter, first=True):\n",
    "    gen_iterations = 0\n",
    "    for epoch in trange(niter):\n",
    "        netD.train(); netG.train()\n",
    "        data_iter = iter(md.trn_dl)\n",
    "        i,n = 0,len(md.trn_dl)\n",
    "        with tqdm(total=n) as pbar:\n",
    "            while i < n:\n",
    "                netD.set_trainable(True)\n",
    "                netG.set_trainable(False)\n",
    "                #d_iters = 1000 if (first and (gen_iterations < 500) or (gen_iterations % 100 == 0)) else 5\n",
    "                #d_iters = 200 if (first and (gen_iterations < 50) or (gen_iterations % 1000 == 0)) else 10\n",
    "                d_iters = 100 if (first and (gen_iterations < 25) or (gen_iterations % 500 == 0)) else 5\n",
    "                #d_iters = 50 if (first and (gen_iterations < 12) or (gen_iterations % 250 == 0)) else 3\n",
    "                #$d_iters = 20 if (first and (gen_iterations < 5) or (gen_iterations % 100 == 0)) else 1\n",
    "                j = 0\n",
    "                while (j < d_iters) and (i < n):\n",
    "                    j += 1; i += 1\n",
    "                    #or p in netD.parameters(): p.data.clamp_(-0.01, 0.01)\n",
    "                    x, y = next(data_iter)\n",
    "                    orig = V(x)\n",
    "                    real = V(y)                        \n",
    "                    #Lower == Real\n",
    "                    real_loss = netD(real, orig)\n",
    "                    fake = netG(orig)\n",
    "                    fake_loss = netD(V(fake.data), orig)\n",
    "                    netD.zero_grad()\n",
    "                          \n",
    "                    #train with gradient penalty\n",
    "                    gradient_penalty = calc_gradient_penalty(netD, real.data, fake.data, orig)\n",
    "                    gradient_penalty.backward()\n",
    "                      \n",
    "                    lossD = real_loss-fake_loss\n",
    "                    lossD.backward()\n",
    "                    optimizerD.step()\n",
    "                    pbar.update()\n",
    "\n",
    "                    \n",
    "                netD.set_trainable(False)\n",
    "                netG.set_trainable(True)\n",
    "                netG.zero_grad()\n",
    "                \n",
    "                x, y = next(data_iter)\n",
    "                orig = V(x)\n",
    "                real = V(y)   \n",
    "                fake = netG(orig)\n",
    "                lossG = netD(fake, orig)\n",
    "                lossG.backward()\n",
    "                optimizerG.step()\n",
    "                gen_iterations += 1\n",
    "                \n",
    "                if gen_iterations % 50 == 0:\n",
    "                    print(f'\\nWDist {to_np(lossD)}; Real Score {to_np(real_loss)}; Fake Score {to_np(fake_loss)}; Gen Loss{to_np(lossG)}')\n",
    "                \n",
    "                if gen_iterations % 500 == 0:\n",
    "                    visualize(md, netG, 500, 8)"
   ]
  },
  {
   "cell_type": "code",
   "execution_count": 24,
   "metadata": {},
   "outputs": [],
   "source": [
    "torch.backends.cudnn.benchmark=True"
   ]
  },
  {
   "cell_type": "code",
   "execution_count": null,
   "metadata": {},
   "outputs": [
    {
     "name": "stdout",
     "output_type": "stream",
     "text": [
      "  0%|          | 605/1268355 [07:17<256:49:31,  1.37it/s]"
     ]
    }
   ],
   "source": [
    "train(1, True)"
   ]
  },
  {
   "cell_type": "code",
   "execution_count": null,
   "metadata": {},
   "outputs": [],
   "source": [
    "visualize(md, netG, 220, 8)"
   ]
  },
  {
   "cell_type": "code",
   "execution_count": null,
   "metadata": {},
   "outputs": [],
   "source": [
    "def generate_denormed_image_pairs(ds: FilesDataset, batches: [(ndarray,ndarray)], idx:int = 0):\n",
    "    return [(ds.denorm(x)[idx], ds.denorm(y)[idx])for (x,y) in batches]"
   ]
  },
  {
   "cell_type": "code",
   "execution_count": null,
   "metadata": {},
   "outputs": [],
   "source": [
    "ds = md.val_ds\n",
    "data_iter = iter(md.trn_dl)\n",
    "x,y=next(data_iter)"
   ]
  },
  {
   "cell_type": "code",
   "execution_count": null,
   "metadata": {},
   "outputs": [],
   "source": [
    "ds.denorm(y)[0]"
   ]
  },
  {
   "cell_type": "code",
   "execution_count": null,
   "metadata": {},
   "outputs": [],
   "source": [
    "y[0]"
   ]
  },
  {
   "cell_type": "code",
   "execution_count": null,
   "metadata": {},
   "outputs": [],
   "source": [
    "x[0]"
   ]
  },
  {
   "cell_type": "code",
   "execution_count": null,
   "metadata": {},
   "outputs": [],
   "source": []
  }
 ],
 "metadata": {
  "kernelspec": {
   "display_name": "Python 3",
   "language": "python",
   "name": "python3"
  },
  "language_info": {
   "codemirror_mode": {
    "name": "ipython",
    "version": 3
   },
   "file_extension": ".py",
   "mimetype": "text/x-python",
   "name": "python",
   "nbconvert_exporter": "python",
   "pygments_lexer": "ipython3",
   "version": "3.6.5"
  },
  "toc": {
   "colors": {
    "hover_highlight": "#DAA520",
    "navigate_num": "#000000",
    "navigate_text": "#333333",
    "running_highlight": "#FF0000",
    "selected_highlight": "#FFD700",
    "sidebar_border": "#EEEEEE",
    "wrapper_background": "#FFFFFF"
   },
   "moveMenuLeft": true,
   "nav_menu": {
    "height": "67px",
    "width": "252px"
   },
   "navigate_menu": true,
   "number_sections": true,
   "sideBar": true,
   "threshold": 4,
   "toc_cell": false,
   "toc_section_display": "block",
   "toc_window_display": false,
   "widenNotebook": false
  }
 },
 "nbformat": 4,
 "nbformat_minor": 2
}
