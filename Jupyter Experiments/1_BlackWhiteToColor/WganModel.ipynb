{
 "cells": [
  {
   "cell_type": "code",
   "execution_count": 1,
   "metadata": {},
   "outputs": [],
   "source": [
    "%matplotlib inline\n",
    "%reload_ext autoreload\n",
    "%autoreload 2"
   ]
  },
  {
   "cell_type": "code",
   "execution_count": 2,
   "metadata": {},
   "outputs": [],
   "source": [
    "import multiprocessing\n",
    "from torch import autograd\n",
    "from fastai.conv_learner import *\n",
    "from fasterai.images import *\n",
    "from fasterai.dataset import *\n",
    "from fasterai.visualize import *\n",
    "from fasterai.callbacks import *\n",
    "from fasterai.loss import *\n",
    "from fasterai.modules import *\n",
    "from fasterai.wgan import *\n",
    "from fasterai.generators import *\n",
    "from fastai.torch_imports import *\n",
    "from pathlib import Path\n",
    "from itertools import repeat\n",
    "import tensorboardX\n",
    "torch.cuda.set_device(0)\n",
    "plt.style.use('dark_background')\n",
    "torch.backends.cudnn.benchmark=True\n"
   ]
  },
  {
   "cell_type": "code",
   "execution_count": 3,
   "metadata": {},
   "outputs": [],
   "source": [
    "DATA_PATH = Path('data/imagenet/ILSVRC/Data/CLS-LOC')\n",
    "TRAIN_SOURCE_PATH = DATA_PATH/'train'\n",
    "proj_id = 'bw2color'\n",
    "TENSORBOARD_PATH = Path('data/tensorboard/WganUnet_RC3')\n",
    "\n",
    "\n",
    "dpath = DATA_PATH/(proj_id + '_1113_D.h5')\n",
    "gpath = DATA_PATH/(proj_id + '_1113_G.h5')\n",
    "keep_pct=1.0\n",
    "bs=12\n",
    "sz=256\n",
    "\n",
    "c_lr=6e-4\n",
    "c_lrs = np.array([c_lr,c_lr,c_lr,c_lr])\n",
    "\n",
    "g_lr=1e-4\n",
    "g_lrs = np.array([g_lr/10000,g_lr/100,g_lr])\n",
    "\n",
    "torch.backends.cudnn.benchmark=True"
   ]
  },
  {
   "cell_type": "markdown",
   "metadata": {},
   "source": [
    "## Training"
   ]
  },
  {
   "cell_type": "code",
   "execution_count": 4,
   "metadata": {},
   "outputs": [],
   "source": [
    "netG = Unet34(nf_factor=2).cuda()\n",
    "netGVis = ModelVisualizationHook(TENSORBOARD_PATH, netG, 'netG')\n",
    "#load_model(netG, gpath)\n",
    "\n",
    "netD = DCCritic(ni=3, nf=128, scale=16).cuda()\n",
    "netDVis = ModelVisualizationHook(TENSORBOARD_PATH, netD, 'netD')\n",
    "#load_model(netD, dpath)"
   ]
  },
  {
   "cell_type": "code",
   "execution_count": 5,
   "metadata": {},
   "outputs": [],
   "source": [
    "md = get_matched_image_model_data(image_size=sz, batch_size=bs, root_data_path=DATA_PATH, train_root_path=TRAIN_SOURCE_PATH, proj_id=proj_id, keep_pct=keep_pct)"
   ]
  },
  {
   "cell_type": "code",
   "execution_count": 6,
   "metadata": {},
   "outputs": [],
   "source": [
    "trainer = WGANTrainer(netD=netD, netG=netG, md=md, bs=bs, sz=sz, dpath=dpath, gpath=gpath, genloss_fns=[FeatureLoss(multiplier=1e5)])\n",
    "trainerVis = WganVisualizationHook(TENSORBOARD_PATH, trainer, 'trainer')"
   ]
  },
  {
   "cell_type": "code",
   "execution_count": null,
   "metadata": {},
   "outputs": [
    {
     "name": "stdout",
     "output_type": "stream",
     "text": [
      " 29%|██▊       | 30260/105697 [6:20:48<13:18:08,  1.58it/s]\n",
      "WDist -306.2317810058594; RScore -212.06729125976562; FScore -518.299072265625; GAddlLoss 5267.126953125; GCount: 15130; GPenalty: 6.326979637145996; GCost: 499.3770446777344; ConPenalty: 96.62876892089844\n",
      " 29%|██▊       | 30280/105697 [6:21:02<13:17:58,  1.58it/s]\n",
      "WDist -274.03924560546875; RScore -204.10916137695312; FScore -478.1484069824219; GAddlLoss 5592.9921875; GCount: 15140; GPenalty: 10.330878257751465; GCost: 388.73394775390625; ConPenalty: 129.02268981933594\n",
      " 29%|██▊       | 30300/105697 [6:21:16<13:20:54,  1.57it/s]\n",
      "WDist -140.85427856445312; RScore -287.14910888671875; FScore -428.0033874511719; GAddlLoss 4472.87939453125; GCount: 15150; GPenalty: 11.350430488586426; GCost: 470.8115234375; ConPenalty: 158.89366149902344\n",
      " 29%|██▊       | 30320/105697 [6:21:29<13:19:32,  1.57it/s]\n",
      "WDist -116.58111572265625; RScore -373.71917724609375; FScore -490.30029296875; GAddlLoss 4567.39501953125; GCount: 15160; GPenalty: 12.774934768676758; GCost: 449.775390625; ConPenalty: 103.35227966308594\n",
      " 29%|██▊       | 30340/105697 [6:21:43<13:12:45,  1.58it/s]\n",
      "WDist 106.68719482421875; RScore -476.15838623046875; FScore -369.47119140625; GAddlLoss 5891.28955078125; GCount: 15170; GPenalty: 6.724482536315918; GCost: 464.6470947265625; ConPenalty: 59.470882415771484\n",
      " 29%|██▊       | 30360/105697 [6:21:57<13:13:21,  1.58it/s]\n",
      "WDist 31.520904541015625; RScore -387.54833984375; FScore -356.0274353027344; GAddlLoss 5611.6484375; GCount: 15180; GPenalty: 7.866454124450684; GCost: 425.7090759277344; ConPenalty: 118.83220672607422\n",
      " 29%|██▊       | 30380/105697 [6:22:11<13:13:25,  1.58it/s]\n",
      "WDist -116.27926635742188; RScore -197.50552368164062; FScore -313.7847900390625; GAddlLoss 5780.490234375; GCount: 15190; GPenalty: 3.1236572265625; GCost: 359.51947021484375; ConPenalty: 93.73687744140625\n",
      " 29%|██▉       | 30400/105697 [6:22:25<13:16:00,  1.58it/s]\n",
      "WDist -105.62322998046875; RScore -261.842041015625; FScore -367.46527099609375; GAddlLoss 5552.63916015625; GCount: 15200; GPenalty: 6.407842636108398; GCost: 326.0467529296875; ConPenalty: 87.51089477539062\n",
      " 29%|██▉       | 30410/105697 [6:22:42<15:51:23,  1.32it/s]"
     ]
    }
   ],
   "source": [
    "#netG.freeze_to(1)\n",
    "trainer.train(lrs_critic=c_lrs, lrs_gen=g_lrs, clr_critic=(1,8, 0.9, 0.9), clr_gen=(1,8, 0.9, 0.9), cycle_len=1, epochs=1)"
   ]
  },
  {
   "cell_type": "code",
   "execution_count": null,
   "metadata": {},
   "outputs": [],
   "source": []
  },
  {
   "cell_type": "code",
   "execution_count": null,
   "metadata": {},
   "outputs": [],
   "source": []
  }
 ],
 "metadata": {
  "kernelspec": {
   "display_name": "Python 3",
   "language": "python",
   "name": "python3"
  },
  "language_info": {
   "codemirror_mode": {
    "name": "ipython",
    "version": 3
   },
   "file_extension": ".py",
   "mimetype": "text/x-python",
   "name": "python",
   "nbconvert_exporter": "python",
   "pygments_lexer": "ipython3",
   "version": "3.6.5"
  },
  "toc": {
   "colors": {
    "hover_highlight": "#DAA520",
    "navigate_num": "#000000",
    "navigate_text": "#333333",
    "running_highlight": "#FF0000",
    "selected_highlight": "#FFD700",
    "sidebar_border": "#EEEEEE",
    "wrapper_background": "#FFFFFF"
   },
   "moveMenuLeft": true,
   "nav_menu": {
    "height": "67px",
    "width": "252px"
   },
   "navigate_menu": true,
   "number_sections": true,
   "sideBar": true,
   "threshold": 4,
   "toc_cell": false,
   "toc_section_display": "block",
   "toc_window_display": false,
   "widenNotebook": false
  }
 },
 "nbformat": 4,
 "nbformat_minor": 2
}
