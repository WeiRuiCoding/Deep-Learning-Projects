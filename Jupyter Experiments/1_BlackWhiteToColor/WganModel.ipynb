{
 "cells": [
  {
   "cell_type": "code",
   "execution_count": null,
   "metadata": {},
   "outputs": [],
   "source": [
    "%matplotlib inline\n",
    "%reload_ext autoreload\n",
    "%autoreload 2"
   ]
  },
  {
   "cell_type": "code",
   "execution_count": null,
   "metadata": {},
   "outputs": [],
   "source": [
    "import multiprocessing\n",
    "from torch import autograd\n",
    "from fastai.conv_learner import *\n",
    "from fasterai.images import *\n",
    "from fasterai.dataset import *\n",
    "from fasterai.visualize import *\n",
    "from fasterai.callbacks import *\n",
    "from fasterai.loss import *\n",
    "from fasterai.modules import *\n",
    "from fasterai.wgan import *\n",
    "from fasterai.generators import *\n",
    "from fastai.torch_imports import *\n",
    "from pathlib import Path\n",
    "from itertools import repeat\n",
    "import tensorboardX\n",
    "torch.cuda.set_device(3)\n",
    "plt.style.use('dark_background')\n",
    "torch.backends.cudnn.benchmark=True\n"
   ]
  },
  {
   "cell_type": "code",
   "execution_count": null,
   "metadata": {},
   "outputs": [],
   "source": [
    "DATA_PATH = Path('data/imagenet/ILSVRC/Data/CLS-LOC')\n",
    "TRAIN_SOURCE_PATH = DATA_PATH/'train'\n",
    "proj_id = 'bw2color'\n",
    "TENSORBOARD_PATH = Path('data/tensorboard/WganModelV2_16_MultiGood2')\n",
    "\n",
    "\n",
    "dpath = DATA_PATH/(proj_id + '_54332_D.h5')\n",
    "gpath = DATA_PATH/(proj_id + '_54332_G.h5')\n",
    "keep_pct=1.0\n",
    "bs=8\n",
    "sz=224\n",
    "\n",
    "c_lr=6e-4\n",
    "c_lrs = np.array([c_lr,c_lr,c_lr,c_lr])\n",
    "\n",
    "g_lr=2e-4\n",
    "g_lrs = np.array([g_lr/10000,g_lr/100,g_lr])\n",
    "\n",
    "torch.backends.cudnn.benchmark=True"
   ]
  },
  {
   "cell_type": "markdown",
   "metadata": {},
   "source": [
    "## Training"
   ]
  },
  {
   "cell_type": "code",
   "execution_count": null,
   "metadata": {},
   "outputs": [],
   "source": [
    "netG = Unet34(nf_factor=2).cuda()\n",
    "netGVis = ModelVisualizationHook(TENSORBOARD_PATH, netG, 'netG')\n",
    "#load_model(netG, gpath)\n",
    "\n",
    "netD = DCCritic(ni=3, nf=128, sz=sz, scale=16).cuda()\n",
    "netDVis = ModelVisualizationHook(TENSORBOARD_PATH, netD, 'netD')\n",
    "#load_model(netD, dpath)"
   ]
  },
  {
   "cell_type": "code",
   "execution_count": null,
   "metadata": {},
   "outputs": [],
   "source": [
    "md = get_matched_image_model_data(image_size=sz, batch_size=bs, root_data_path=DATA_PATH, train_root_path=TRAIN_SOURCE_PATH, proj_id=proj_id, keep_pct=keep_pct)"
   ]
  },
  {
   "cell_type": "code",
   "execution_count": null,
   "metadata": {},
   "outputs": [],
   "source": [
    "trainer = WGANTrainer(netD=netD, netG=netG, md=md, bs=bs, sz=sz, dpath=dpath, gpath=gpath, genloss_fns=[FeatureLoss(multiplier=1e5)])\n",
    "trainerVis = WganVisualizationHook(TENSORBOARD_PATH, trainer, 'trainer')"
   ]
  },
  {
   "cell_type": "code",
   "execution_count": null,
   "metadata": {},
   "outputs": [
    {
     "name": "stdout",
     "output_type": "stream",
     "text": [
      "\n",
      "WDist -98.3441390991211; RScore -108.22945404052734; FScore -206.57359313964844; GAddlLoss 1665.4921875; GCount: 48400; GPenalty: 11.772364616394043; GCost: 151.54843139648438; ConPenalty: 52.19490432739258\n",
      " 61%|██████    | 96820/158545 [15:22:50<8:46:47,  1.95it/s]\n",
      "WDist -156.45787048339844; RScore 264.54266357421875; FScore 108.08479309082031; GAddlLoss 2258.3359375; GCount: 48410; GPenalty: 29.122684478759766; GCost: -44.19493103027344; ConPenalty: 75.19851684570312\n",
      " 61%|██████    | 96840/158545 [15:23:00<8:53:07,  1.93it/s]\n",
      "WDist -144.06027221679688; RScore 221.76754760742188; FScore 77.70726776123047; GAddlLoss 1917.5963134765625; GCount: 48420; GPenalty: 27.05652618408203; GCost: -92.35336303710938; ConPenalty: 167.45034790039062\n",
      " 61%|██████    | 96860/158545 [15:23:10<8:42:31,  1.97it/s]\n",
      "WDist -108.52520751953125; RScore 141.55657958984375; FScore 33.031375885009766; GAddlLoss 2207.07470703125; GCount: 48430; GPenalty: 20.82954216003418; GCost: 89.9416732788086; ConPenalty: 81.71178436279297\n",
      " 61%|██████    | 96880/158545 [15:23:19<8:44:32,  1.96it/s]\n",
      "WDist -32.11225891113281; RScore -59.583343505859375; FScore -91.69560241699219; GAddlLoss 1942.416259765625; GCount: 48440; GPenalty: 12.647726058959961; GCost: 73.48524475097656; ConPenalty: 50.34550857543945\n",
      " 61%|██████    | 96900/158545 [15:23:29<8:41:49,  1.97it/s]\n",
      "WDist 11.842514038085938; RScore -199.29212951660156; FScore -187.44961547851562; GAddlLoss 1866.911865234375; GCount: 48450; GPenalty: 10.675071716308594; GCost: 75.13983154296875; ConPenalty: 59.524967193603516\n",
      " 61%|██████    | 96920/158545 [15:23:39<8:46:47,  1.95it/s]\n",
      "WDist -76.93051147460938; RScore -125.48478698730469; FScore -202.41529846191406; GAddlLoss 2406.902099609375; GCount: 48460; GPenalty: 9.205004692077637; GCost: 66.9389419555664; ConPenalty: 77.4260025024414\n",
      " 61%|██████    | 96940/158545 [15:23:48<8:44:43,  1.96it/s]\n",
      "WDist -244.75579833984375; RScore 143.67620849609375; FScore -101.07959747314453; GAddlLoss 1981.8826904296875; GCount: 48470; GPenalty: 16.42695426940918; GCost: 81.97592163085938; ConPenalty: 81.37216186523438\n",
      " 61%|██████    | 96960/158545 [15:23:58<8:42:38,  1.96it/s]\n",
      "WDist -181.31353759765625; RScore -15.321048736572266; FScore -196.63458251953125; GAddlLoss 2033.89453125; GCount: 48480; GPenalty: 16.131189346313477; GCost: 160.66664123535156; ConPenalty: 68.7222900390625\n",
      " 61%|██████    | 96980/158545 [15:24:13<8:46:46,  1.95it/s]\n",
      "WDist -295.1736755371094; RScore 251.17604064941406; FScore -43.99764633178711; GAddlLoss 2011.3358154296875; GCount: 48490; GPenalty: 17.709815979003906; GCost: 222.6220245361328; ConPenalty: 58.903297424316406\n",
      " 61%|██████    | 97000/158545 [15:24:22<8:53:04,  1.92it/s]\n",
      "WDist -348.3939208984375; RScore 208.3139190673828; FScore -140.0800018310547; GAddlLoss 1875.47705078125; GCount: 48500; GPenalty: 16.571186065673828; GCost: 113.29927062988281; ConPenalty: 100.57862854003906\n",
      " 61%|██████    | 97020/158545 [15:24:36<9:45:27,  1.75it/s]\n",
      "WDist -7.47003173828125; RScore -133.82742309570312; FScore -141.29745483398438; GAddlLoss 1952.2069091796875; GCount: 48510; GPenalty: 15.131491661071777; GCost: 232.63247680664062; ConPenalty: 106.96043395996094\n",
      " 61%|██████    | 97040/158545 [15:24:45<9:47:59,  1.74it/s]\n",
      "WDist -102.28556060791016; RScore -55.92974090576172; FScore -158.21530151367188; GAddlLoss 2090.419189453125; GCount: 48520; GPenalty: 6.245019435882568; GCost: 207.95989990234375; ConPenalty: 98.8265151977539\n",
      " 61%|██████    | 97060/158545 [15:24:55<9:43:32,  1.76it/s]\n",
      "WDist -100.36734771728516; RScore -0.1854095458984375; FScore -100.5527572631836; GAddlLoss 2245.783935546875; GCount: 48530; GPenalty: 9.98475456237793; GCost: 162.2720184326172; ConPenalty: 77.43291473388672\n",
      " 61%|██████    | 97080/158545 [15:25:05<9:37:15,  1.77it/s]\n",
      "WDist 17.67498016357422; RScore -111.0657730102539; FScore -93.39079284667969; GAddlLoss 2033.4600830078125; GCount: 48540; GPenalty: 15.726929664611816; GCost: 81.85061645507812; ConPenalty: 100.52740478515625\n",
      " 61%|██████    | 97100/158545 [15:25:14<9:39:07,  1.77it/s]\n",
      "WDist -181.71266174316406; RScore 78.72894287109375; FScore -102.98371887207031; GAddlLoss 1775.1390380859375; GCount: 48550; GPenalty: 19.240631103515625; GCost: 46.85721969604492; ConPenalty: 108.8338851928711\n",
      " 61%|██████▏   | 97120/158545 [15:25:24<9:53:10,  1.73it/s]\n",
      "WDist -149.34230041503906; RScore 247.17010498046875; FScore 97.82780456542969; GAddlLoss 1927.8101806640625; GCount: 48560; GPenalty: 19.812328338623047; GCost: 84.78547668457031; ConPenalty: 154.89166259765625\n",
      " 61%|██████▏   | 97140/158545 [15:25:37<9:42:58,  1.76it/s]\n",
      "WDist -61.301918029785156; RScore -61.57737731933594; FScore -122.8792953491211; GAddlLoss 2012.4625244140625; GCount: 48570; GPenalty: 16.12673568725586; GCost: -50.78282165527344; ConPenalty: 92.36995697021484\n",
      " 61%|██████▏   | 97160/158545 [15:25:47<9:41:09,  1.76it/s]\n",
      "WDist -248.4326171875; RScore 205.48489379882812; FScore -42.94772720336914; GAddlLoss 1808.10205078125; GCount: 48580; GPenalty: 12.260110855102539; GCost: 54.11566925048828; ConPenalty: 142.4353485107422\n",
      " 61%|██████▏   | 97180/158545 [15:25:57<9:44:12,  1.75it/s]\n",
      "WDist 20.311965942382812; RScore -169.87062072753906; FScore -149.55865478515625; GAddlLoss 1757.0517578125; GCount: 48590; GPenalty: 6.404489994049072; GCost: 152.87466430664062; ConPenalty: 69.70094299316406\n",
      " 61%|██████▏   | 97200/158545 [15:26:06<9:35:19,  1.78it/s]\n",
      "WDist -259.71258544921875; RScore 38.438499450683594; FScore -221.2740936279297; GAddlLoss 1929.919189453125; GCount: 48600; GPenalty: 9.909064292907715; GCost: 197.76805114746094; ConPenalty: 99.00386810302734\n",
      " 61%|██████▏   | 97220/158545 [15:26:17<7:55:49,  2.15it/s]\n",
      "WDist 120.43968963623047; RScore -146.3385772705078; FScore -25.898887634277344; GAddlLoss 1744.4423828125; GCount: 48610; GPenalty: 8.124032020568848; GCost: 123.3123550415039; ConPenalty: 88.15032958984375\n",
      " 61%|██████▏   | 97240/158545 [15:26:27<8:07:33,  2.10it/s]\n",
      "WDist -186.04373168945312; RScore -16.214500427246094; FScore -202.25823974609375; GAddlLoss 1865.025390625; GCount: 48620; GPenalty: 5.204409599304199; GCost: 221.56056213378906; ConPenalty: 71.34148406982422\n",
      " 61%|██████▏   | 97260/158545 [15:26:36<7:49:52,  2.17it/s]\n",
      "WDist -233.10305786132812; RScore 143.2137908935547; FScore -89.88927459716797; GAddlLoss 1761.489013671875; GCount: 48630; GPenalty: 9.30514144897461; GCost: 239.87283325195312; ConPenalty: 91.84648895263672\n"
     ]
    }
   ],
   "source": [
    "#netG.freeze_to(1)\n",
    "trainer.train(lrs_critic=c_lrs, lrs_gen=g_lrs, clr_critic=(1,8, 0.9, 0.9), clr_gen=(1,8, 0.9, 0.9), cycle_len=1, epochs=1)"
   ]
  },
  {
   "cell_type": "code",
   "execution_count": null,
   "metadata": {},
   "outputs": [],
   "source": []
  },
  {
   "cell_type": "code",
   "execution_count": null,
   "metadata": {},
   "outputs": [],
   "source": []
  }
 ],
 "metadata": {
  "kernelspec": {
   "display_name": "Python 3",
   "language": "python",
   "name": "python3"
  },
  "language_info": {
   "codemirror_mode": {
    "name": "ipython",
    "version": 3
   },
   "file_extension": ".py",
   "mimetype": "text/x-python",
   "name": "python",
   "nbconvert_exporter": "python",
   "pygments_lexer": "ipython3",
   "version": "3.6.5"
  },
  "toc": {
   "colors": {
    "hover_highlight": "#DAA520",
    "navigate_num": "#000000",
    "navigate_text": "#333333",
    "running_highlight": "#FF0000",
    "selected_highlight": "#FFD700",
    "sidebar_border": "#EEEEEE",
    "wrapper_background": "#FFFFFF"
   },
   "moveMenuLeft": true,
   "nav_menu": {
    "height": "67px",
    "width": "252px"
   },
   "navigate_menu": true,
   "number_sections": true,
   "sideBar": true,
   "threshold": 4,
   "toc_cell": false,
   "toc_section_display": "block",
   "toc_window_display": false,
   "widenNotebook": false
  }
 },
 "nbformat": 4,
 "nbformat_minor": 2
}
