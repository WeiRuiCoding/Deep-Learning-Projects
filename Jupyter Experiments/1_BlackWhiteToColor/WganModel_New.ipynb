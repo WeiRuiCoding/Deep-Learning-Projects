{
 "cells": [
  {
   "cell_type": "code",
   "execution_count": 1,
   "metadata": {},
   "outputs": [],
   "source": [
    "%matplotlib inline\n",
    "%reload_ext autoreload\n",
    "%autoreload 2"
   ]
  },
  {
   "cell_type": "code",
   "execution_count": 2,
   "metadata": {},
   "outputs": [],
   "source": [
    "import multiprocessing\n",
    "from torch import autograd\n",
    "from fastai.conv_learner import *\n",
    "from fastai.transforms import TfmType\n",
    "from fasterai.transforms import *\n",
    "from fasterai.images import *\n",
    "from fasterai.dataset import *\n",
    "from fasterai.visualize import *\n",
    "from fasterai.callbacks import *\n",
    "from fasterai.loss import *\n",
    "from fasterai.modules import *\n",
    "from fasterai.wgan import *\n",
    "from fasterai.generators import *\n",
    "from fastai.torch_imports import *\n",
    "from pathlib import Path\n",
    "from itertools import repeat\n",
    "import tensorboardX\n",
    "torch.cuda.set_device(0)\n",
    "plt.style.use('dark_background')\n",
    "torch.backends.cudnn.benchmark=True\n"
   ]
  },
  {
   "cell_type": "code",
   "execution_count": 3,
   "metadata": {},
   "outputs": [],
   "source": [
    "#TEST NOTES:  First attempt on new training schedule functionality.\n",
    "IMAGENET = Path('data/imagenet/ILSVRC/Data/CLS-LOC/train')\n",
    "CIFAR10 = Path('data/cifar10/train')\n",
    "\n",
    "proj_id = 'bw2color_WganUnetSched'\n",
    "TENSORBOARD_PATH = Path('data/tensorboard/' + proj_id)\n",
    "\n",
    "c_lr=1e-3\n",
    "c_lrs = np.array([c_lr,c_lr,c_lr])\n",
    "\n",
    "g_lr=c_lr/3\n",
    "g_lrs = np.array([g_lr/10000,g_lr/100,g_lr])\n",
    "\n",
    "x_tfms = [BlackAndWhiteTransform()]\n",
    "torch.backends.cudnn.benchmark=True"
   ]
  },
  {
   "cell_type": "markdown",
   "metadata": {},
   "source": [
    "## Training"
   ]
  },
  {
   "cell_type": "code",
   "execution_count": 4,
   "metadata": {},
   "outputs": [],
   "source": [
    "netG = Unet34(nf_factor=1, self_attention=True).cuda()\n",
    "#netGVis = ModelVisualizationHook(TENSORBOARD_PATH, netG, 'netG')\n",
    "#load_model(netG, gpath)\n",
    "\n",
    "netD = DCCritic(ni=3, nf=256, scale=32, self_attention=True).cuda()\n",
    "#netDVis = ModelVisualizationHook(TENSORBOARD_PATH, netD, 'netD')\n",
    "#load_model(netD, dpath)"
   ]
  },
  {
   "cell_type": "code",
   "execution_count": 5,
   "metadata": {},
   "outputs": [],
   "source": [
    "trainer = WGANTrainer(netD=netD, netG=netG, genloss_fns=[FeatureLoss(multiplier=1e5)])\n",
    "trainerVis = WganVisualizationHook(TENSORBOARD_PATH, trainer, 'trainer')"
   ]
  },
  {
   "cell_type": "code",
   "execution_count": 6,
   "metadata": {},
   "outputs": [],
   "source": [
    "scheds=[]\n",
    "scheds.extend(WGANTrainSchedule.generate_schedules(szs=[64,128,256], bss=[64,16,4], path=IMAGENET, x_tfms=x_tfms, keep_pcts=[0.5,0.2,0.1], save_base_name=proj_id, \n",
    "        critic_lrs_start=c_lrs, gen_lrs_start=g_lrs, lrs_change_factor=0.5, random_seed=42))"
   ]
  },
  {
   "cell_type": "code",
   "execution_count": null,
   "metadata": {},
   "outputs": [
    {
     "name": "stdout",
     "output_type": "stream",
     "text": [
      "  0%|          | 0/1 [00:00<?, ?it/s]"
     ]
    },
    {
     "name": "stderr",
     "output_type": "stream",
     "text": [
      "/home/jason/anaconda3/envs/fastai/lib/python3.6/site-packages/torch/onnx/symbolic.py:130: UserWarning: ONNX export failed on dim because ONNX and PyTorch use different strategies to split the input. not supported\n",
      "  warnings.warn(\"ONNX export failed on \" + op + \" because \" + msg + \" not supported\")\n",
      "/media/jason/Projects/Deep Learning/Deep Learning Projects/Jupyter Experiments/1_BlackWhiteToColor/fasterai/generators.py:130: TracerWarning: Converting a tensor to a Python boolean might cause the trace to be incorrect. We can't record the data flow of Python values, so this value will be treated as a constant in the future. This means that the trace might not generalize to other inputs!\n",
      "  if h<target_h or w<target_w:\n"
     ]
    },
    {
     "name": "stdout",
     "output_type": "stream",
     "text": [
      "Failed to generate graph for model: %43 : Long() = onnx::Constant[value={0}]()\n",
      " has empty scope name. Note that there's an outstanding issue with scopes being addressed here:  https://github.com/pytorch/pytorch/pull/12400\n",
      "Failed to generate graph for model: %465 : Long() = onnx::Constant[value={2}]()\n",
      " has empty scope name. Note that there's an outstanding issue with scopes being addressed here:  https://github.com/pytorch/pytorch/pull/12400\n",
      "  0%|          | 0/19819 [00:00<?, ?it/s]"
     ]
    },
    {
     "name": "stderr",
     "output_type": "stream",
     "text": [
      "/home/jason/anaconda3/envs/fastai/lib/python3.6/site-packages/torch/onnx/symbolic.py:130: UserWarning: ONNX export failed on dim because ONNX and PyTorch use different strategies to split the input. not supported\n",
      "  warnings.warn(\"ONNX export failed on \" + op + \" because \" + msg + \" not supported\")\n"
     ]
    },
    {
     "name": "stdout",
     "output_type": "stream",
     "text": [
      "  0%|          | 20/19819 [00:24<2:46:03,  1.99it/s]\n",
      "WDist -55.40673065185547; RScore 123.07626342773438; FScore 67.6695327758789; GAddlLoss 7897.1298828125; Iters: 20; GCost: -27.250226974487305; EpsPenalty: 1.514776587486267\n",
      "  0%|          | 40/19819 [00:34<2:38:42,  2.08it/s]\n",
      "WDist -87.92462921142578; RScore 173.63954162597656; FScore 85.71491241455078; GAddlLoss 7621.279296875; Iters: 40; GCost: -76.99665832519531; EpsPenalty: 3.015068769454956\n",
      "  0%|          | 60/19819 [01:01<3:44:54,  1.46it/s]\n",
      "WDist -48.70841979980469; RScore 168.2924041748047; FScore 119.583984375; GAddlLoss 7509.36181640625; Iters: 60; GCost: -108.79192352294922; EpsPenalty: 2.832233428955078\n",
      "  0%|          | 80/19819 [01:11<2:37:09,  2.09it/s]\n",
      "WDist -1.8136138916015625; RScore 182.35531616210938; FScore 180.5417022705078; GAddlLoss 6518.28369140625; Iters: 80; GCost: -180.62881469726562; EpsPenalty: 3.325345993041992\n",
      "  1%|          | 100/19819 [01:22<2:38:36,  2.07it/s]\n",
      "WDist -2.725982666015625; RScore 179.84620666503906; FScore 177.12022399902344; GAddlLoss 7163.20556640625; Iters: 100; GCost: -157.76776123046875; EpsPenalty: 3.2344658374786377\n",
      "  1%|          | 120/19819 [01:48<2:40:50,  2.04it/s]\n",
      "WDist -19.763717651367188; RScore 165.93553161621094; FScore 146.17181396484375; GAddlLoss 6352.30322265625; Iters: 120; GCost: -131.70152282714844; EpsPenalty: 2.753460168838501\n",
      "  1%|          | 140/19819 [01:58<2:34:47,  2.12it/s]\n",
      "WDist -15.618011474609375; RScore 152.5745849609375; FScore 136.95657348632812; GAddlLoss 6091.32275390625; Iters: 140; GCost: -136.82740783691406; EpsPenalty: 2.3279004096984863\n",
      "  1%|          | 160/19819 [02:24<3:37:17,  1.51it/s]\n",
      "WDist -28.002944946289062; RScore 152.04225158691406; FScore 124.039306640625; GAddlLoss 6418.619140625; Iters: 160; GCost: -125.3955307006836; EpsPenalty: 2.3116846084594727\n",
      "  1%|          | 180/19819 [02:44<3:05:22,  1.77it/s]\n",
      "WDist -34.05760955810547; RScore 130.82615661621094; FScore 96.76854705810547; GAddlLoss 6804.5751953125; Iters: 180; GCost: -94.4504165649414; EpsPenalty: 1.7115482091903687\n",
      "  1%|          | 200/19819 [02:55<2:49:27,  1.93it/s]\n",
      "WDist -37.98817443847656; RScore 119.5822525024414; FScore 81.59407806396484; GAddlLoss 6435.24462890625; Iters: 200; GCost: -83.59796142578125; EpsPenalty: 1.4299914836883545\n",
      "  1%|          | 220/19819 [03:23<2:38:27,  2.06it/s]\n",
      "WDist -21.878501892089844; RScore 87.7821273803711; FScore 65.90362548828125; GAddlLoss 6436.96728515625; Iters: 220; GCost: -56.60564041137695; EpsPenalty: 0.7705701589584351\n",
      "  1%|          | 240/19819 [03:34<2:36:38,  2.08it/s]\n",
      "WDist -39.21671676635742; RScore 95.32730102539062; FScore 56.1105842590332; GAddlLoss 6087.4951171875; Iters: 240; GCost: -44.13124465942383; EpsPenalty: 0.9087293744087219\n",
      "  1%|▏         | 260/19819 [04:00<3:42:19,  1.47it/s]\n",
      "WDist -29.034107208251953; RScore 71.33895111083984; FScore 42.30484390258789; GAddlLoss 5920.17529296875; Iters: 260; GCost: -39.8100700378418; EpsPenalty: 0.5089246034622192\n",
      "  1%|▏         | 280/19819 [04:10<2:35:30,  2.09it/s]\n",
      "WDist -37.7222900390625; RScore 61.756507873535156; FScore 24.034217834472656; GAddlLoss 6498.5625; Iters: 280; GCost: -23.164718627929688; EpsPenalty: 0.3813866078853607\n",
      "  2%|▏         | 300/19819 [04:20<2:34:04,  2.11it/s]\n",
      "WDist -38.17325973510742; RScore 53.01689529418945; FScore 14.843636512756348; GAddlLoss 6565.9619140625; Iters: 300; GCost: -20.111112594604492; EpsPenalty: 0.28107911348342896\n",
      "  2%|▏         | 320/19819 [04:46<2:35:45,  2.09it/s]\n",
      "WDist -51.688743591308594; RScore 78.95211791992188; FScore 27.26337432861328; GAddlLoss 6292.75830078125; Iters: 320; GCost: -20.7155818939209; EpsPenalty: 0.6233437061309814\n",
      "  2%|▏         | 340/19819 [05:13<6:46:03,  1.25s/it]\n",
      "WDist -83.2301025390625; RScore 120.51959228515625; FScore 37.28948974609375; GAddlLoss 6994.4873046875; Iters: 340; GCost: -48.403831481933594; EpsPenalty: 1.452497124671936\n",
      "  2%|▏         | 350/19819 [05:18<2:44:06,  1.98it/s]"
     ]
    }
   ],
   "source": [
    "netG.freeze_to(1)\n",
    "trainer.train(scheds=scheds)"
   ]
  },
  {
   "cell_type": "code",
   "execution_count": null,
   "metadata": {},
   "outputs": [],
   "source": []
  }
 ],
 "metadata": {
  "kernelspec": {
   "display_name": "Python 3",
   "language": "python",
   "name": "python3"
  },
  "language_info": {
   "codemirror_mode": {
    "name": "ipython",
    "version": 3
   },
   "file_extension": ".py",
   "mimetype": "text/x-python",
   "name": "python",
   "nbconvert_exporter": "python",
   "pygments_lexer": "ipython3",
   "version": "3.6.5"
  },
  "toc": {
   "colors": {
    "hover_highlight": "#DAA520",
    "navigate_num": "#000000",
    "navigate_text": "#333333",
    "running_highlight": "#FF0000",
    "selected_highlight": "#FFD700",
    "sidebar_border": "#EEEEEE",
    "wrapper_background": "#FFFFFF"
   },
   "moveMenuLeft": true,
   "nav_menu": {
    "height": "67px",
    "width": "252px"
   },
   "navigate_menu": true,
   "number_sections": true,
   "sideBar": true,
   "threshold": 4,
   "toc_cell": false,
   "toc_section_display": "block",
   "toc_window_display": false,
   "widenNotebook": false
  }
 },
 "nbformat": 4,
 "nbformat_minor": 2
}
